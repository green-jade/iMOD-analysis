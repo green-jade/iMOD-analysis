{
 "cells": [
  {
   "attachments": {},
   "cell_type": "markdown",
   "metadata": {},
   "source": [
    "# Environment Setting"
   ]
  },
  {
   "cell_type": "code",
   "execution_count": 2,
   "metadata": {},
   "outputs": [],
   "source": [
    "import pandas as pd"
   ]
  },
  {
   "attachments": {},
   "cell_type": "markdown",
   "metadata": {},
   "source": [
    "# Data Import & Preview"
   ]
  },
  {
   "cell_type": "code",
   "execution_count": 62,
   "metadata": {},
   "outputs": [
    {
     "name": "stderr",
     "output_type": "stream",
     "text": [
      "C:\\Users\\happy\\AppData\\Local\\Packages\\PythonSoftwareFoundation.Python.3.9_qbz5n2kfra8p0\\LocalCache\\local-packages\\Python39\\site-packages\\IPython\\core\\interactiveshell.py:3251: DtypeWarning: Columns (14) have mixed types.Specify dtype option on import or set low_memory=False.\n",
      "  exec(code_obj, self.user_global_ns, self.user_ns)\n"
     ]
    }
   ],
   "source": [
    "order = pd.read_csv('order_list.csv')\n",
    "station = pd.read_csv('station_list.csv')\n",
    "user = pd.read_csv('user_list.csv')"
   ]
  },
  {
   "cell_type": "code",
   "execution_count": 50,
   "metadata": {},
   "outputs": [
    {
     "data": {
      "text/html": [
       "<div>\n",
       "<style scoped>\n",
       "    .dataframe tbody tr th:only-of-type {\n",
       "        vertical-align: middle;\n",
       "    }\n",
       "\n",
       "    .dataframe tbody tr th {\n",
       "        vertical-align: top;\n",
       "    }\n",
       "\n",
       "    .dataframe thead th {\n",
       "        text-align: right;\n",
       "    }\n",
       "</style>\n",
       "<table border=\"1\" class=\"dataframe\">\n",
       "  <thead>\n",
       "    <tr style=\"text-align: right;\">\n",
       "      <th></th>\n",
       "      <th>이용자ID</th>\n",
       "      <th>호출일시</th>\n",
       "      <th>호출장소</th>\n",
       "      <th>탑승일시</th>\n",
       "      <th>탑승정류장</th>\n",
       "      <th>하차일시</th>\n",
       "      <th>하차정류장</th>\n",
       "      <th>어른(명)</th>\n",
       "      <th>청소년(명)</th>\n",
       "      <th>어린이(명)</th>\n",
       "      <th>이동거리(m)</th>\n",
       "      <th>요금(원)</th>\n",
       "      <th>배차상태</th>\n",
       "      <th>배차상태상세</th>\n",
       "      <th>배차성공일시</th>\n",
       "      <th>취소일시</th>\n",
       "    </tr>\n",
       "  </thead>\n",
       "  <tbody>\n",
       "    <tr>\n",
       "      <th>0</th>\n",
       "      <td>11506</td>\n",
       "      <td>0054-05-16 16:38:12.000000</td>\n",
       "      <td>(37.49335710216712,126.49071292910158)</td>\n",
       "      <td>NaN</td>\n",
       "      <td>10109</td>\n",
       "      <td>NaN</td>\n",
       "      <td>12007</td>\n",
       "      <td>1</td>\n",
       "      <td>0</td>\n",
       "      <td>0</td>\n",
       "      <td>870</td>\n",
       "      <td>1800</td>\n",
       "      <td>탑승취소</td>\n",
       "      <td>개인사정</td>\n",
       "      <td>2021-07-30 16:38:19.000000</td>\n",
       "      <td>2021-07-30 16:38:39.000000</td>\n",
       "    </tr>\n",
       "    <tr>\n",
       "      <th>1</th>\n",
       "      <td>1</td>\n",
       "      <td>2021-02-15 00:00:24.000000</td>\n",
       "      <td>(37.508301689901344,126.51395666732049)</td>\n",
       "      <td>NaN</td>\n",
       "      <td>10258</td>\n",
       "      <td>NaN</td>\n",
       "      <td>10093</td>\n",
       "      <td>1</td>\n",
       "      <td>0</td>\n",
       "      <td>0</td>\n",
       "      <td>0</td>\n",
       "      <td>0</td>\n",
       "      <td>배차불가</td>\n",
       "      <td>NaN</td>\n",
       "      <td>NaN</td>\n",
       "      <td>2021-02-15 00:00:25.000000</td>\n",
       "    </tr>\n",
       "    <tr>\n",
       "      <th>2</th>\n",
       "      <td>7</td>\n",
       "      <td>2021-02-15 00:00:35.000000</td>\n",
       "      <td>(37.5085858,126.5137479)</td>\n",
       "      <td>NaN</td>\n",
       "      <td>10258</td>\n",
       "      <td>NaN</td>\n",
       "      <td>12005</td>\n",
       "      <td>1</td>\n",
       "      <td>0</td>\n",
       "      <td>0</td>\n",
       "      <td>0</td>\n",
       "      <td>0</td>\n",
       "      <td>배차불가</td>\n",
       "      <td>NaN</td>\n",
       "      <td>NaN</td>\n",
       "      <td>2021-02-15 00:00:35.000000</td>\n",
       "    </tr>\n",
       "    <tr>\n",
       "      <th>3</th>\n",
       "      <td>1</td>\n",
       "      <td>2021-02-15 00:00:46.000000</td>\n",
       "      <td>(37.508370908943476,126.51402737025778)</td>\n",
       "      <td>NaN</td>\n",
       "      <td>10258</td>\n",
       "      <td>NaN</td>\n",
       "      <td>10093</td>\n",
       "      <td>1</td>\n",
       "      <td>0</td>\n",
       "      <td>0</td>\n",
       "      <td>0</td>\n",
       "      <td>0</td>\n",
       "      <td>배차불가</td>\n",
       "      <td>NaN</td>\n",
       "      <td>NaN</td>\n",
       "      <td>2021-02-15 00:00:46.000000</td>\n",
       "    </tr>\n",
       "    <tr>\n",
       "      <th>4</th>\n",
       "      <td>7901</td>\n",
       "      <td>2021-02-15 00:00:47.000000</td>\n",
       "      <td>(37.5086122,126.5137468)</td>\n",
       "      <td>NaN</td>\n",
       "      <td>10258</td>\n",
       "      <td>NaN</td>\n",
       "      <td>10196</td>\n",
       "      <td>1</td>\n",
       "      <td>0</td>\n",
       "      <td>0</td>\n",
       "      <td>0</td>\n",
       "      <td>0</td>\n",
       "      <td>배차불가</td>\n",
       "      <td>NaN</td>\n",
       "      <td>NaN</td>\n",
       "      <td>2021-02-15 00:00:47.000000</td>\n",
       "    </tr>\n",
       "  </tbody>\n",
       "</table>\n",
       "</div>"
      ],
      "text/plain": [
       "   이용자ID                        호출일시                                     호출장소  \\\n",
       "0  11506  0054-05-16 16:38:12.000000   (37.49335710216712,126.49071292910158)   \n",
       "1      1  2021-02-15 00:00:24.000000  (37.508301689901344,126.51395666732049)   \n",
       "2      7  2021-02-15 00:00:35.000000                 (37.5085858,126.5137479)   \n",
       "3      1  2021-02-15 00:00:46.000000  (37.508370908943476,126.51402737025778)   \n",
       "4   7901  2021-02-15 00:00:47.000000                 (37.5086122,126.5137468)   \n",
       "\n",
       "  탑승일시  탑승정류장 하차일시  하차정류장  어른(명)  청소년(명)  어린이(명)  이동거리(m)  요금(원)   배차상태  \\\n",
       "0  NaN  10109  NaN  12007      1       0       0      870   1800  탑승취소    \n",
       "1  NaN  10258  NaN  10093      1       0       0        0      0   배차불가   \n",
       "2  NaN  10258  NaN  12005      1       0       0        0      0   배차불가   \n",
       "3  NaN  10258  NaN  10093      1       0       0        0      0   배차불가   \n",
       "4  NaN  10258  NaN  10196      1       0       0        0      0   배차불가   \n",
       "\n",
       "  배차상태상세                      배차성공일시                        취소일시  \n",
       "0   개인사정  2021-07-30 16:38:19.000000  2021-07-30 16:38:39.000000  \n",
       "1    NaN                         NaN  2021-02-15 00:00:25.000000  \n",
       "2    NaN                         NaN  2021-02-15 00:00:35.000000  \n",
       "3    NaN                         NaN  2021-02-15 00:00:46.000000  \n",
       "4    NaN                         NaN  2021-02-15 00:00:47.000000  "
      ]
     },
     "execution_count": 50,
     "metadata": {},
     "output_type": "execute_result"
    }
   ],
   "source": [
    "order.head()"
   ]
  },
  {
   "cell_type": "code",
   "execution_count": 14,
   "metadata": {},
   "outputs": [
    {
     "name": "stdout",
     "output_type": "stream",
     "text": [
      "319\n"
     ]
    },
    {
     "data": {
      "text/html": [
       "<div>\n",
       "<style scoped>\n",
       "    .dataframe tbody tr th:only-of-type {\n",
       "        vertical-align: middle;\n",
       "    }\n",
       "\n",
       "    .dataframe tbody tr th {\n",
       "        vertical-align: top;\n",
       "    }\n",
       "\n",
       "    .dataframe thead th {\n",
       "        text-align: right;\n",
       "    }\n",
       "</style>\n",
       "<table border=\"1\" class=\"dataframe\">\n",
       "  <thead>\n",
       "    <tr style=\"text-align: right;\">\n",
       "      <th></th>\n",
       "      <th>id</th>\n",
       "      <th>name</th>\n",
       "      <th>input_date</th>\n",
       "      <th>is_using</th>\n",
       "      <th>xy</th>\n",
       "      <th>st_no(공공정류소ID)</th>\n",
       "    </tr>\n",
       "  </thead>\n",
       "  <tbody>\n",
       "    <tr>\n",
       "      <th>0</th>\n",
       "      <td>10011</td>\n",
       "      <td>힐스테이트</td>\n",
       "      <td>2021-01-04 14:50:54.000000</td>\n",
       "      <td>True</td>\n",
       "      <td>(126.5642385,37.489032)</td>\n",
       "      <td>35458.0</td>\n",
       "    </tr>\n",
       "    <tr>\n",
       "      <th>1</th>\n",
       "      <td>10001</td>\n",
       "      <td>허브주유소</td>\n",
       "      <td>2021-01-04 14:50:54.000000</td>\n",
       "      <td>True</td>\n",
       "      <td>(126.5298091,37.5049674)</td>\n",
       "      <td>35446.0</td>\n",
       "    </tr>\n",
       "    <tr>\n",
       "      <th>2</th>\n",
       "      <td>10921</td>\n",
       "      <td>햇내로공원입구</td>\n",
       "      <td>2021-01-04 14:50:54.000000</td>\n",
       "      <td>True</td>\n",
       "      <td>(126.50107,37.49577)</td>\n",
       "      <td>35784.0</td>\n",
       "    </tr>\n",
       "    <tr>\n",
       "      <th>3</th>\n",
       "      <td>10920</td>\n",
       "      <td>햇내로공원입구</td>\n",
       "      <td>2021-01-04 14:50:54.000000</td>\n",
       "      <td>True</td>\n",
       "      <td>(126.50135,37.4967)</td>\n",
       "      <td>35777.0</td>\n",
       "    </tr>\n",
       "    <tr>\n",
       "      <th>4</th>\n",
       "      <td>10027</td>\n",
       "      <td>해맞이공원앞</td>\n",
       "      <td>2021-01-04 14:50:54.000000</td>\n",
       "      <td>True</td>\n",
       "      <td>(126.5318204,37.47709801)</td>\n",
       "      <td>35616.0</td>\n",
       "    </tr>\n",
       "  </tbody>\n",
       "</table>\n",
       "</div>"
      ],
      "text/plain": [
       "      id     name                  input_date  is_using  \\\n",
       "0  10011    힐스테이트  2021-01-04 14:50:54.000000      True   \n",
       "1  10001    허브주유소  2021-01-04 14:50:54.000000      True   \n",
       "2  10921  햇내로공원입구  2021-01-04 14:50:54.000000      True   \n",
       "3  10920  햇내로공원입구  2021-01-04 14:50:54.000000      True   \n",
       "4  10027   해맞이공원앞  2021-01-04 14:50:54.000000      True   \n",
       "\n",
       "                          xy  st_no(공공정류소ID)  \n",
       "0    (126.5642385,37.489032)         35458.0  \n",
       "1   (126.5298091,37.5049674)         35446.0  \n",
       "2       (126.50107,37.49577)         35784.0  \n",
       "3        (126.50135,37.4967)         35777.0  \n",
       "4  (126.5318204,37.47709801)         35616.0  "
      ]
     },
     "execution_count": 14,
     "metadata": {},
     "output_type": "execute_result"
    }
   ],
   "source": [
    "# 319 stations\n",
    "print(station.shape[0])\n",
    "station.head()"
   ]
  },
  {
   "cell_type": "code",
   "execution_count": 15,
   "metadata": {},
   "outputs": [
    {
     "name": "stdout",
     "output_type": "stream",
     "text": [
      "11577\n"
     ]
    },
    {
     "data": {
      "text/html": [
       "<div>\n",
       "<style scoped>\n",
       "    .dataframe tbody tr th:only-of-type {\n",
       "        vertical-align: middle;\n",
       "    }\n",
       "\n",
       "    .dataframe tbody tr th {\n",
       "        vertical-align: top;\n",
       "    }\n",
       "\n",
       "    .dataframe thead th {\n",
       "        text-align: right;\n",
       "    }\n",
       "</style>\n",
       "<table border=\"1\" class=\"dataframe\">\n",
       "  <thead>\n",
       "    <tr style=\"text-align: right;\">\n",
       "      <th></th>\n",
       "      <th>no</th>\n",
       "      <th>register_date</th>\n",
       "    </tr>\n",
       "  </thead>\n",
       "  <tbody>\n",
       "    <tr>\n",
       "      <th>0</th>\n",
       "      <td>1</td>\n",
       "      <td>2021-02-15 00:00:24.000000</td>\n",
       "    </tr>\n",
       "    <tr>\n",
       "      <th>1</th>\n",
       "      <td>2</td>\n",
       "      <td>2021-02-15 00:04:24.000000</td>\n",
       "    </tr>\n",
       "    <tr>\n",
       "      <th>2</th>\n",
       "      <td>3</td>\n",
       "      <td>2021-02-02 17:24:00.000000</td>\n",
       "    </tr>\n",
       "    <tr>\n",
       "      <th>3</th>\n",
       "      <td>4</td>\n",
       "      <td>2021-02-17 15:36:51.000000</td>\n",
       "    </tr>\n",
       "    <tr>\n",
       "      <th>4</th>\n",
       "      <td>5</td>\n",
       "      <td>2021-02-04 10:58:00.000000</td>\n",
       "    </tr>\n",
       "  </tbody>\n",
       "</table>\n",
       "</div>"
      ],
      "text/plain": [
       "   no               register_date\n",
       "0   1  2021-02-15 00:00:24.000000\n",
       "1   2  2021-02-15 00:04:24.000000\n",
       "2   3  2021-02-02 17:24:00.000000\n",
       "3   4  2021-02-17 15:36:51.000000\n",
       "4   5  2021-02-04 10:58:00.000000"
      ]
     },
     "execution_count": 15,
     "metadata": {},
     "output_type": "execute_result"
    }
   ],
   "source": [
    "# 11,577 distinct users\n",
    "print(user.shape[0])\n",
    "user.head()"
   ]
  },
  {
   "attachments": {},
   "cell_type": "markdown",
   "metadata": {},
   "source": [
    "# Data Cleaning"
   ]
  },
  {
   "attachments": {},
   "cell_type": "markdown",
   "metadata": {},
   "source": [
    "### Datatype Conversion"
   ]
  },
  {
   "cell_type": "code",
   "execution_count": 63,
   "metadata": {},
   "outputs": [
    {
     "name": "stdout",
     "output_type": "stream",
     "text": [
      "<class 'pandas.core.frame.DataFrame'>\n",
      "RangeIndex: 3660646 entries, 0 to 3660645\n",
      "Data columns (total 16 columns):\n",
      " #   Column   Dtype \n",
      "---  ------   ----- \n",
      " 0   이용자ID    int64 \n",
      " 1   호출일시     object\n",
      " 2   호출장소     object\n",
      " 3   탑승일시     object\n",
      " 4   탑승정류장    int64 \n",
      " 5   하차일시     object\n",
      " 6   하차정류장    int64 \n",
      " 7   어른(명)    int64 \n",
      " 8   청소년(명)   int64 \n",
      " 9   어린이(명)   int64 \n",
      " 10  이동거리(m)  int64 \n",
      " 11  요금(원)    int64 \n",
      " 12  배차상태     object\n",
      " 13  배차상태상세   object\n",
      " 14  배차성공일시   object\n",
      " 15  취소일시     object\n",
      "dtypes: int64(8), object(8)\n",
      "memory usage: 446.9+ MB\n"
     ]
    }
   ],
   "source": [
    "order.info()"
   ]
  },
  {
   "cell_type": "code",
   "execution_count": 64,
   "metadata": {},
   "outputs": [],
   "source": [
    "# '호출일시' datetime 이상치 제거\n",
    "order = order.iloc[1:-2]\n"
   ]
  },
  {
   "cell_type": "code",
   "execution_count": 82,
   "metadata": {},
   "outputs": [],
   "source": [
    "# Convert Datatype for columns : 호출일시, 탑승일시, 하차일시, 배차성공일시, 취소일시 \n",
    "\n",
    "def convert(x):\n",
    "    x = x.str.split('.').str[0].astype('datetime64')\n",
    "    return x\n",
    "\n",
    "order['call_time'] = convert(order['호출일시'])\n",
    "order['alight_time'] = convert(order['탑승일시'])\n",
    "order['off_time'] = convert(order['하차일시'])\n",
    "order['suc_time'] = convert(order['배차성공일시'])\n",
    "order['cancel_time'] = convert(order['취소일시'])"
   ]
  },
  {
   "cell_type": "code",
   "execution_count": 83,
   "metadata": {},
   "outputs": [
    {
     "name": "stdout",
     "output_type": "stream",
     "text": [
      "<class 'pandas.core.frame.DataFrame'>\n",
      "RangeIndex: 3660643 entries, 1 to 3660643\n",
      "Data columns (total 21 columns):\n",
      " #   Column       Dtype         \n",
      "---  ------       -----         \n",
      " 0   이용자ID        int64         \n",
      " 1   호출일시         object        \n",
      " 2   호출장소         object        \n",
      " 3   탑승일시         object        \n",
      " 4   탑승정류장        int64         \n",
      " 5   하차일시         object        \n",
      " 6   하차정류장        int64         \n",
      " 7   어른(명)        int64         \n",
      " 8   청소년(명)       int64         \n",
      " 9   어린이(명)       int64         \n",
      " 10  이동거리(m)      int64         \n",
      " 11  요금(원)        int64         \n",
      " 12  배차상태         object        \n",
      " 13  배차상태상세       object        \n",
      " 14  배차성공일시       object        \n",
      " 15  취소일시         object        \n",
      " 16  call_time    datetime64[ns]\n",
      " 17  alight_time  datetime64[ns]\n",
      " 18  off_time     datetime64[ns]\n",
      " 19  suc_time     datetime64[ns]\n",
      " 20  cancel_time  datetime64[ns]\n",
      "dtypes: datetime64[ns](5), int64(8), object(8)\n",
      "memory usage: 586.5+ MB\n"
     ]
    }
   ],
   "source": [
    "order.info()"
   ]
  },
  {
   "cell_type": "code",
   "execution_count": 84,
   "metadata": {},
   "outputs": [],
   "source": [
    "order = order.drop(['호출일시', '탑승일시', '하차일시', '배차성공일시', '취소일시'], axis = 1)"
   ]
  },
  {
   "cell_type": "code",
   "execution_count": 95,
   "metadata": {},
   "outputs": [],
   "source": [
    "# Split latitude and longitude for column '호출장소'\n",
    "\n",
    "order[[\"x\", \"y\"]] = order[\"호출장소\"].str.strip(r\"()\").str.split(\",\", expand = True).astype(float)"
   ]
  },
  {
   "cell_type": "code",
   "execution_count": 97,
   "metadata": {},
   "outputs": [],
   "source": [
    "order = order.drop(['호출장소'], axis = 1)"
   ]
  },
  {
   "cell_type": "code",
   "execution_count": 98,
   "metadata": {},
   "outputs": [
    {
     "name": "stdout",
     "output_type": "stream",
     "text": [
      "<class 'pandas.core.frame.DataFrame'>\n",
      "RangeIndex: 3660643 entries, 1 to 3660643\n",
      "Data columns (total 17 columns):\n",
      " #   Column       Dtype         \n",
      "---  ------       -----         \n",
      " 0   이용자ID        int64         \n",
      " 1   탑승정류장        int64         \n",
      " 2   하차정류장        int64         \n",
      " 3   어른(명)        int64         \n",
      " 4   청소년(명)       int64         \n",
      " 5   어린이(명)       int64         \n",
      " 6   이동거리(m)      int64         \n",
      " 7   요금(원)        int64         \n",
      " 8   배차상태         object        \n",
      " 9   배차상태상세       object        \n",
      " 10  call_time    datetime64[ns]\n",
      " 11  alight_time  datetime64[ns]\n",
      " 12  off_time     datetime64[ns]\n",
      " 13  suc_time     datetime64[ns]\n",
      " 14  cancel_time  datetime64[ns]\n",
      " 15  x            float64       \n",
      " 16  y            float64       \n",
      "dtypes: datetime64[ns](5), float64(2), int64(8), object(2)\n",
      "memory usage: 474.8+ MB\n"
     ]
    }
   ],
   "source": [
    "order.info()"
   ]
  },
  {
   "attachments": {},
   "cell_type": "markdown",
   "metadata": {},
   "source": [
    "### Name / Unit"
   ]
  },
  {
   "cell_type": "code",
   "execution_count": 99,
   "metadata": {},
   "outputs": [],
   "source": [
    "order = order.rename(columns = {\"이용자ID\":\"ID\", \"탑승정류장\":\"alight_station\", \"하차정류장\":\"off_station\", \"어른(명)\":\"adult\", \"청소년(명)\":\"teen\", \"어린이(명)\":\"child\", \n",
    "                                \"이동거리(m)\":\"distance\", \"요금(원)\":\"fare\", \"배차상태\":\"suc_status\", \"배차상태상세\":\"suc_status_d\"})"
   ]
  },
  {
   "cell_type": "code",
   "execution_count": 101,
   "metadata": {},
   "outputs": [],
   "source": [
    "# change unit of \"distance\" (m to km)\n",
    "\n",
    "order['distance'] = order['distance'] / 1000"
   ]
  },
  {
   "attachments": {},
   "cell_type": "markdown",
   "metadata": {},
   "source": [
    "### Remove Outlier"
   ]
  },
  {
   "cell_type": "code",
   "execution_count": null,
   "metadata": {},
   "outputs": [],
   "source": [
    "pd.read_csv('order.csv')"
   ]
  }
 ],
 "metadata": {
  "kernelspec": {
   "display_name": "Python 3",
   "language": "python",
   "name": "python3"
  },
  "language_info": {
   "codemirror_mode": {
    "name": "ipython",
    "version": 3
   },
   "file_extension": ".py",
   "mimetype": "text/x-python",
   "name": "python",
   "nbconvert_exporter": "python",
   "pygments_lexer": "ipython3",
   "version": "3.9.13"
  },
  "orig_nbformat": 4
 },
 "nbformat": 4,
 "nbformat_minor": 2
}
