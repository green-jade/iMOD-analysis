{
 "cells": [
  {
   "cell_type": "code",
   "execution_count": 1,
   "metadata": {},
   "outputs": [],
   "source": [
    "import pandas as pd\n",
    "user = pd.read_csv('./data/user_list.csv')"
   ]
  },
  {
   "cell_type": "markdown",
   "metadata": {},
   "source": [
    "## 신규 가입자 수 증가 추이"
   ]
  },
  {
   "cell_type": "code",
   "execution_count": 10,
   "metadata": {},
   "outputs": [
    {
     "name": "stdout",
     "output_type": "stream",
     "text": [
      "<class 'pandas.core.frame.DataFrame'>\n",
      "RangeIndex: 11577 entries, 0 to 11576\n",
      "Data columns (total 2 columns):\n",
      " #   Column         Non-Null Count  Dtype \n",
      "---  ------         --------------  ----- \n",
      " 0   no             11577 non-null  int64 \n",
      " 1   register_date  11577 non-null  object\n",
      "dtypes: int64(1), object(1)\n",
      "memory usage: 181.0+ KB\n"
     ]
    }
   ],
   "source": [
    "user.info()"
   ]
  },
  {
   "cell_type": "code",
   "execution_count": 26,
   "metadata": {},
   "outputs": [
    {
     "name": "stdout",
     "output_type": "stream",
     "text": [
      "<class 'pandas.core.frame.DataFrame'>\n",
      "RangeIndex: 11577 entries, 0 to 11576\n",
      "Data columns (total 2 columns):\n",
      " #   Column         Non-Null Count  Dtype         \n",
      "---  ------         --------------  -----         \n",
      " 0   no             11577 non-null  int64         \n",
      " 1   register_date  11577 non-null  datetime64[ns]\n",
      "dtypes: datetime64[ns](1), int64(1)\n",
      "memory usage: 181.0 KB\n"
     ]
    }
   ],
   "source": [
    "user['register_date'] = user['register_date'].astype('datetime64')\n",
    "user.info()"
   ]
  },
  {
   "cell_type": "code",
   "execution_count": 15,
   "metadata": {},
   "outputs": [],
   "source": [
    "user['register_date'] = user['register_date'].dt.date\n",
    "a = user.groupby('register_date')['no'].count()\n",
    "a.to_csv('./a.csv')"
   ]
  },
  {
   "cell_type": "markdown",
   "metadata": {},
   "source": [
    "스프레드시트로 일별 신규 가입자 및 누적 가입자 수 그래프 정리"
   ]
  },
  {
   "cell_type": "code",
   "execution_count": 27,
   "metadata": {},
   "outputs": [],
   "source": [
    "user['register_year'] = user['register_date'].dt.year\n",
    "user['register_month'] = user['register_date'].dt.month"
   ]
  },
  {
   "cell_type": "code",
   "execution_count": 28,
   "metadata": {},
   "outputs": [
    {
     "data": {
      "text/plain": [
       "register_year  register_month\n",
       "2019           11                  33\n",
       "               12                1569\n",
       "2020           1                  578\n",
       "               2                   13\n",
       "               10                 388\n",
       "               11                 755\n",
       "               12                 445\n",
       "2021           1                  380\n",
       "               2                  739\n",
       "               3                  927\n",
       "               4                  604\n",
       "               5                  407\n",
       "               6                  317\n",
       "               7                  407\n",
       "               8                  533\n",
       "               9                  458\n",
       "               10                 383\n",
       "               11                 395\n",
       "               12                 341\n",
       "2022           1                  341\n",
       "               2                  284\n",
       "               3                  322\n",
       "               4                  327\n",
       "               5                  316\n",
       "               6                  291\n",
       "               7                   24\n",
       "Name: no, dtype: int64"
      ]
     },
     "execution_count": 28,
     "metadata": {},
     "output_type": "execute_result"
    }
   ],
   "source": [
    "# 월별 신규 가입자 수 정리\n",
    "user.groupby(['register_year','register_month'])['no'].count()"
   ]
  },
  {
   "cell_type": "markdown",
   "metadata": {},
   "source": [
    "## MAU 관찰"
   ]
  },
  {
   "cell_type": "code",
   "execution_count": 2,
   "metadata": {},
   "outputs": [],
   "source": [
    "order = pd.read_csv('./data/order_sort.csv',index_col=0)\n",
    "\n",
    "order = order.drop(columns=['board_station','alight_station','adult','teen','child','distance','fare','x','y'])"
   ]
  },
  {
   "cell_type": "code",
   "execution_count": 35,
   "metadata": {},
   "outputs": [
    {
     "data": {
      "text/html": [
       "<div>\n",
       "<style scoped>\n",
       "    .dataframe tbody tr th:only-of-type {\n",
       "        vertical-align: middle;\n",
       "    }\n",
       "\n",
       "    .dataframe tbody tr th {\n",
       "        vertical-align: top;\n",
       "    }\n",
       "\n",
       "    .dataframe thead th {\n",
       "        text-align: right;\n",
       "    }\n",
       "</style>\n",
       "<table border=\"1\" class=\"dataframe\">\n",
       "  <thead>\n",
       "    <tr style=\"text-align: right;\">\n",
       "      <th></th>\n",
       "      <th>ID</th>\n",
       "      <th>suc_status</th>\n",
       "      <th>suc_status_d</th>\n",
       "      <th>call_time</th>\n",
       "      <th>board_time</th>\n",
       "      <th>alight_time</th>\n",
       "      <th>suc_time</th>\n",
       "      <th>cancel_time</th>\n",
       "      <th>board_adm</th>\n",
       "      <th>alight_adm</th>\n",
       "      <th>Trip</th>\n",
       "    </tr>\n",
       "  </thead>\n",
       "  <tbody>\n",
       "    <tr>\n",
       "      <th>0</th>\n",
       "      <td>1</td>\n",
       "      <td>배차불가</td>\n",
       "      <td>NaN</td>\n",
       "      <td>2021/02</td>\n",
       "      <td>NaN</td>\n",
       "      <td>NaN</td>\n",
       "      <td>NaN</td>\n",
       "      <td>2021-02-15 00:00:25</td>\n",
       "      <td>운북동</td>\n",
       "      <td>운남동</td>\n",
       "      <td>0</td>\n",
       "    </tr>\n",
       "    <tr>\n",
       "      <th>1</th>\n",
       "      <td>1</td>\n",
       "      <td>배차불가</td>\n",
       "      <td>NaN</td>\n",
       "      <td>2021/02</td>\n",
       "      <td>NaN</td>\n",
       "      <td>NaN</td>\n",
       "      <td>NaN</td>\n",
       "      <td>2021-02-15 00:00:46</td>\n",
       "      <td>운북동</td>\n",
       "      <td>운남동</td>\n",
       "      <td>0</td>\n",
       "    </tr>\n",
       "    <tr>\n",
       "      <th>2</th>\n",
       "      <td>1</td>\n",
       "      <td>배차불가</td>\n",
       "      <td>NaN</td>\n",
       "      <td>2021/02</td>\n",
       "      <td>NaN</td>\n",
       "      <td>NaN</td>\n",
       "      <td>NaN</td>\n",
       "      <td>2021-02-15 00:00:59</td>\n",
       "      <td>운북동</td>\n",
       "      <td>운남동</td>\n",
       "      <td>0</td>\n",
       "    </tr>\n",
       "  </tbody>\n",
       "</table>\n",
       "</div>"
      ],
      "text/plain": [
       "   ID suc_status suc_status_d call_time board_time alight_time suc_time  \\\n",
       "0   1       배차불가          NaN   2021/02        NaN         NaN      NaN   \n",
       "1   1       배차불가          NaN   2021/02        NaN         NaN      NaN   \n",
       "2   1       배차불가          NaN   2021/02        NaN         NaN      NaN   \n",
       "\n",
       "           cancel_time board_adm alight_adm  Trip  \n",
       "0  2021-02-15 00:00:25       운북동        운남동     0  \n",
       "1  2021-02-15 00:00:46       운북동        운남동     0  \n",
       "2  2021-02-15 00:00:59       운북동        운남동     0  "
      ]
     },
     "execution_count": 35,
     "metadata": {},
     "output_type": "execute_result"
    }
   ],
   "source": [
    "order.head(3)"
   ]
  },
  {
   "cell_type": "code",
   "execution_count": 33,
   "metadata": {},
   "outputs": [],
   "source": [
    "order['call_time'] = order['call_time'].astype('datetime64')"
   ]
  },
  {
   "cell_type": "code",
   "execution_count": 34,
   "metadata": {},
   "outputs": [],
   "source": [
    "order['call_time'] = order['call_time'].dt.strftime('%Y/%m')"
   ]
  },
  {
   "cell_type": "code",
   "execution_count": 38,
   "metadata": {},
   "outputs": [],
   "source": [
    "df = pd.DataFrame(order.groupby(\"call_time\").agg({\"ID\": pd.Series.nunique}))"
   ]
  },
  {
   "cell_type": "code",
   "execution_count": 48,
   "metadata": {},
   "outputs": [
    {
     "name": "stderr",
     "output_type": "stream",
     "text": [
      "C:\\Users\\happy\\AppData\\Local\\Temp\\ipykernel_16016\\2832967932.py:3: UserWarning: FixedFormatter should only be used together with FixedLocator\n",
      "  plot.set_xticklabels(plot.get_xticklabels(),rotation=45)\n"
     ]
    },
    {
     "data": {
      "text/plain": [
       "<AxesSubplot:xlabel='call_time', ylabel='ID'>"
      ]
     },
     "execution_count": 48,
     "metadata": {},
     "output_type": "execute_result"
    },
    {
     "data": {
      "image/png": "[encoded data removed]",
      "text/plain": [
       "<Figure size 432x288 with 1 Axes>"
      ]
     },
     "metadata": {
      "needs_background": "light"
     },
     "output_type": "display_data"
    }
   ],
   "source": [
    "import seaborn as sns\n",
    "plot = sns.lineplot(data = df, x = \"call_time\", y = \"ID\")\n",
    "plot.set_xticklabels(plot.get_xticklabels(),rotation=45)\n",
    "plot"
   ]
  },
  {
   "cell_type": "code",
   "execution_count": 42,
   "metadata": {},
   "outputs": [],
   "source": [
    "df.to_csv('./MAU.csv')"
   ]
  },
  {
   "cell_type": "code",
   "execution_count": 53,
   "metadata": {},
   "outputs": [],
   "source": [
    "ride = order[order['suc_status']=='하차완료']\n",
    "agg = pd.DataFrame(ride.groupby('call_time')['ID'].count())"
   ]
  },
  {
   "cell_type": "code",
   "execution_count": 54,
   "metadata": {},
   "outputs": [
    {
     "name": "stderr",
     "output_type": "stream",
     "text": [
      "C:\\Users\\happy\\AppData\\Local\\Temp\\ipykernel_16016\\1014965155.py:2: UserWarning: FixedFormatter should only be used together with FixedLocator\n",
      "  plot_2.set_xticklabels(plot.get_xticklabels(),rotation=45)\n"
     ]
    },
    {
     "data": {
      "text/plain": [
       "<AxesSubplot:xlabel='call_time', ylabel='ID'>"
      ]
     },
     "execution_count": 54,
     "metadata": {},
     "output_type": "execute_result"
    },
    {
     "data": {
      "image/png": "[encoded data removed]",
      "text/plain": [
       "<Figure size 432x288 with 1 Axes>"
      ]
     },
     "metadata": {
      "needs_background": "light"
     },
     "output_type": "display_data"
    }
   ],
   "source": [
    "plot_2 = sns.lineplot(data = agg, x = \"call_time\", y = \"ID\")\n",
    "plot_2.set_xticklabels(plot.get_xticklabels(),rotation=45)\n",
    "plot_2"
   ]
  },
  {
   "cell_type": "markdown",
   "metadata": {},
   "source": [
    "## 고객이탈률"
   ]
  },
  {
   "cell_type": "code",
   "execution_count": 9,
   "metadata": {},
   "outputs": [],
   "source": [
    "order = order.drop(columns=['suc_status','suc_status_d','cancel_time','board_adm','alight_adm'])\n",
    "firstorder = order.drop_duplicates(subset=['ID'], keep = 'first')\n",
    "lastorder = order.drop_duplicates(subset=['ID'], keep='last')\n",
    "churn = firstorder.merge(lastorder, left_on='ID', right_on='ID', suffixes=('_F', '_L'))"
   ]
  },
  {
   "cell_type": "code",
   "execution_count": 10,
   "metadata": {},
   "outputs": [
    {
     "data": {
      "text/html": [
       "<div>\n",
       "<style scoped>\n",
       "    .dataframe tbody tr th:only-of-type {\n",
       "        vertical-align: middle;\n",
       "    }\n",
       "\n",
       "    .dataframe tbody tr th {\n",
       "        vertical-align: top;\n",
       "    }\n",
       "\n",
       "    .dataframe thead th {\n",
       "        text-align: right;\n",
       "    }\n",
       "</style>\n",
       "<table border=\"1\" class=\"dataframe\">\n",
       "  <thead>\n",
       "    <tr style=\"text-align: right;\">\n",
       "      <th></th>\n",
       "      <th>ID</th>\n",
       "      <th>call_time_F</th>\n",
       "      <th>board_time_F</th>\n",
       "      <th>alight_time_F</th>\n",
       "      <th>suc_time_F</th>\n",
       "      <th>Trip_F</th>\n",
       "      <th>call_time_L</th>\n",
       "      <th>board_time_L</th>\n",
       "      <th>alight_time_L</th>\n",
       "      <th>suc_time_L</th>\n",
       "      <th>Trip_L</th>\n",
       "    </tr>\n",
       "  </thead>\n",
       "  <tbody>\n",
       "    <tr>\n",
       "      <th>0</th>\n",
       "      <td>1</td>\n",
       "      <td>2021-02-15 00:00:24</td>\n",
       "      <td>NaN</td>\n",
       "      <td>NaN</td>\n",
       "      <td>NaN</td>\n",
       "      <td>0</td>\n",
       "      <td>2021-03-25 12:03:57</td>\n",
       "      <td>NaN</td>\n",
       "      <td>NaN</td>\n",
       "      <td>NaN</td>\n",
       "      <td>34</td>\n",
       "    </tr>\n",
       "    <tr>\n",
       "      <th>1</th>\n",
       "      <td>2</td>\n",
       "      <td>2021-02-15 00:04:24</td>\n",
       "      <td>NaN</td>\n",
       "      <td>NaN</td>\n",
       "      <td>NaN</td>\n",
       "      <td>35</td>\n",
       "      <td>2021-02-17 18:28:29</td>\n",
       "      <td>NaN</td>\n",
       "      <td>NaN</td>\n",
       "      <td>NaN</td>\n",
       "      <td>47</td>\n",
       "    </tr>\n",
       "    <tr>\n",
       "      <th>2</th>\n",
       "      <td>3</td>\n",
       "      <td>2022-04-26 14:12:42</td>\n",
       "      <td>NaN</td>\n",
       "      <td>NaN</td>\n",
       "      <td>NaN</td>\n",
       "      <td>48</td>\n",
       "      <td>2022-04-26 14:12:42</td>\n",
       "      <td>NaN</td>\n",
       "      <td>NaN</td>\n",
       "      <td>NaN</td>\n",
       "      <td>48</td>\n",
       "    </tr>\n",
       "    <tr>\n",
       "      <th>3</th>\n",
       "      <td>4</td>\n",
       "      <td>2021-02-17 15:36:51</td>\n",
       "      <td>NaN</td>\n",
       "      <td>NaN</td>\n",
       "      <td>NaN</td>\n",
       "      <td>49</td>\n",
       "      <td>2021-03-24 11:42:54</td>\n",
       "      <td>NaN</td>\n",
       "      <td>NaN</td>\n",
       "      <td>NaN</td>\n",
       "      <td>71</td>\n",
       "    </tr>\n",
       "    <tr>\n",
       "      <th>4</th>\n",
       "      <td>5</td>\n",
       "      <td>2021-02-15 00:01:02</td>\n",
       "      <td>NaN</td>\n",
       "      <td>NaN</td>\n",
       "      <td>NaN</td>\n",
       "      <td>72</td>\n",
       "      <td>2021-09-03 12:03:37</td>\n",
       "      <td>NaN</td>\n",
       "      <td>NaN</td>\n",
       "      <td>NaN</td>\n",
       "      <td>79</td>\n",
       "    </tr>\n",
       "    <tr>\n",
       "      <th>5</th>\n",
       "      <td>6</td>\n",
       "      <td>2021-02-15 00:01:12</td>\n",
       "      <td>NaN</td>\n",
       "      <td>NaN</td>\n",
       "      <td>NaN</td>\n",
       "      <td>80</td>\n",
       "      <td>2021-12-14 13:24:31</td>\n",
       "      <td>2021-12-14 13:43:24</td>\n",
       "      <td>2021-12-14 13:50:48</td>\n",
       "      <td>2021-12-14 13:24:48</td>\n",
       "      <td>105</td>\n",
       "    </tr>\n",
       "    <tr>\n",
       "      <th>6</th>\n",
       "      <td>7</td>\n",
       "      <td>2021-02-15 00:00:35</td>\n",
       "      <td>NaN</td>\n",
       "      <td>NaN</td>\n",
       "      <td>NaN</td>\n",
       "      <td>106</td>\n",
       "      <td>2021-02-17 16:00:40</td>\n",
       "      <td>NaN</td>\n",
       "      <td>NaN</td>\n",
       "      <td>NaN</td>\n",
       "      <td>117</td>\n",
       "    </tr>\n",
       "    <tr>\n",
       "      <th>7</th>\n",
       "      <td>8</td>\n",
       "      <td>2022-05-03 10:49:43</td>\n",
       "      <td>NaN</td>\n",
       "      <td>NaN</td>\n",
       "      <td>NaN</td>\n",
       "      <td>118</td>\n",
       "      <td>2022-05-03 12:16:23</td>\n",
       "      <td>2022-05-03 12:23:16</td>\n",
       "      <td>2022-05-03 12:28:01</td>\n",
       "      <td>2022-05-03 12:16:34</td>\n",
       "      <td>123</td>\n",
       "    </tr>\n",
       "    <tr>\n",
       "      <th>8</th>\n",
       "      <td>9</td>\n",
       "      <td>2021-04-27 14:00:30</td>\n",
       "      <td>NaN</td>\n",
       "      <td>NaN</td>\n",
       "      <td>NaN</td>\n",
       "      <td>124</td>\n",
       "      <td>2021-04-27 15:09:21</td>\n",
       "      <td>2021-04-27 15:28:12</td>\n",
       "      <td>2021-04-27 15:39:08</td>\n",
       "      <td>2021-04-27 15:09:32</td>\n",
       "      <td>125</td>\n",
       "    </tr>\n",
       "    <tr>\n",
       "      <th>9</th>\n",
       "      <td>10</td>\n",
       "      <td>2021-02-24 17:44:06</td>\n",
       "      <td>NaN</td>\n",
       "      <td>NaN</td>\n",
       "      <td>NaN</td>\n",
       "      <td>126</td>\n",
       "      <td>2022-02-15 16:50:36</td>\n",
       "      <td>NaN</td>\n",
       "      <td>NaN</td>\n",
       "      <td>NaN</td>\n",
       "      <td>129</td>\n",
       "    </tr>\n",
       "  </tbody>\n",
       "</table>\n",
       "</div>"
      ],
      "text/plain": [
       "   ID          call_time_F board_time_F alight_time_F suc_time_F  Trip_F  \\\n",
       "0   1  2021-02-15 00:00:24          NaN           NaN        NaN       0   \n",
       "1   2  2021-02-15 00:04:24          NaN           NaN        NaN      35   \n",
       "2   3  2022-04-26 14:12:42          NaN           NaN        NaN      48   \n",
       "3   4  2021-02-17 15:36:51          NaN           NaN        NaN      49   \n",
       "4   5  2021-02-15 00:01:02          NaN           NaN        NaN      72   \n",
       "5   6  2021-02-15 00:01:12          NaN           NaN        NaN      80   \n",
       "6   7  2021-02-15 00:00:35          NaN           NaN        NaN     106   \n",
       "7   8  2022-05-03 10:49:43          NaN           NaN        NaN     118   \n",
       "8   9  2021-04-27 14:00:30          NaN           NaN        NaN     124   \n",
       "9  10  2021-02-24 17:44:06          NaN           NaN        NaN     126   \n",
       "\n",
       "           call_time_L         board_time_L        alight_time_L  \\\n",
       "0  2021-03-25 12:03:57                  NaN                  NaN   \n",
       "1  2021-02-17 18:28:29                  NaN                  NaN   \n",
       "2  2022-04-26 14:12:42                  NaN                  NaN   \n",
       "3  2021-03-24 11:42:54                  NaN                  NaN   \n",
       "4  2021-09-03 12:03:37                  NaN                  NaN   \n",
       "5  2021-12-14 13:24:31  2021-12-14 13:43:24  2021-12-14 13:50:48   \n",
       "6  2021-02-17 16:00:40                  NaN                  NaN   \n",
       "7  2022-05-03 12:16:23  2022-05-03 12:23:16  2022-05-03 12:28:01   \n",
       "8  2021-04-27 15:09:21  2021-04-27 15:28:12  2021-04-27 15:39:08   \n",
       "9  2022-02-15 16:50:36                  NaN                  NaN   \n",
       "\n",
       "            suc_time_L  Trip_L  \n",
       "0                  NaN      34  \n",
       "1                  NaN      47  \n",
       "2                  NaN      48  \n",
       "3                  NaN      71  \n",
       "4                  NaN      79  \n",
       "5  2021-12-14 13:24:48     105  \n",
       "6                  NaN     117  \n",
       "7  2022-05-03 12:16:34     123  \n",
       "8  2021-04-27 15:09:32     125  \n",
       "9                  NaN     129  "
      ]
     },
     "execution_count": 10,
     "metadata": {},
     "output_type": "execute_result"
    }
   ],
   "source": [
    "churn = churn.sort_values(['ID'])\n",
    "churn.head(10)"
   ]
  },
  {
   "cell_type": "code",
   "execution_count": 12,
   "metadata": {},
   "outputs": [],
   "source": [
    "churn['call_time_F'] = churn['call_time_F'].astype('datetime64')\n",
    "churn['call_time_L'] = churn['call_time_L'].astype('datetime64')\n",
    "churn['retention'] = churn['call_time_L'] - churn['call_time_F']"
   ]
  },
  {
   "cell_type": "code",
   "execution_count": 13,
   "metadata": {},
   "outputs": [
    {
     "data": {
      "text/html": [
       "<div>\n",
       "<style scoped>\n",
       "    .dataframe tbody tr th:only-of-type {\n",
       "        vertical-align: middle;\n",
       "    }\n",
       "\n",
       "    .dataframe tbody tr th {\n",
       "        vertical-align: top;\n",
       "    }\n",
       "\n",
       "    .dataframe thead th {\n",
       "        text-align: right;\n",
       "    }\n",
       "</style>\n",
       "<table border=\"1\" class=\"dataframe\">\n",
       "  <thead>\n",
       "    <tr style=\"text-align: right;\">\n",
       "      <th></th>\n",
       "      <th>ID</th>\n",
       "      <th>call_time_F</th>\n",
       "      <th>board_time_F</th>\n",
       "      <th>alight_time_F</th>\n",
       "      <th>suc_time_F</th>\n",
       "      <th>Trip_F</th>\n",
       "      <th>call_time_L</th>\n",
       "      <th>board_time_L</th>\n",
       "      <th>alight_time_L</th>\n",
       "      <th>suc_time_L</th>\n",
       "      <th>Trip_L</th>\n",
       "      <th>retention</th>\n",
       "    </tr>\n",
       "  </thead>\n",
       "  <tbody>\n",
       "    <tr>\n",
       "      <th>0</th>\n",
       "      <td>1</td>\n",
       "      <td>2021-02-15 00:00:24</td>\n",
       "      <td>NaN</td>\n",
       "      <td>NaN</td>\n",
       "      <td>NaN</td>\n",
       "      <td>0</td>\n",
       "      <td>2021-03-25 12:03:57</td>\n",
       "      <td>NaN</td>\n",
       "      <td>NaN</td>\n",
       "      <td>NaN</td>\n",
       "      <td>34</td>\n",
       "      <td>38 days 12:03:33</td>\n",
       "    </tr>\n",
       "    <tr>\n",
       "      <th>1</th>\n",
       "      <td>2</td>\n",
       "      <td>2021-02-15 00:04:24</td>\n",
       "      <td>NaN</td>\n",
       "      <td>NaN</td>\n",
       "      <td>NaN</td>\n",
       "      <td>35</td>\n",
       "      <td>2021-02-17 18:28:29</td>\n",
       "      <td>NaN</td>\n",
       "      <td>NaN</td>\n",
       "      <td>NaN</td>\n",
       "      <td>47</td>\n",
       "      <td>2 days 18:24:05</td>\n",
       "    </tr>\n",
       "    <tr>\n",
       "      <th>2</th>\n",
       "      <td>3</td>\n",
       "      <td>2022-04-26 14:12:42</td>\n",
       "      <td>NaN</td>\n",
       "      <td>NaN</td>\n",
       "      <td>NaN</td>\n",
       "      <td>48</td>\n",
       "      <td>2022-04-26 14:12:42</td>\n",
       "      <td>NaN</td>\n",
       "      <td>NaN</td>\n",
       "      <td>NaN</td>\n",
       "      <td>48</td>\n",
       "      <td>0 days 00:00:00</td>\n",
       "    </tr>\n",
       "    <tr>\n",
       "      <th>3</th>\n",
       "      <td>4</td>\n",
       "      <td>2021-02-17 15:36:51</td>\n",
       "      <td>NaN</td>\n",
       "      <td>NaN</td>\n",
       "      <td>NaN</td>\n",
       "      <td>49</td>\n",
       "      <td>2021-03-24 11:42:54</td>\n",
       "      <td>NaN</td>\n",
       "      <td>NaN</td>\n",
       "      <td>NaN</td>\n",
       "      <td>71</td>\n",
       "      <td>34 days 20:06:03</td>\n",
       "    </tr>\n",
       "    <tr>\n",
       "      <th>4</th>\n",
       "      <td>5</td>\n",
       "      <td>2021-02-15 00:01:02</td>\n",
       "      <td>NaN</td>\n",
       "      <td>NaN</td>\n",
       "      <td>NaN</td>\n",
       "      <td>72</td>\n",
       "      <td>2021-09-03 12:03:37</td>\n",
       "      <td>NaN</td>\n",
       "      <td>NaN</td>\n",
       "      <td>NaN</td>\n",
       "      <td>79</td>\n",
       "      <td>200 days 12:02:35</td>\n",
       "    </tr>\n",
       "  </tbody>\n",
       "</table>\n",
       "</div>"
      ],
      "text/plain": [
       "   ID         call_time_F board_time_F alight_time_F suc_time_F  Trip_F  \\\n",
       "0   1 2021-02-15 00:00:24          NaN           NaN        NaN       0   \n",
       "1   2 2021-02-15 00:04:24          NaN           NaN        NaN      35   \n",
       "2   3 2022-04-26 14:12:42          NaN           NaN        NaN      48   \n",
       "3   4 2021-02-17 15:36:51          NaN           NaN        NaN      49   \n",
       "4   5 2021-02-15 00:01:02          NaN           NaN        NaN      72   \n",
       "\n",
       "          call_time_L board_time_L alight_time_L suc_time_L  Trip_L  \\\n",
       "0 2021-03-25 12:03:57          NaN           NaN        NaN      34   \n",
       "1 2021-02-17 18:28:29          NaN           NaN        NaN      47   \n",
       "2 2022-04-26 14:12:42          NaN           NaN        NaN      48   \n",
       "3 2021-03-24 11:42:54          NaN           NaN        NaN      71   \n",
       "4 2021-09-03 12:03:37          NaN           NaN        NaN      79   \n",
       "\n",
       "          retention  \n",
       "0  38 days 12:03:33  \n",
       "1   2 days 18:24:05  \n",
       "2   0 days 00:00:00  \n",
       "3  34 days 20:06:03  \n",
       "4 200 days 12:02:35  "
      ]
     },
     "execution_count": 13,
     "metadata": {},
     "output_type": "execute_result"
    }
   ],
   "source": [
    "churn.head()"
   ]
  },
  {
   "cell_type": "code",
   "execution_count": 16,
   "metadata": {},
   "outputs": [
    {
     "data": {
      "text/plain": [
       "count                          11577\n",
       "mean     169 days 08:41:55.749330572\n",
       "std      177 days 00:30:08.452779766\n",
       "min                  0 days 00:00:00\n",
       "25%                  0 days 04:56:04\n",
       "50%                103 days 00:03:31\n",
       "75%                315 days 00:21:38\n",
       "max                502 days 17:10:51\n",
       "Name: retention, dtype: object"
      ]
     },
     "execution_count": 16,
     "metadata": {},
     "output_type": "execute_result"
    }
   ],
   "source": [
    "churn['retention'].describe()"
   ]
  },
  {
   "cell_type": "code",
   "execution_count": 23,
   "metadata": {},
   "outputs": [],
   "source": [
    "leave = churn.loc[:,['ID','call_time_L','Trip_L']]\n",
    "leave['call_time_L'] = leave['call_time_L'].dt.strftime('%Y/%m')"
   ]
  },
  {
   "cell_type": "code",
   "execution_count": 25,
   "metadata": {},
   "outputs": [
    {
     "data": {
      "text/plain": [
       "call_time_L\n",
       "2021/02     206\n",
       "2021/03     485\n",
       "2021/04     498\n",
       "2021/05     303\n",
       "2021/07      93\n",
       "2021/08     493\n",
       "2021/09     459\n",
       "2021/10     493\n",
       "2021/11     483\n",
       "2021/12     543\n",
       "2022/01     552\n",
       "2022/02     520\n",
       "2022/03     606\n",
       "2022/04     806\n",
       "2022/05    1150\n",
       "2022/06    2773\n",
       "2022/07    1114\n",
       "Name: ID, dtype: int64"
      ]
     },
     "execution_count": 25,
     "metadata": {},
     "output_type": "execute_result"
    }
   ],
   "source": [
    "leave.groupby('call_time_L')['ID'].count()"
   ]
  },
  {
   "cell_type": "code",
   "execution_count": 27,
   "metadata": {},
   "outputs": [
    {
     "data": {
      "text/plain": [
       "call_time_F\n",
       "2021/02    2161\n",
       "2021/03    1642\n",
       "2021/04     938\n",
       "2021/05     251\n",
       "2021/07     463\n",
       "2021/08     975\n",
       "2021/09     707\n",
       "2021/10     564\n",
       "2021/11     578\n",
       "2021/12     501\n",
       "2022/01     516\n",
       "2022/02     378\n",
       "2022/03     443\n",
       "2022/04     461\n",
       "2022/05     478\n",
       "2022/06     468\n",
       "2022/07      53\n",
       "Name: ID, dtype: int64"
      ]
     },
     "execution_count": 27,
     "metadata": {},
     "output_type": "execute_result"
    }
   ],
   "source": [
    "start = churn.loc[:,['ID','call_time_F','Trip_F']]\n",
    "start['call_time_F'] = start['call_time_F'].dt.strftime('%Y/%m')\n",
    "start.groupby('call_time_F')['ID'].count()"
   ]
  }
 ],
 "metadata": {
  "kernelspec": {
   "display_name": "Python 3",
   "language": "python",
   "name": "python3"
  },
  "language_info": {
   "codemirror_mode": {
    "name": "ipython",
    "version": 3
   },
   "file_extension": ".py",
   "mimetype": "text/x-python",
   "name": "python",
   "nbconvert_exporter": "python",
   "pygments_lexer": "ipython3",
   "version": "3.9.13"
  },
  "orig_nbformat": 4
 },
 "nbformat": 4,
 "nbformat_minor": 2
}
