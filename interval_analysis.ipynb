{
 "cells": [
  {
   "cell_type": "code",
   "execution_count": 1,
   "metadata": {},
   "outputs": [
    {
     "name": "stderr",
     "output_type": "stream",
     "text": [
      "C:\\Users\\happy\\AppData\\Local\\Packages\\PythonSoftwareFoundation.Python.3.9_qbz5n2kfra8p0\\LocalCache\\local-packages\\Python39\\site-packages\\IPython\\core\\interactiveshell.py:3251: DtypeWarning: Columns (14) have mixed types.Specify dtype option on import or set low_memory=False.\n",
      "  exec(code_obj, self.user_global_ns, self.user_ns)\n"
     ]
    }
   ],
   "source": [
    "import pandas as pd\n",
    "import matplotlib.pyplot as plt\n",
    "import seaborn as sns\n",
    "\n",
    "order = pd.read_csv('C:/Users/happy/Desktop/project/data/order.csv', index_col=0)\n",
    "\n",
    "# datatype conversion \n",
    "order['call_time'] = order['call_time'].astype('datetime64')\n",
    "order['board_time'] = order['board_time'].astype('datetime64')\n",
    "order['alight_time'] = order['alight_time'].astype('datetime64')\n",
    "order['suc_time'] = order['suc_time'].astype('datetime64')\n",
    "order['cancel_time'] = order['cancel_time'].astype('datetime64')\n"
   ]
  },
  {
   "cell_type": "code",
   "execution_count": 37,
   "metadata": {},
   "outputs": [
    {
     "data": {
      "text/html": [
       "<div>\n",
       "<style scoped>\n",
       "    .dataframe tbody tr th:only-of-type {\n",
       "        vertical-align: middle;\n",
       "    }\n",
       "\n",
       "    .dataframe tbody tr th {\n",
       "        vertical-align: top;\n",
       "    }\n",
       "\n",
       "    .dataframe thead th {\n",
       "        text-align: right;\n",
       "    }\n",
       "</style>\n",
       "<table border=\"1\" class=\"dataframe\">\n",
       "  <thead>\n",
       "    <tr style=\"text-align: right;\">\n",
       "      <th></th>\n",
       "      <th>ID</th>\n",
       "      <th>board_station</th>\n",
       "      <th>alight_station</th>\n",
       "      <th>adult</th>\n",
       "      <th>teen</th>\n",
       "      <th>child</th>\n",
       "      <th>distance</th>\n",
       "      <th>fare</th>\n",
       "      <th>suc_status</th>\n",
       "      <th>suc_status_d</th>\n",
       "      <th>call_time</th>\n",
       "      <th>board_time</th>\n",
       "      <th>alight_time</th>\n",
       "      <th>suc_time</th>\n",
       "      <th>cancel_time</th>\n",
       "      <th>x</th>\n",
       "      <th>y</th>\n",
       "      <th>board_adm</th>\n",
       "      <th>alight_adm</th>\n",
       "    </tr>\n",
       "  </thead>\n",
       "  <tbody>\n",
       "    <tr>\n",
       "      <th>0</th>\n",
       "      <td>1</td>\n",
       "      <td>10258</td>\n",
       "      <td>10093</td>\n",
       "      <td>1</td>\n",
       "      <td>0</td>\n",
       "      <td>0</td>\n",
       "      <td>0.0</td>\n",
       "      <td>0</td>\n",
       "      <td>배차불가</td>\n",
       "      <td>NaN</td>\n",
       "      <td>2021-02-15 00:00:24</td>\n",
       "      <td>NaT</td>\n",
       "      <td>NaT</td>\n",
       "      <td>NaT</td>\n",
       "      <td>2021-02-15 00:00:25</td>\n",
       "      <td>37.508302</td>\n",
       "      <td>126.513957</td>\n",
       "      <td>운북동</td>\n",
       "      <td>운남동</td>\n",
       "    </tr>\n",
       "  </tbody>\n",
       "</table>\n",
       "</div>"
      ],
      "text/plain": [
       "   ID  board_station  alight_station  adult  teen  child  distance  fare  \\\n",
       "0   1          10258           10093      1     0      0       0.0     0   \n",
       "\n",
       "  suc_status suc_status_d           call_time board_time alight_time suc_time  \\\n",
       "0       배차불가          NaN 2021-02-15 00:00:24        NaT         NaT      NaT   \n",
       "\n",
       "          cancel_time          x           y board_adm alight_adm  \n",
       "0 2021-02-15 00:00:25  37.508302  126.513957       운북동        운남동  "
      ]
     },
     "execution_count": 37,
     "metadata": {},
     "output_type": "execute_result"
    }
   ],
   "source": [
    "order.head(1)"
   ]
  },
  {
   "cell_type": "code",
   "execution_count": 4,
   "metadata": {},
   "outputs": [],
   "source": [
    "order_cancel = order[(order['call_time'].notnull() & order['cancel_time'].notnull())]\n",
    "order_cancel = order_cancel[order_cancel['suc_status'] != '배차불가']\n",
    "order_cancel = order_cancel[order_cancel['suc_status'] != '시스템취소']"
   ]
  },
  {
   "cell_type": "code",
   "execution_count": 12,
   "metadata": {},
   "outputs": [
    {
     "data": {
      "text/plain": [
       "시뮬레이션취소    158264\n",
       "탑승취소        39235\n",
       "하차완료         3928\n",
       "Name: suc_status, dtype: int64"
      ]
     },
     "execution_count": 12,
     "metadata": {},
     "output_type": "execute_result"
    }
   ],
   "source": [
    "order_cancel['suc_status'].value_counts()"
   ]
  },
  {
   "cell_type": "code",
   "execution_count": 40,
   "metadata": {},
   "outputs": [
    {
     "data": {
      "text/plain": [
       "승차시간 부족     0.370078\n",
       "승차시간 지연     0.182133\n",
       "다른교통수단이용    0.177749\n",
       "개인사정        0.164853\n",
       "미탑승         0.087957\n",
       "중복신청취소      0.014885\n",
       "관리자 취소      0.002345\n",
       "Name: suc_status_d, dtype: float64"
      ]
     },
     "execution_count": 40,
     "metadata": {},
     "output_type": "execute_result"
    }
   ],
   "source": [
    "order_cancel['suc_status_d'].value_counts(normalize=True)"
   ]
  },
  {
   "cell_type": "code",
   "execution_count": 44,
   "metadata": {},
   "outputs": [
    {
     "data": {
      "text/plain": [
       "count    201427.000000\n",
       "mean          2.332223\n",
       "std         196.542067\n",
       "min           0.000000\n",
       "25%           0.066667\n",
       "50%           0.150000\n",
       "75%           0.350000\n",
       "max       87840.066667\n",
       "Name: interval, dtype: float64"
      ]
     },
     "execution_count": 44,
     "metadata": {},
     "output_type": "execute_result"
    }
   ],
   "source": [
    "order_cancel['interval'] = order_cancel['cancel_time'] - order_cancel['call_time']\n",
    "order_cancel['interval'] = order_cancel['interval'].astype(\"timedelta64[s]\") / 60\n",
    "order_cancel['interval'].describe()"
   ]
  },
  {
   "cell_type": "code",
   "execution_count": 34,
   "metadata": {},
   "outputs": [
    {
     "data": {
      "text/plain": [
       "165707"
      ]
     },
     "execution_count": 34,
     "metadata": {},
     "output_type": "execute_result"
    }
   ],
   "source": [
    "( order_cancel['interval'] <= 1 ).sum()"
   ]
  },
  {
   "cell_type": "code",
   "execution_count": 17,
   "metadata": {},
   "outputs": [
    {
     "data": {
      "text/plain": [
       "4876"
      ]
     },
     "execution_count": 17,
     "metadata": {},
     "output_type": "execute_result"
    }
   ],
   "source": [
    "( order_cancel['interval'] == 0 ).sum()"
   ]
  },
  {
   "cell_type": "code",
   "execution_count": 16,
   "metadata": {},
   "outputs": [
    {
     "name": "stdout",
     "output_type": "stream",
     "text": [
      "-0.3575\n",
      "0.7745\n"
     ]
    }
   ],
   "source": [
    "IQR =  0.35 - 0.067\n",
    "limit_1 = 0.067 - IQR * 1.5\n",
    "limit_2 = 0.35 + IQR * 1.5\n",
    "print(limit_1)\n",
    "print(limit_2)"
   ]
  },
  {
   "cell_type": "code",
   "execution_count": 22,
   "metadata": {},
   "outputs": [
    {
     "data": {
      "text/plain": [
       "<AxesSubplot:xlabel='interval', ylabel='Count'>"
      ]
     },
     "execution_count": 22,
     "metadata": {},
     "output_type": "execute_result"
    },
    {
     "data": {
      "image/png": "[encoded data removed]",
      "text/plain": [
       "<Figure size 432x288 with 1 Axes>"
      ]
     },
     "metadata": {
      "needs_background": "light"
     },
     "output_type": "display_data"
    }
   ],
   "source": [
    "sns.histplot(data=order_cancel[order_cancel['interval']<0.7745], x=\"interval\",bins = 24,kde = 'True')"
   ]
  },
  {
   "cell_type": "code",
   "execution_count": 36,
   "metadata": {},
   "outputs": [
    {
     "data": {
      "text/plain": [
       "<AxesSubplot:xlabel='interval', ylabel='Count'>"
      ]
     },
     "execution_count": 36,
     "metadata": {},
     "output_type": "execute_result"
    },
    {
     "data": {
      "image/png": "[encoded data removed]",
      "text/plain": [
       "<Figure size 432x288 with 1 Axes>"
      ]
     },
     "metadata": {
      "needs_background": "light"
     },
     "output_type": "display_data"
    }
   ],
   "source": [
    "sns.histplot(data=order_cancel[(order_cancel['interval']<2) & (order_cancel['interval']>=0)], x=\"interval\",bins = 24,kde = 'True')"
   ]
  },
  {
   "cell_type": "markdown",
   "metadata": {},
   "source": [
    "## Trip 수요별로 묶어서 호출 ~ 취소까지 총 걸린 시간으로 생각해보기"
   ]
  },
  {
   "cell_type": "code",
   "execution_count": 56,
   "metadata": {},
   "outputs": [],
   "source": [
    "order_cancel_trip = pd.DataFrame(order_cancel.groupby('Trip')['interval'].sum())"
   ]
  },
  {
   "cell_type": "code",
   "execution_count": 59,
   "metadata": {},
   "outputs": [
    {
     "data": {
      "text/plain": [
       "count    104076.000000\n",
       "mean          4.513747\n",
       "std         273.773651\n",
       "min           0.000000\n",
       "25%           0.100000\n",
       "50%           0.300000\n",
       "75%           2.033333\n",
       "max       87840.500000\n",
       "Name: interval, dtype: float64"
      ]
     },
     "execution_count": 59,
     "metadata": {},
     "output_type": "execute_result"
    }
   ],
   "source": [
    "order_cancel_trip['interval'].describe()"
   ]
  },
  {
   "cell_type": "code",
   "execution_count": 58,
   "metadata": {},
   "outputs": [
    {
     "data": {
      "text/plain": [
       "71744"
      ]
     },
     "execution_count": 58,
     "metadata": {},
     "output_type": "execute_result"
    }
   ],
   "source": [
    "(order_cancel_trip['interval'] < 1).sum()"
   ]
  },
  {
   "cell_type": "code",
   "execution_count": 60,
   "metadata": {},
   "outputs": [
    {
     "data": {
      "text/plain": [
       "68.93424036281179"
      ]
     },
     "execution_count": 60,
     "metadata": {},
     "output_type": "execute_result"
    }
   ],
   "source": [
    "71744/104076*100"
   ]
  },
  {
   "cell_type": "code",
   "execution_count": 49,
   "metadata": {},
   "outputs": [
    {
     "name": "stdout",
     "output_type": "stream",
     "text": [
      "-0.3245\n",
      "2.4545\n"
     ]
    }
   ],
   "source": [
    "IQR_2 =  2.03 - 0.1\n",
    "lo = 0.1 - IQR * 1.5\n",
    "up = 2.03 + IQR * 1.5\n",
    "print(lo)\n",
    "print(up)"
   ]
  },
  {
   "cell_type": "code",
   "execution_count": 62,
   "metadata": {},
   "outputs": [
    {
     "data": {
      "text/plain": [
       "<AxesSubplot:xlabel='interval', ylabel='Count'>"
      ]
     },
     "execution_count": 62,
     "metadata": {},
     "output_type": "execute_result"
    },
    {
     "data": {
      "image/png": "[encoded data removed]",
      "text/plain": [
       "<Figure size 432x288 with 1 Axes>"
      ]
     },
     "metadata": {
      "needs_background": "light"
     },
     "output_type": "display_data"
    }
   ],
   "source": [
    "sns.histplot(data=order_cancel_trip[order_cancel_trip['interval']<2.4545], x=\"interval\",bins = 25,kde = 'True')"
   ]
  },
  {
   "cell_type": "code",
   "execution_count": null,
   "metadata": {},
   "outputs": [],
   "source": []
  }
 ],
 "metadata": {
  "kernelspec": {
   "display_name": "Python 3",
   "language": "python",
   "name": "python3"
  },
  "language_info": {
   "codemirror_mode": {
    "name": "ipython",
    "version": 3
   },
   "file_extension": ".py",
   "mimetype": "text/x-python",
   "name": "python",
   "nbconvert_exporter": "python",
   "pygments_lexer": "ipython3",
   "version": "3.9.13"
  },
  "orig_nbformat": 4
 },
 "nbformat": 4,
 "nbformat_minor": 2
}
