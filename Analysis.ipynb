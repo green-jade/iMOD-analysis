{
 "cells": [
  {
   "cell_type": "markdown",
   "metadata": {},
   "source": [
    "# 0. Environment Setting & Read data"
   ]
  },
  {
   "cell_type": "code",
   "execution_count": 1,
   "metadata": {},
   "outputs": [],
   "source": [
    "import pandas as pd\n",
    "import matplotlib.pyplot as plt\n",
    "import seaborn as sns"
   ]
  },
  {
   "cell_type": "code",
   "execution_count": null,
   "metadata": {},
   "outputs": [],
   "source": [
    "order = pd.read_csv('C:/Users/happy/Desktop/project/data/order.csv', index_col=0)\n",
    "order_last = pd.read_csv('C:/Users/happy/Desktop/project/data/order_last.csv',index_col=0)"
   ]
  },
  {
   "cell_type": "code",
   "execution_count": 3,
   "metadata": {},
   "outputs": [
    {
     "data": {
      "text/html": [
       "<div>\n",
       "<style scoped>\n",
       "    .dataframe tbody tr th:only-of-type {\n",
       "        vertical-align: middle;\n",
       "    }\n",
       "\n",
       "    .dataframe tbody tr th {\n",
       "        vertical-align: top;\n",
       "    }\n",
       "\n",
       "    .dataframe thead th {\n",
       "        text-align: right;\n",
       "    }\n",
       "</style>\n",
       "<table border=\"1\" class=\"dataframe\">\n",
       "  <thead>\n",
       "    <tr style=\"text-align: right;\">\n",
       "      <th></th>\n",
       "      <th>ID</th>\n",
       "      <th>board_station</th>\n",
       "      <th>alight_station</th>\n",
       "      <th>adult</th>\n",
       "      <th>teen</th>\n",
       "      <th>child</th>\n",
       "      <th>distance</th>\n",
       "      <th>fare</th>\n",
       "      <th>suc_status</th>\n",
       "      <th>suc_status_d</th>\n",
       "      <th>call_time</th>\n",
       "      <th>board_time</th>\n",
       "      <th>alight_time</th>\n",
       "      <th>suc_time</th>\n",
       "      <th>cancel_time</th>\n",
       "      <th>x</th>\n",
       "      <th>y</th>\n",
       "      <th>board_adm</th>\n",
       "      <th>alight_adm</th>\n",
       "    </tr>\n",
       "  </thead>\n",
       "  <tbody>\n",
       "    <tr>\n",
       "      <th>0</th>\n",
       "      <td>1</td>\n",
       "      <td>10258</td>\n",
       "      <td>10093</td>\n",
       "      <td>1</td>\n",
       "      <td>0</td>\n",
       "      <td>0</td>\n",
       "      <td>0.0</td>\n",
       "      <td>0</td>\n",
       "      <td>배차불가</td>\n",
       "      <td>NaN</td>\n",
       "      <td>2021-02-15 00:00:24</td>\n",
       "      <td>NaN</td>\n",
       "      <td>NaN</td>\n",
       "      <td>NaN</td>\n",
       "      <td>2021-02-15 00:00:25</td>\n",
       "      <td>37.508302</td>\n",
       "      <td>126.513957</td>\n",
       "      <td>운북동</td>\n",
       "      <td>운남동</td>\n",
       "    </tr>\n",
       "    <tr>\n",
       "      <th>1</th>\n",
       "      <td>7</td>\n",
       "      <td>10258</td>\n",
       "      <td>12005</td>\n",
       "      <td>1</td>\n",
       "      <td>0</td>\n",
       "      <td>0</td>\n",
       "      <td>0.0</td>\n",
       "      <td>0</td>\n",
       "      <td>배차불가</td>\n",
       "      <td>NaN</td>\n",
       "      <td>2021-02-15 00:00:35</td>\n",
       "      <td>NaN</td>\n",
       "      <td>NaN</td>\n",
       "      <td>NaN</td>\n",
       "      <td>2021-02-15 00:00:35</td>\n",
       "      <td>37.508586</td>\n",
       "      <td>126.513748</td>\n",
       "      <td>운북동</td>\n",
       "      <td>운서동(주거)</td>\n",
       "    </tr>\n",
       "    <tr>\n",
       "      <th>2</th>\n",
       "      <td>1</td>\n",
       "      <td>10258</td>\n",
       "      <td>10093</td>\n",
       "      <td>1</td>\n",
       "      <td>0</td>\n",
       "      <td>0</td>\n",
       "      <td>0.0</td>\n",
       "      <td>0</td>\n",
       "      <td>배차불가</td>\n",
       "      <td>NaN</td>\n",
       "      <td>2021-02-15 00:00:46</td>\n",
       "      <td>NaN</td>\n",
       "      <td>NaN</td>\n",
       "      <td>NaN</td>\n",
       "      <td>2021-02-15 00:00:46</td>\n",
       "      <td>37.508371</td>\n",
       "      <td>126.514027</td>\n",
       "      <td>운북동</td>\n",
       "      <td>운남동</td>\n",
       "    </tr>\n",
       "    <tr>\n",
       "      <th>3</th>\n",
       "      <td>7901</td>\n",
       "      <td>10258</td>\n",
       "      <td>10196</td>\n",
       "      <td>1</td>\n",
       "      <td>0</td>\n",
       "      <td>0</td>\n",
       "      <td>0.0</td>\n",
       "      <td>0</td>\n",
       "      <td>배차불가</td>\n",
       "      <td>NaN</td>\n",
       "      <td>2021-02-15 00:00:47</td>\n",
       "      <td>NaN</td>\n",
       "      <td>NaN</td>\n",
       "      <td>NaN</td>\n",
       "      <td>2021-02-15 00:00:47</td>\n",
       "      <td>37.508612</td>\n",
       "      <td>126.513747</td>\n",
       "      <td>운북동</td>\n",
       "      <td>운북동</td>\n",
       "    </tr>\n",
       "    <tr>\n",
       "      <th>4</th>\n",
       "      <td>7</td>\n",
       "      <td>10258</td>\n",
       "      <td>12005</td>\n",
       "      <td>1</td>\n",
       "      <td>0</td>\n",
       "      <td>0</td>\n",
       "      <td>0.0</td>\n",
       "      <td>0</td>\n",
       "      <td>배차불가</td>\n",
       "      <td>NaN</td>\n",
       "      <td>2021-02-15 00:00:56</td>\n",
       "      <td>NaN</td>\n",
       "      <td>NaN</td>\n",
       "      <td>NaN</td>\n",
       "      <td>2021-02-15 00:00:56</td>\n",
       "      <td>37.508598</td>\n",
       "      <td>126.513748</td>\n",
       "      <td>운북동</td>\n",
       "      <td>운서동(주거)</td>\n",
       "    </tr>\n",
       "  </tbody>\n",
       "</table>\n",
       "</div>"
      ],
      "text/plain": [
       "     ID  board_station  alight_station  adult  teen  child  distance  fare  \\\n",
       "0     1          10258           10093      1     0      0       0.0     0   \n",
       "1     7          10258           12005      1     0      0       0.0     0   \n",
       "2     1          10258           10093      1     0      0       0.0     0   \n",
       "3  7901          10258           10196      1     0      0       0.0     0   \n",
       "4     7          10258           12005      1     0      0       0.0     0   \n",
       "\n",
       "  suc_status suc_status_d            call_time board_time alight_time  \\\n",
       "0       배차불가          NaN  2021-02-15 00:00:24        NaN         NaN   \n",
       "1       배차불가          NaN  2021-02-15 00:00:35        NaN         NaN   \n",
       "2       배차불가          NaN  2021-02-15 00:00:46        NaN         NaN   \n",
       "3       배차불가          NaN  2021-02-15 00:00:47        NaN         NaN   \n",
       "4       배차불가          NaN  2021-02-15 00:00:56        NaN         NaN   \n",
       "\n",
       "  suc_time          cancel_time          x           y board_adm alight_adm  \n",
       "0      NaN  2021-02-15 00:00:25  37.508302  126.513957       운북동        운남동  \n",
       "1      NaN  2021-02-15 00:00:35  37.508586  126.513748       운북동    운서동(주거)  \n",
       "2      NaN  2021-02-15 00:00:46  37.508371  126.514027       운북동        운남동  \n",
       "3      NaN  2021-02-15 00:00:47  37.508612  126.513747       운북동        운북동  \n",
       "4      NaN  2021-02-15 00:00:56  37.508598  126.513748       운북동    운서동(주거)  "
      ]
     },
     "execution_count": 3,
     "metadata": {},
     "output_type": "execute_result"
    }
   ],
   "source": [
    "order.head()"
   ]
  },
  {
   "cell_type": "code",
   "execution_count": 4,
   "metadata": {},
   "outputs": [
    {
     "data": {
      "text/plain": [
       "ID                      0\n",
       "board_station           0\n",
       "alight_station          0\n",
       "adult                   0\n",
       "teen                    0\n",
       "child                   0\n",
       "distance                0\n",
       "fare                    0\n",
       "suc_status              0\n",
       "suc_status_d      3612594\n",
       "call_time               0\n",
       "board_time        3523346\n",
       "alight_time       3523346\n",
       "suc_time          3487874\n",
       "cancel_time        129908\n",
       "x                    4843\n",
       "y                    4843\n",
       "board_adm               0\n",
       "alight_adm              2\n",
       "dtype: int64"
      ]
     },
     "execution_count": 4,
     "metadata": {},
     "output_type": "execute_result"
    }
   ],
   "source": [
    "# column 별 null 값 갯수\n",
    "order.isnull().sum()"
   ]
  },
  {
   "cell_type": "code",
   "execution_count": 5,
   "metadata": {},
   "outputs": [],
   "source": [
    "# datatype conversion \n",
    "order['call_time'] = order['call_time'].astype('datetime64')\n",
    "order['board_time'] = order['board_time'].astype('datetime64')\n",
    "order['alight_time'] = order['alight_time'].astype('datetime64')\n",
    "order['suc_time'] = order['suc_time'].astype('datetime64')"
   ]
  },
  {
   "cell_type": "code",
   "execution_count": 6,
   "metadata": {},
   "outputs": [],
   "source": [
    "order_last['call_time'] = order_last['call_time'].astype('datetime64')\n",
    "order_last['board_time'] = order_last['board_time'].astype('datetime64')\n",
    "order_last['alight_time'] = order_last['alight_time'].astype('datetime64')\n",
    "order_last['suc_time'] = order_last['suc_time'].astype('datetime64')"
   ]
  },
  {
   "cell_type": "markdown",
   "metadata": {},
   "source": [
    "# 1. 시간정보"
   ]
  },
  {
   "cell_type": "markdown",
   "metadata": {},
   "source": [
    "## 1-1. Call Time"
   ]
  },
  {
   "cell_type": "code",
   "execution_count": 7,
   "metadata": {},
   "outputs": [
    {
     "name": "stdout",
     "output_type": "stream",
     "text": [
      "2021-02-15 00:00:24\n",
      "2022-07-02 22:59:05\n"
     ]
    }
   ],
   "source": [
    "print(min(order['call_time']))\n",
    "print(max(order['call_time']))"
   ]
  },
  {
   "cell_type": "markdown",
   "metadata": {},
   "source": [
    "기록상 호출 이력 날짜 : 2021년 2월 15일 ~ 2021년 5월 15일, 2021년 7월 25일 ~ 2022년 7월 2일 "
   ]
  },
  {
   "cell_type": "code",
   "execution_count": 25,
   "metadata": {},
   "outputs": [
    {
     "data": {
      "text/html": [
       "<div>\n",
       "<style scoped>\n",
       "    .dataframe tbody tr th:only-of-type {\n",
       "        vertical-align: middle;\n",
       "    }\n",
       "\n",
       "    .dataframe tbody tr th {\n",
       "        vertical-align: top;\n",
       "    }\n",
       "\n",
       "    .dataframe thead th {\n",
       "        text-align: right;\n",
       "    }\n",
       "</style>\n",
       "<table border=\"1\" class=\"dataframe\">\n",
       "  <thead>\n",
       "    <tr style=\"text-align: right;\">\n",
       "      <th></th>\n",
       "      <th>ID</th>\n",
       "      <th>call_time</th>\n",
       "    </tr>\n",
       "  </thead>\n",
       "  <tbody>\n",
       "    <tr>\n",
       "      <th>0</th>\n",
       "      <td>1</td>\n",
       "      <td>2021/02/15</td>\n",
       "    </tr>\n",
       "    <tr>\n",
       "      <th>1</th>\n",
       "      <td>7</td>\n",
       "      <td>2021/02/15</td>\n",
       "    </tr>\n",
       "    <tr>\n",
       "      <th>2</th>\n",
       "      <td>1</td>\n",
       "      <td>2021/02/15</td>\n",
       "    </tr>\n",
       "    <tr>\n",
       "      <th>3</th>\n",
       "      <td>7901</td>\n",
       "      <td>2021/02/15</td>\n",
       "    </tr>\n",
       "    <tr>\n",
       "      <th>4</th>\n",
       "      <td>7</td>\n",
       "      <td>2021/02/15</td>\n",
       "    </tr>\n",
       "  </tbody>\n",
       "</table>\n",
       "</div>"
      ],
      "text/plain": [
       "     ID   call_time\n",
       "0     1  2021/02/15\n",
       "1     7  2021/02/15\n",
       "2     1  2021/02/15\n",
       "3  7901  2021/02/15\n",
       "4     7  2021/02/15"
      ]
     },
     "execution_count": 25,
     "metadata": {},
     "output_type": "execute_result"
    }
   ],
   "source": [
    "df_1 = order.loc[:,['ID', 'call_time']]\n",
    "df_1['call_time'] = df_1['call_time'].dt.strftime('%Y/%m/%d')\n",
    "df_1.head()"
   ]
  },
  {
   "cell_type": "code",
   "execution_count": 26,
   "metadata": {},
   "outputs": [
    {
     "data": {
      "text/plain": [
       "<AxesSubplot:xlabel='call_time', ylabel='count'>"
      ]
     },
     "execution_count": 26,
     "metadata": {},
     "output_type": "execute_result"
    },
    {
     "data": {
      "image/png": "[encoded data removed]",
      "text/plain": [
       "<Figure size 432x288 with 1 Axes>"
      ]
     },
     "metadata": {
      "needs_background": "light"
     },
     "output_type": "display_data"
    }
   ],
   "source": [
    "a = pd.DataFrame(df_1.groupby('call_time')['ID'].count()).rename(columns={'ID':'count'})\n",
    "sns.lineplot(data = a, x = \"call_time\", y = \"count\")\n",
    "\n",
    "# 급격히 호출 건수 감소 구역 : 기록 안된 날짜들 "
   ]
  },
  {
   "cell_type": "code",
   "execution_count": null,
   "metadata": {},
   "outputs": [],
   "source": [
    "# weekdays vs weekends"
   ]
  },
  {
   "cell_type": "code",
   "execution_count": 34,
   "metadata": {},
   "outputs": [
    {
     "data": {
      "text/plain": [
       "8524.885780885781"
      ]
     },
     "execution_count": 34,
     "metadata": {},
     "output_type": "execute_result"
    }
   ],
   "source": [
    "# 하루 평균 순 호출 수\n",
    "a['count'].mean()"
   ]
  },
  {
   "cell_type": "code",
   "execution_count": 31,
   "metadata": {},
   "outputs": [
    {
     "data": {
      "text/html": [
       "<div>\n",
       "<style scoped>\n",
       "    .dataframe tbody tr th:only-of-type {\n",
       "        vertical-align: middle;\n",
       "    }\n",
       "\n",
       "    .dataframe tbody tr th {\n",
       "        vertical-align: top;\n",
       "    }\n",
       "\n",
       "    .dataframe thead th {\n",
       "        text-align: right;\n",
       "    }\n",
       "</style>\n",
       "<table border=\"1\" class=\"dataframe\">\n",
       "  <thead>\n",
       "    <tr style=\"text-align: right;\">\n",
       "      <th></th>\n",
       "      <th>ID</th>\n",
       "      <th>call_time</th>\n",
       "    </tr>\n",
       "  </thead>\n",
       "  <tbody>\n",
       "    <tr>\n",
       "      <th>0</th>\n",
       "      <td>1</td>\n",
       "      <td>2021/02/15</td>\n",
       "    </tr>\n",
       "    <tr>\n",
       "      <th>1</th>\n",
       "      <td>1</td>\n",
       "      <td>2021/02/15</td>\n",
       "    </tr>\n",
       "    <tr>\n",
       "      <th>2</th>\n",
       "      <td>1</td>\n",
       "      <td>2021/02/15</td>\n",
       "    </tr>\n",
       "    <tr>\n",
       "      <th>3</th>\n",
       "      <td>1</td>\n",
       "      <td>2021/02/15</td>\n",
       "    </tr>\n",
       "    <tr>\n",
       "      <th>4</th>\n",
       "      <td>1</td>\n",
       "      <td>2021/02/15</td>\n",
       "    </tr>\n",
       "  </tbody>\n",
       "</table>\n",
       "</div>"
      ],
      "text/plain": [
       "   ID   call_time\n",
       "0   1  2021/02/15\n",
       "1   1  2021/02/15\n",
       "2   1  2021/02/15\n",
       "3   1  2021/02/15\n",
       "4   1  2021/02/15"
      ]
     },
     "execution_count": 31,
     "metadata": {},
     "output_type": "execute_result"
    }
   ],
   "source": [
    "df_2 = order_last.loc[:,['ID', 'call_time']]\n",
    "df_2['call_time'] = df_2['call_time'].dt.strftime('%Y/%m/%d')\n",
    "df_2.head()"
   ]
  },
  {
   "cell_type": "code",
   "execution_count": 33,
   "metadata": {},
   "outputs": [
    {
     "data": {
      "text/plain": [
       "<AxesSubplot:xlabel='call_time', ylabel='count'>"
      ]
     },
     "execution_count": 33,
     "metadata": {},
     "output_type": "execute_result"
    },
    {
     "data": {
      "image/png": "[encoded data removed]",
      "text/plain": [
       "<Figure size 432x288 with 1 Axes>"
      ]
     },
     "metadata": {
      "needs_background": "light"
     },
     "output_type": "display_data"
    }
   ],
   "source": [
    "b = pd.DataFrame(df_2.groupby('call_time')['ID'].count()).rename(columns={'ID':'count'})\n",
    "sns.lineplot(data = b, x = \"call_time\", y = \"count\")\n",
    "\n",
    "# 급격히 호출 건수 감소 구역 : 기록 안된 날짜들 "
   ]
  },
  {
   "cell_type": "code",
   "execution_count": 35,
   "metadata": {},
   "outputs": [
    {
     "data": {
      "text/plain": [
       "675.1098130841121"
      ]
     },
     "execution_count": 35,
     "metadata": {},
     "output_type": "execute_result"
    }
   ],
   "source": [
    "# 실 이동수요 반영한 하루 평균 호출 수\n",
    "b['count'].mean()"
   ]
  },
  {
   "cell_type": "code",
   "execution_count": 39,
   "metadata": {},
   "outputs": [
    {
     "data": {
      "text/html": [
       "<div>\n",
       "<style scoped>\n",
       "    .dataframe tbody tr th:only-of-type {\n",
       "        vertical-align: middle;\n",
       "    }\n",
       "\n",
       "    .dataframe tbody tr th {\n",
       "        vertical-align: top;\n",
       "    }\n",
       "\n",
       "    .dataframe thead th {\n",
       "        text-align: right;\n",
       "    }\n",
       "</style>\n",
       "<table border=\"1\" class=\"dataframe\">\n",
       "  <thead>\n",
       "    <tr style=\"text-align: right;\">\n",
       "      <th></th>\n",
       "      <th>ID</th>\n",
       "      <th>call_time</th>\n",
       "    </tr>\n",
       "  </thead>\n",
       "  <tbody>\n",
       "    <tr>\n",
       "      <th>0</th>\n",
       "      <td>1</td>\n",
       "      <td>00</td>\n",
       "    </tr>\n",
       "    <tr>\n",
       "      <th>1</th>\n",
       "      <td>1</td>\n",
       "      <td>00</td>\n",
       "    </tr>\n",
       "    <tr>\n",
       "      <th>2</th>\n",
       "      <td>1</td>\n",
       "      <td>00</td>\n",
       "    </tr>\n",
       "    <tr>\n",
       "      <th>3</th>\n",
       "      <td>1</td>\n",
       "      <td>03</td>\n",
       "    </tr>\n",
       "    <tr>\n",
       "      <th>4</th>\n",
       "      <td>1</td>\n",
       "      <td>19</td>\n",
       "    </tr>\n",
       "  </tbody>\n",
       "</table>\n",
       "</div>"
      ],
      "text/plain": [
       "   ID call_time\n",
       "0   1        00\n",
       "1   1        00\n",
       "2   1        00\n",
       "3   1        03\n",
       "4   1        19"
      ]
     },
     "execution_count": 39,
     "metadata": {},
     "output_type": "execute_result"
    }
   ],
   "source": [
    "df_3 = order_last.loc[:,['ID', 'call_time']]\n",
    "df_3['call_time'] = df_3['call_time'].dt.strftime('%H')\n",
    "df_3.head()"
   ]
  },
  {
   "cell_type": "code",
   "execution_count": 44,
   "metadata": {},
   "outputs": [
    {
     "data": {
      "text/plain": [
       "<matplotlib.lines.Line2D at 0x2752d301190>"
      ]
     },
     "execution_count": 44,
     "metadata": {},
     "output_type": "execute_result"
    },
    {
     "data": {
      "image/png": "[encoded data removed]",
      "text/plain": [
       "<Figure size 432x288 with 1 Axes>"
      ]
     },
     "metadata": {
      "needs_background": "light"
     },
     "output_type": "display_data"
    }
   ],
   "source": [
    "c = pd.DataFrame(df_3.groupby('call_time')['ID'].count()).rename(columns={'ID':'count'})\n",
    "sns.lineplot(data = c, x = \"call_time\", y = \"count\")\n",
    "plt.axvline(x=8, color = 'red')\n",
    "plt.axvline(x=16, color = 'red')"
   ]
  },
  {
   "cell_type": "markdown",
   "metadata": {},
   "source": [
    "## 1-2. Waiting Time"
   ]
  },
  {
   "cell_type": "code",
   "execution_count": 51,
   "metadata": {},
   "outputs": [
    {
     "data": {
      "text/html": [
       "<div>\n",
       "<style scoped>\n",
       "    .dataframe tbody tr th:only-of-type {\n",
       "        vertical-align: middle;\n",
       "    }\n",
       "\n",
       "    .dataframe tbody tr th {\n",
       "        vertical-align: top;\n",
       "    }\n",
       "\n",
       "    .dataframe thead th {\n",
       "        text-align: right;\n",
       "    }\n",
       "</style>\n",
       "<table border=\"1\" class=\"dataframe\">\n",
       "  <thead>\n",
       "    <tr style=\"text-align: right;\">\n",
       "      <th></th>\n",
       "      <th>ID</th>\n",
       "      <th>alight_station</th>\n",
       "      <th>off_station</th>\n",
       "      <th>adult</th>\n",
       "      <th>teen</th>\n",
       "      <th>child</th>\n",
       "      <th>distance</th>\n",
       "      <th>fare</th>\n",
       "      <th>suc_status</th>\n",
       "      <th>suc_status_d</th>\n",
       "      <th>call_time</th>\n",
       "      <th>alight_time</th>\n",
       "      <th>off_time</th>\n",
       "      <th>suc_time</th>\n",
       "      <th>cancel_time</th>\n",
       "      <th>x</th>\n",
       "      <th>y</th>\n",
       "      <th>alight_adm</th>\n",
       "      <th>off_adm</th>\n",
       "      <th>wait_time</th>\n",
       "    </tr>\n",
       "  </thead>\n",
       "  <tbody>\n",
       "    <tr>\n",
       "      <th>0</th>\n",
       "      <td>1</td>\n",
       "      <td>10258</td>\n",
       "      <td>10093</td>\n",
       "      <td>1</td>\n",
       "      <td>0</td>\n",
       "      <td>0</td>\n",
       "      <td>0.0</td>\n",
       "      <td>0</td>\n",
       "      <td>배차불가</td>\n",
       "      <td>NaN</td>\n",
       "      <td>2021-02-15 00:00:24</td>\n",
       "      <td>NaT</td>\n",
       "      <td>NaT</td>\n",
       "      <td>NaT</td>\n",
       "      <td>2021-02-15 00:00:25</td>\n",
       "      <td>37.508302</td>\n",
       "      <td>126.513957</td>\n",
       "      <td>운북동</td>\n",
       "      <td>운남동</td>\n",
       "      <td>NaT</td>\n",
       "    </tr>\n",
       "    <tr>\n",
       "      <th>1</th>\n",
       "      <td>7</td>\n",
       "      <td>10258</td>\n",
       "      <td>12005</td>\n",
       "      <td>1</td>\n",
       "      <td>0</td>\n",
       "      <td>0</td>\n",
       "      <td>0.0</td>\n",
       "      <td>0</td>\n",
       "      <td>배차불가</td>\n",
       "      <td>NaN</td>\n",
       "      <td>2021-02-15 00:00:35</td>\n",
       "      <td>NaT</td>\n",
       "      <td>NaT</td>\n",
       "      <td>NaT</td>\n",
       "      <td>2021-02-15 00:00:35</td>\n",
       "      <td>37.508586</td>\n",
       "      <td>126.513748</td>\n",
       "      <td>운북동</td>\n",
       "      <td>운서동(주거)</td>\n",
       "      <td>NaT</td>\n",
       "    </tr>\n",
       "    <tr>\n",
       "      <th>2</th>\n",
       "      <td>1</td>\n",
       "      <td>10258</td>\n",
       "      <td>10093</td>\n",
       "      <td>1</td>\n",
       "      <td>0</td>\n",
       "      <td>0</td>\n",
       "      <td>0.0</td>\n",
       "      <td>0</td>\n",
       "      <td>배차불가</td>\n",
       "      <td>NaN</td>\n",
       "      <td>2021-02-15 00:00:46</td>\n",
       "      <td>NaT</td>\n",
       "      <td>NaT</td>\n",
       "      <td>NaT</td>\n",
       "      <td>2021-02-15 00:00:46</td>\n",
       "      <td>37.508371</td>\n",
       "      <td>126.514027</td>\n",
       "      <td>운북동</td>\n",
       "      <td>운남동</td>\n",
       "      <td>NaT</td>\n",
       "    </tr>\n",
       "  </tbody>\n",
       "</table>\n",
       "</div>"
      ],
      "text/plain": [
       "   ID  alight_station  off_station  adult  teen  child  distance  fare  \\\n",
       "0   1           10258        10093      1     0      0       0.0     0   \n",
       "1   7           10258        12005      1     0      0       0.0     0   \n",
       "2   1           10258        10093      1     0      0       0.0     0   \n",
       "\n",
       "  suc_status suc_status_d           call_time alight_time off_time suc_time  \\\n",
       "0       배차불가          NaN 2021-02-15 00:00:24         NaT      NaT      NaT   \n",
       "1       배차불가          NaN 2021-02-15 00:00:35         NaT      NaT      NaT   \n",
       "2       배차불가          NaN 2021-02-15 00:00:46         NaT      NaT      NaT   \n",
       "\n",
       "           cancel_time          x           y alight_adm  off_adm wait_time  \n",
       "0  2021-02-15 00:00:25  37.508302  126.513957        운북동      운남동       NaT  \n",
       "1  2021-02-15 00:00:35  37.508586  126.513748        운북동  운서동(주거)       NaT  \n",
       "2  2021-02-15 00:00:46  37.508371  126.514027        운북동      운남동       NaT  "
      ]
     },
     "execution_count": 51,
     "metadata": {},
     "output_type": "execute_result"
    }
   ],
   "source": [
    "# 파생변수 wait_time 생성\n",
    "order['wait_time'] = order['alight_time'] - order['call_time']\n",
    "order_last['wait_time'] = order['alight_time'] - order['call_time']\n",
    "order.head(3)"
   ]
  },
  {
   "cell_type": "code",
   "execution_count": 56,
   "metadata": {},
   "outputs": [],
   "source": [
    "order_last['wait_time'] = order_last['wait_time'].astype(\"timedelta64[s]\") / 60"
   ]
  },
  {
   "cell_type": "code",
   "execution_count": 59,
   "metadata": {},
   "outputs": [
    {
     "data": {
      "image/png": "[encoded data removed]",
      "text/plain": [
       "<Figure size 432x288 with 1 Axes>"
      ]
     },
     "metadata": {
      "needs_background": "light"
     },
     "output_type": "display_data"
    }
   ],
   "source": [
    "sns.boxplot( y=order_last[\"wait_time\"] )\n",
    "plt.title(\"Distribution of Waiting Time (min)\")\n",
    "plt.show()"
   ]
  },
  {
   "cell_type": "code",
   "execution_count": 60,
   "metadata": {},
   "outputs": [
    {
     "data": {
      "text/plain": [
       "count    16895.000000\n",
       "mean        14.662348\n",
       "std          7.003911\n",
       "min          0.750000\n",
       "25%          9.416667\n",
       "50%         14.200000\n",
       "75%         18.983333\n",
       "max         69.933333\n",
       "Name: wait_time, dtype: float64"
      ]
     },
     "execution_count": 60,
     "metadata": {},
     "output_type": "execute_result"
    }
   ],
   "source": [
    "order_last['wait_time'].describe()"
   ]
  },
  {
   "cell_type": "markdown",
   "metadata": {},
   "source": [
    "## 1-3. Alight / Off Time"
   ]
  },
  {
   "cell_type": "code",
   "execution_count": 25,
   "metadata": {},
   "outputs": [
    {
     "name": "stdout",
     "output_type": "stream",
     "text": [
      "2021-02-15 00:09:11\n",
      "2022-07-02 23:13:50\n"
     ]
    }
   ],
   "source": [
    "print(min(order[order['alight_time'].notnull()]['alight_time']))\n",
    "print(max(order[order['alight_time'].notnull()]['alight_time']))"
   ]
  },
  {
   "cell_type": "code",
   "execution_count": 26,
   "metadata": {},
   "outputs": [
    {
     "name": "stdout",
     "output_type": "stream",
     "text": [
      "2021-02-15 00:10:58\n",
      "2022-07-02 23:23:14\n"
     ]
    }
   ],
   "source": [
    "print(min(order[order['off_time'].notnull()]['off_time']))\n",
    "print(max(order[order['off_time'].notnull()]['off_time']))"
   ]
  },
  {
   "cell_type": "code",
   "execution_count": 65,
   "metadata": {},
   "outputs": [],
   "source": [
    "full_ride = order_last[(order_last['alight_time'].notnull())]"
   ]
  },
  {
   "cell_type": "code",
   "execution_count": 69,
   "metadata": {},
   "outputs": [
    {
     "data": {
      "text/html": [
       "<div>\n",
       "<style scoped>\n",
       "    .dataframe tbody tr th:only-of-type {\n",
       "        vertical-align: middle;\n",
       "    }\n",
       "\n",
       "    .dataframe tbody tr th {\n",
       "        vertical-align: top;\n",
       "    }\n",
       "\n",
       "    .dataframe thead th {\n",
       "        text-align: right;\n",
       "    }\n",
       "</style>\n",
       "<table border=\"1\" class=\"dataframe\">\n",
       "  <thead>\n",
       "    <tr style=\"text-align: right;\">\n",
       "      <th></th>\n",
       "      <th>ID</th>\n",
       "      <th>alight_time</th>\n",
       "      <th>off_time</th>\n",
       "    </tr>\n",
       "  </thead>\n",
       "  <tbody>\n",
       "    <tr>\n",
       "      <th>2</th>\n",
       "      <td>1</td>\n",
       "      <td>2021-02-15 01:54:27</td>\n",
       "      <td>2021/02/15</td>\n",
       "    </tr>\n",
       "    <tr>\n",
       "      <th>6</th>\n",
       "      <td>1</td>\n",
       "      <td>2021-02-15 19:30:53</td>\n",
       "      <td>2021/02/15</td>\n",
       "    </tr>\n",
       "    <tr>\n",
       "      <th>72</th>\n",
       "      <td>5</td>\n",
       "      <td>2021-02-15 00:17:47</td>\n",
       "      <td>2021/02/15</td>\n",
       "    </tr>\n",
       "    <tr>\n",
       "      <th>73</th>\n",
       "      <td>5</td>\n",
       "      <td>2021-02-15 03:14:01</td>\n",
       "      <td>2021/02/15</td>\n",
       "    </tr>\n",
       "    <tr>\n",
       "      <th>80</th>\n",
       "      <td>6</td>\n",
       "      <td>2021-02-15 01:18:12</td>\n",
       "      <td>2021/02/15</td>\n",
       "    </tr>\n",
       "  </tbody>\n",
       "</table>\n",
       "</div>"
      ],
      "text/plain": [
       "    ID         alight_time    off_time\n",
       "2    1 2021-02-15 01:54:27  2021/02/15\n",
       "6    1 2021-02-15 19:30:53  2021/02/15\n",
       "72   5 2021-02-15 00:17:47  2021/02/15\n",
       "73   5 2021-02-15 03:14:01  2021/02/15\n",
       "80   6 2021-02-15 01:18:12  2021/02/15"
      ]
     },
     "execution_count": 69,
     "metadata": {},
     "output_type": "execute_result"
    }
   ],
   "source": [
    "df_4 = full_ride.loc[:,['ID', 'alight_time', 'off_time']]\n",
    "df_4['off_time'] = df_4['off_time'].dt.strftime('%Y/%m/%d')\n",
    "df_4.head()"
   ]
  },
  {
   "cell_type": "code",
   "execution_count": 73,
   "metadata": {},
   "outputs": [
    {
     "data": {
      "text/plain": [
       "<AxesSubplot:xlabel='off_time', ylabel='count'>"
      ]
     },
     "execution_count": 73,
     "metadata": {},
     "output_type": "execute_result"
    },
    {
     "data": {
      "image/png": "[encoded data removed]",
      "text/plain": [
       "<Figure size 432x288 with 1 Axes>"
      ]
     },
     "metadata": {
      "needs_background": "light"
     },
     "output_type": "display_data"
    }
   ],
   "source": [
    "d = pd.DataFrame(df_4.groupby('off_time')['ID'].count()).rename(columns={'ID':'count'})\n",
    "sns.scatterplot(data = d, x = \"off_time\", y = \"count\")"
   ]
  },
  {
   "cell_type": "code",
   "execution_count": null,
   "metadata": {},
   "outputs": [],
   "source": [
    "# weekdays vs weekends "
   ]
  },
  {
   "cell_type": "code",
   "execution_count": 78,
   "metadata": {},
   "outputs": [
    {
     "data": {
      "text/plain": [
       "Text(0.5, 1.0, 'Count by Time Alighted')"
      ]
     },
     "execution_count": 78,
     "metadata": {},
     "output_type": "execute_result"
    },
    {
     "data": {
      "image/png": "[encoded data removed]",
      "text/plain": [
       "<Figure size 432x288 with 1 Axes>"
      ]
     },
     "metadata": {
      "needs_background": "light"
     },
     "output_type": "display_data"
    }
   ],
   "source": [
    "df_5 = full_ride.loc[:,['ID', 'alight_time', 'off_time']]\n",
    "df_5['alight_time'] = df_5['alight_time'].dt.strftime('%H')\n",
    "df_5['off_time'] = df_5['off_time'].dt.strftime('%H')\n",
    "\n",
    "e = pd.DataFrame(df_5.groupby('alight_time')['ID'].count()).rename(columns={'ID':'count'})\n",
    "sns.lineplot(data = e, x = \"alight_time\", y = \"count\")\n",
    "plt.axvline(x=6, color = 'red')\n",
    "plt.axvline(x=14, color = 'red')\n",
    "plt.title('Count by Time Alighted')\n",
    "\n"
   ]
  },
  {
   "cell_type": "code",
   "execution_count": 79,
   "metadata": {},
   "outputs": [
    {
     "data": {
      "text/plain": [
       "Text(0.5, 1.0, 'Count by Time Got Off')"
      ]
     },
     "execution_count": 79,
     "metadata": {},
     "output_type": "execute_result"
    },
    {
     "data": {
      "image/png": "[encoded data removed]",
      "text/plain": [
       "<Figure size 432x288 with 1 Axes>"
      ]
     },
     "metadata": {
      "needs_background": "light"
     },
     "output_type": "display_data"
    }
   ],
   "source": [
    "f = pd.DataFrame(df_5.groupby('off_time')['ID'].count()).rename(columns={'ID':'count'})\n",
    "sns.lineplot(data = f, x = \"off_time\", y = \"count\")\n",
    "plt.axvline(x=6, color = 'red')\n",
    "plt.axvline(x=14, color = 'red')\n",
    "plt.title('Count by Time Got Off')"
   ]
  },
  {
   "cell_type": "markdown",
   "metadata": {},
   "source": [
    "## 1-4. 이동시간"
   ]
  },
  {
   "cell_type": "code",
   "execution_count": 62,
   "metadata": {},
   "outputs": [
    {
     "data": {
      "text/html": [
       "<div>\n",
       "<style scoped>\n",
       "    .dataframe tbody tr th:only-of-type {\n",
       "        vertical-align: middle;\n",
       "    }\n",
       "\n",
       "    .dataframe tbody tr th {\n",
       "        vertical-align: top;\n",
       "    }\n",
       "\n",
       "    .dataframe thead th {\n",
       "        text-align: right;\n",
       "    }\n",
       "</style>\n",
       "<table border=\"1\" class=\"dataframe\">\n",
       "  <thead>\n",
       "    <tr style=\"text-align: right;\">\n",
       "      <th></th>\n",
       "      <th>ID</th>\n",
       "      <th>alight_station</th>\n",
       "      <th>off_station</th>\n",
       "      <th>adult</th>\n",
       "      <th>teen</th>\n",
       "      <th>child</th>\n",
       "      <th>distance</th>\n",
       "      <th>fare</th>\n",
       "      <th>suc_status</th>\n",
       "      <th>suc_status_d</th>\n",
       "      <th>...</th>\n",
       "      <th>alight_time</th>\n",
       "      <th>off_time</th>\n",
       "      <th>suc_time</th>\n",
       "      <th>cancel_time</th>\n",
       "      <th>x</th>\n",
       "      <th>y</th>\n",
       "      <th>alight_adm</th>\n",
       "      <th>off_adm</th>\n",
       "      <th>wait_time</th>\n",
       "      <th>ivt</th>\n",
       "    </tr>\n",
       "  </thead>\n",
       "  <tbody>\n",
       "    <tr>\n",
       "      <th>0</th>\n",
       "      <td>1</td>\n",
       "      <td>10258</td>\n",
       "      <td>10093</td>\n",
       "      <td>1</td>\n",
       "      <td>0</td>\n",
       "      <td>0</td>\n",
       "      <td>0.0</td>\n",
       "      <td>0</td>\n",
       "      <td>배차불가</td>\n",
       "      <td>NaN</td>\n",
       "      <td>...</td>\n",
       "      <td>NaT</td>\n",
       "      <td>NaT</td>\n",
       "      <td>NaT</td>\n",
       "      <td>2021-02-15 00:00:25</td>\n",
       "      <td>37.508302</td>\n",
       "      <td>126.513957</td>\n",
       "      <td>운북동</td>\n",
       "      <td>운남동</td>\n",
       "      <td>NaT</td>\n",
       "      <td>NaT</td>\n",
       "    </tr>\n",
       "    <tr>\n",
       "      <th>1</th>\n",
       "      <td>7</td>\n",
       "      <td>10258</td>\n",
       "      <td>12005</td>\n",
       "      <td>1</td>\n",
       "      <td>0</td>\n",
       "      <td>0</td>\n",
       "      <td>0.0</td>\n",
       "      <td>0</td>\n",
       "      <td>배차불가</td>\n",
       "      <td>NaN</td>\n",
       "      <td>...</td>\n",
       "      <td>NaT</td>\n",
       "      <td>NaT</td>\n",
       "      <td>NaT</td>\n",
       "      <td>2021-02-15 00:00:35</td>\n",
       "      <td>37.508586</td>\n",
       "      <td>126.513748</td>\n",
       "      <td>운북동</td>\n",
       "      <td>운서동(주거)</td>\n",
       "      <td>NaT</td>\n",
       "      <td>NaT</td>\n",
       "    </tr>\n",
       "    <tr>\n",
       "      <th>2</th>\n",
       "      <td>1</td>\n",
       "      <td>10258</td>\n",
       "      <td>10093</td>\n",
       "      <td>1</td>\n",
       "      <td>0</td>\n",
       "      <td>0</td>\n",
       "      <td>0.0</td>\n",
       "      <td>0</td>\n",
       "      <td>배차불가</td>\n",
       "      <td>NaN</td>\n",
       "      <td>...</td>\n",
       "      <td>NaT</td>\n",
       "      <td>NaT</td>\n",
       "      <td>NaT</td>\n",
       "      <td>2021-02-15 00:00:46</td>\n",
       "      <td>37.508371</td>\n",
       "      <td>126.514027</td>\n",
       "      <td>운북동</td>\n",
       "      <td>운남동</td>\n",
       "      <td>NaT</td>\n",
       "      <td>NaT</td>\n",
       "    </tr>\n",
       "  </tbody>\n",
       "</table>\n",
       "<p>3 rows × 21 columns</p>\n",
       "</div>"
      ],
      "text/plain": [
       "   ID  alight_station  off_station  adult  teen  child  distance  fare  \\\n",
       "0   1           10258        10093      1     0      0       0.0     0   \n",
       "1   7           10258        12005      1     0      0       0.0     0   \n",
       "2   1           10258        10093      1     0      0       0.0     0   \n",
       "\n",
       "  suc_status suc_status_d  ... alight_time off_time suc_time  \\\n",
       "0       배차불가          NaN  ...         NaT      NaT      NaT   \n",
       "1       배차불가          NaN  ...         NaT      NaT      NaT   \n",
       "2       배차불가          NaN  ...         NaT      NaT      NaT   \n",
       "\n",
       "           cancel_time          x           y  alight_adm  off_adm wait_time  \\\n",
       "0  2021-02-15 00:00:25  37.508302  126.513957         운북동      운남동       NaT   \n",
       "1  2021-02-15 00:00:35  37.508586  126.513748         운북동  운서동(주거)       NaT   \n",
       "2  2021-02-15 00:00:46  37.508371  126.514027         운북동      운남동       NaT   \n",
       "\n",
       "  ivt  \n",
       "0 NaT  \n",
       "1 NaT  \n",
       "2 NaT  \n",
       "\n",
       "[3 rows x 21 columns]"
      ]
     },
     "execution_count": 62,
     "metadata": {},
     "output_type": "execute_result"
    }
   ],
   "source": [
    "# 파생변수 ivt 생성\n",
    "order['ivt'] = order['off_time'] - order['alight_time']\n",
    "order_last['ivt'] = order['off_time'] - order['alight_time']\n",
    "order.head(3)"
   ]
  },
  {
   "cell_type": "code",
   "execution_count": 63,
   "metadata": {},
   "outputs": [
    {
     "data": {
      "text/plain": [
       "count    16895.000000\n",
       "mean        16.095405\n",
       "std         13.319817\n",
       "min          0.200000\n",
       "25%         11.000000\n",
       "50%         14.766667\n",
       "75%         19.650000\n",
       "max       1029.300000\n",
       "Name: ivt, dtype: float64"
      ]
     },
     "execution_count": 63,
     "metadata": {},
     "output_type": "execute_result"
    }
   ],
   "source": [
    "order_last['ivt'] = order_last['ivt'].astype(\"timedelta64[s]\") / 60\n",
    "order_last['ivt'].describe()"
   ]
  },
  {
   "cell_type": "code",
   "execution_count": null,
   "metadata": {},
   "outputs": [],
   "source": [
    "# outlier 제거 후 분포 시각화\n"
   ]
  },
  {
   "cell_type": "markdown",
   "metadata": {},
   "source": [
    "# 2. 공간정보"
   ]
  },
  {
   "cell_type": "code",
   "execution_count": null,
   "metadata": {},
   "outputs": [],
   "source": []
  }
 ],
 "metadata": {
  "kernelspec": {
   "display_name": "Python 3",
   "language": "python",
   "name": "python3"
  },
  "language_info": {
   "codemirror_mode": {
    "name": "ipython",
    "version": 3
   },
   "file_extension": ".py",
   "mimetype": "text/x-python",
   "name": "python",
   "nbconvert_exporter": "python",
   "pygments_lexer": "ipython3",
   "version": "3.9.13"
  },
  "orig_nbformat": 4
 },
 "nbformat": 4,
 "nbformat_minor": 2
}
