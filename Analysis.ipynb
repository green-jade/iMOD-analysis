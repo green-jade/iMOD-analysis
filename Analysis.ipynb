{
 "cells": [
  {
   "cell_type": "code",
   "execution_count": 2,
   "metadata": {},
   "outputs": [],
   "source": [
    "import pandas as pd\n",
    "import matplotlib.pyplot as plt\n",
    "import seaborn as sns"
   ]
  },
  {
   "cell_type": "code",
   "execution_count": null,
   "metadata": {},
   "outputs": [],
   "source": [
    "order = pd.read_csv('C:/Users/happy/Desktop/project/data/order.csv', index_col=0)\n",
    "order_last = pd.read_csv('C:/Users/happy/Desktop/project/data/order_last.csv',index_col=0)"
   ]
  },
  {
   "cell_type": "code",
   "execution_count": 3,
   "metadata": {},
   "outputs": [
    {
     "data": {
      "text/html": [
       "<div>\n",
       "<style scoped>\n",
       "    .dataframe tbody tr th:only-of-type {\n",
       "        vertical-align: middle;\n",
       "    }\n",
       "\n",
       "    .dataframe tbody tr th {\n",
       "        vertical-align: top;\n",
       "    }\n",
       "\n",
       "    .dataframe thead th {\n",
       "        text-align: right;\n",
       "    }\n",
       "</style>\n",
       "<table border=\"1\" class=\"dataframe\">\n",
       "  <thead>\n",
       "    <tr style=\"text-align: right;\">\n",
       "      <th></th>\n",
       "      <th>ID</th>\n",
       "      <th>board_station</th>\n",
       "      <th>alight_station</th>\n",
       "      <th>adult</th>\n",
       "      <th>teen</th>\n",
       "      <th>child</th>\n",
       "      <th>distance</th>\n",
       "      <th>fare</th>\n",
       "      <th>suc_status</th>\n",
       "      <th>suc_status_d</th>\n",
       "      <th>call_time</th>\n",
       "      <th>board_time</th>\n",
       "      <th>alight_time</th>\n",
       "      <th>suc_time</th>\n",
       "      <th>cancel_time</th>\n",
       "      <th>x</th>\n",
       "      <th>y</th>\n",
       "      <th>board_adm</th>\n",
       "      <th>alight_adm</th>\n",
       "    </tr>\n",
       "  </thead>\n",
       "  <tbody>\n",
       "    <tr>\n",
       "      <th>0</th>\n",
       "      <td>1</td>\n",
       "      <td>10258</td>\n",
       "      <td>10093</td>\n",
       "      <td>1</td>\n",
       "      <td>0</td>\n",
       "      <td>0</td>\n",
       "      <td>0.0</td>\n",
       "      <td>0</td>\n",
       "      <td>배차불가</td>\n",
       "      <td>NaN</td>\n",
       "      <td>2021-02-15 00:00:24</td>\n",
       "      <td>NaN</td>\n",
       "      <td>NaN</td>\n",
       "      <td>NaN</td>\n",
       "      <td>2021-02-15 00:00:25</td>\n",
       "      <td>37.508302</td>\n",
       "      <td>126.513957</td>\n",
       "      <td>운북동</td>\n",
       "      <td>운남동</td>\n",
       "    </tr>\n",
       "    <tr>\n",
       "      <th>1</th>\n",
       "      <td>7</td>\n",
       "      <td>10258</td>\n",
       "      <td>12005</td>\n",
       "      <td>1</td>\n",
       "      <td>0</td>\n",
       "      <td>0</td>\n",
       "      <td>0.0</td>\n",
       "      <td>0</td>\n",
       "      <td>배차불가</td>\n",
       "      <td>NaN</td>\n",
       "      <td>2021-02-15 00:00:35</td>\n",
       "      <td>NaN</td>\n",
       "      <td>NaN</td>\n",
       "      <td>NaN</td>\n",
       "      <td>2021-02-15 00:00:35</td>\n",
       "      <td>37.508586</td>\n",
       "      <td>126.513748</td>\n",
       "      <td>운북동</td>\n",
       "      <td>운서동(주거)</td>\n",
       "    </tr>\n",
       "    <tr>\n",
       "      <th>2</th>\n",
       "      <td>1</td>\n",
       "      <td>10258</td>\n",
       "      <td>10093</td>\n",
       "      <td>1</td>\n",
       "      <td>0</td>\n",
       "      <td>0</td>\n",
       "      <td>0.0</td>\n",
       "      <td>0</td>\n",
       "      <td>배차불가</td>\n",
       "      <td>NaN</td>\n",
       "      <td>2021-02-15 00:00:46</td>\n",
       "      <td>NaN</td>\n",
       "      <td>NaN</td>\n",
       "      <td>NaN</td>\n",
       "      <td>2021-02-15 00:00:46</td>\n",
       "      <td>37.508371</td>\n",
       "      <td>126.514027</td>\n",
       "      <td>운북동</td>\n",
       "      <td>운남동</td>\n",
       "    </tr>\n",
       "    <tr>\n",
       "      <th>3</th>\n",
       "      <td>7901</td>\n",
       "      <td>10258</td>\n",
       "      <td>10196</td>\n",
       "      <td>1</td>\n",
       "      <td>0</td>\n",
       "      <td>0</td>\n",
       "      <td>0.0</td>\n",
       "      <td>0</td>\n",
       "      <td>배차불가</td>\n",
       "      <td>NaN</td>\n",
       "      <td>2021-02-15 00:00:47</td>\n",
       "      <td>NaN</td>\n",
       "      <td>NaN</td>\n",
       "      <td>NaN</td>\n",
       "      <td>2021-02-15 00:00:47</td>\n",
       "      <td>37.508612</td>\n",
       "      <td>126.513747</td>\n",
       "      <td>운북동</td>\n",
       "      <td>운북동</td>\n",
       "    </tr>\n",
       "    <tr>\n",
       "      <th>4</th>\n",
       "      <td>7</td>\n",
       "      <td>10258</td>\n",
       "      <td>12005</td>\n",
       "      <td>1</td>\n",
       "      <td>0</td>\n",
       "      <td>0</td>\n",
       "      <td>0.0</td>\n",
       "      <td>0</td>\n",
       "      <td>배차불가</td>\n",
       "      <td>NaN</td>\n",
       "      <td>2021-02-15 00:00:56</td>\n",
       "      <td>NaN</td>\n",
       "      <td>NaN</td>\n",
       "      <td>NaN</td>\n",
       "      <td>2021-02-15 00:00:56</td>\n",
       "      <td>37.508598</td>\n",
       "      <td>126.513748</td>\n",
       "      <td>운북동</td>\n",
       "      <td>운서동(주거)</td>\n",
       "    </tr>\n",
       "  </tbody>\n",
       "</table>\n",
       "</div>"
      ],
      "text/plain": [
       "     ID  board_station  alight_station  adult  teen  child  distance  fare  \\\n",
       "0     1          10258           10093      1     0      0       0.0     0   \n",
       "1     7          10258           12005      1     0      0       0.0     0   \n",
       "2     1          10258           10093      1     0      0       0.0     0   \n",
       "3  7901          10258           10196      1     0      0       0.0     0   \n",
       "4     7          10258           12005      1     0      0       0.0     0   \n",
       "\n",
       "  suc_status suc_status_d            call_time board_time alight_time  \\\n",
       "0       배차불가          NaN  2021-02-15 00:00:24        NaN         NaN   \n",
       "1       배차불가          NaN  2021-02-15 00:00:35        NaN         NaN   \n",
       "2       배차불가          NaN  2021-02-15 00:00:46        NaN         NaN   \n",
       "3       배차불가          NaN  2021-02-15 00:00:47        NaN         NaN   \n",
       "4       배차불가          NaN  2021-02-15 00:00:56        NaN         NaN   \n",
       "\n",
       "  suc_time          cancel_time          x           y board_adm alight_adm  \n",
       "0      NaN  2021-02-15 00:00:25  37.508302  126.513957       운북동        운남동  \n",
       "1      NaN  2021-02-15 00:00:35  37.508586  126.513748       운북동    운서동(주거)  \n",
       "2      NaN  2021-02-15 00:00:46  37.508371  126.514027       운북동        운남동  \n",
       "3      NaN  2021-02-15 00:00:47  37.508612  126.513747       운북동        운북동  \n",
       "4      NaN  2021-02-15 00:00:56  37.508598  126.513748       운북동    운서동(주거)  "
      ]
     },
     "execution_count": 3,
     "metadata": {},
     "output_type": "execute_result"
    }
   ],
   "source": [
    "order.head()"
   ]
  },
  {
   "cell_type": "code",
   "execution_count": 4,
   "metadata": {},
   "outputs": [
    {
     "data": {
      "text/plain": [
       "ID                      0\n",
       "board_station           0\n",
       "alight_station          0\n",
       "adult                   0\n",
       "teen                    0\n",
       "child                   0\n",
       "distance                0\n",
       "fare                    0\n",
       "suc_status              0\n",
       "suc_status_d      3612594\n",
       "call_time               0\n",
       "board_time        3523346\n",
       "alight_time       3523346\n",
       "suc_time          3487874\n",
       "cancel_time        129908\n",
       "x                    4843\n",
       "y                    4843\n",
       "board_adm               0\n",
       "alight_adm              2\n",
       "dtype: int64"
      ]
     },
     "execution_count": 4,
     "metadata": {},
     "output_type": "execute_result"
    }
   ],
   "source": [
    "# column 별 null 값 갯수\n",
    "order.isnull().sum()"
   ]
  },
  {
   "cell_type": "code",
   "execution_count": 19,
   "metadata": {},
   "outputs": [],
   "source": [
    "# datatype conversion \n",
    "order['call_time'] = order['call_time'].astype('datetime64')\n",
    "order['board_time'] = order['board_time'].astype('datetime64')\n",
    "order['alight_time'] = order['alight_time'].astype('datetime64')\n",
    "order['suc_time'] = order['suc_time'].astype('datetime64')\n",
    "order['cancel_time'] = order['cancel_time'].astype('datetime64')"
   ]
  },
  {
   "cell_type": "code",
   "execution_count": 20,
   "metadata": {},
   "outputs": [],
   "source": [
    "order_last['call_time'] = order_last['call_time'].astype('datetime64')\n",
    "order_last['board_time'] = order_last['board_time'].astype('datetime64')\n",
    "order_last['alight_time'] = order_last['alight_time'].astype('datetime64')\n",
    "order_last['suc_time'] = order_last['suc_time'].astype('datetime64')"
   ]
  },
  {
   "cell_type": "markdown",
   "metadata": {},
   "source": [
    "# 1. 시간정보"
   ]
  },
  {
   "cell_type": "markdown",
   "metadata": {},
   "source": [
    "## 1-1. Call Time"
   ]
  },
  {
   "cell_type": "markdown",
   "metadata": {},
   "source": [
    "### 일별호출"
   ]
  },
  {
   "cell_type": "code",
   "execution_count": 7,
   "metadata": {},
   "outputs": [
    {
     "name": "stdout",
     "output_type": "stream",
     "text": [
      "2021-02-15 00:00:24\n",
      "2022-07-02 22:59:05\n"
     ]
    }
   ],
   "source": [
    "print(min(order['call_time']))\n",
    "print(max(order['call_time']))"
   ]
  },
  {
   "cell_type": "markdown",
   "metadata": {},
   "source": [
    "기록상 호출 이력 날짜 : 2021년 2월 15일 ~ 2021년 5월 15일, 2021년 7월 25일 ~ 2022년 7월 2일 "
   ]
  },
  {
   "cell_type": "code",
   "execution_count": 8,
   "metadata": {},
   "outputs": [
    {
     "data": {
      "text/html": [
       "<div>\n",
       "<style scoped>\n",
       "    .dataframe tbody tr th:only-of-type {\n",
       "        vertical-align: middle;\n",
       "    }\n",
       "\n",
       "    .dataframe tbody tr th {\n",
       "        vertical-align: top;\n",
       "    }\n",
       "\n",
       "    .dataframe thead th {\n",
       "        text-align: right;\n",
       "    }\n",
       "</style>\n",
       "<table border=\"1\" class=\"dataframe\">\n",
       "  <thead>\n",
       "    <tr style=\"text-align: right;\">\n",
       "      <th></th>\n",
       "      <th>ID</th>\n",
       "      <th>call_time</th>\n",
       "    </tr>\n",
       "  </thead>\n",
       "  <tbody>\n",
       "    <tr>\n",
       "      <th>0</th>\n",
       "      <td>1</td>\n",
       "      <td>2021/02/15</td>\n",
       "    </tr>\n",
       "    <tr>\n",
       "      <th>1</th>\n",
       "      <td>7</td>\n",
       "      <td>2021/02/15</td>\n",
       "    </tr>\n",
       "    <tr>\n",
       "      <th>2</th>\n",
       "      <td>1</td>\n",
       "      <td>2021/02/15</td>\n",
       "    </tr>\n",
       "    <tr>\n",
       "      <th>3</th>\n",
       "      <td>7901</td>\n",
       "      <td>2021/02/15</td>\n",
       "    </tr>\n",
       "    <tr>\n",
       "      <th>4</th>\n",
       "      <td>7</td>\n",
       "      <td>2021/02/15</td>\n",
       "    </tr>\n",
       "  </tbody>\n",
       "</table>\n",
       "</div>"
      ],
      "text/plain": [
       "     ID   call_time\n",
       "0     1  2021/02/15\n",
       "1     7  2021/02/15\n",
       "2     1  2021/02/15\n",
       "3  7901  2021/02/15\n",
       "4     7  2021/02/15"
      ]
     },
     "execution_count": 8,
     "metadata": {},
     "output_type": "execute_result"
    }
   ],
   "source": [
    "df_1 = order.loc[:,['ID', 'call_time']]\n",
    "df_1['call_time'] = df_1['call_time'].dt.strftime('%Y/%m/%d')\n",
    "df_1.head()"
   ]
  },
  {
   "cell_type": "code",
   "execution_count": 9,
   "metadata": {},
   "outputs": [
    {
     "data": {
      "text/plain": [
       "<AxesSubplot:xlabel='call_time', ylabel='count'>"
      ]
     },
     "execution_count": 9,
     "metadata": {},
     "output_type": "execute_result"
    },
    {
     "data": {
      "image/png": "[encoded data removed]",
      "text/plain": [
       "<Figure size 432x288 with 1 Axes>"
      ]
     },
     "metadata": {
      "needs_background": "light"
     },
     "output_type": "display_data"
    }
   ],
   "source": [
    "a = pd.DataFrame(df_1.groupby('call_time')['ID'].count()).rename(columns={'ID':'count'})\n",
    "sns.lineplot(data = a, x = \"call_time\", y = \"count\")\n",
    "\n",
    "# 급격히 호출 건수 감소 구역 : 기록 안된 날짜들 "
   ]
  },
  {
   "cell_type": "code",
   "execution_count": 10,
   "metadata": {},
   "outputs": [],
   "source": [
    "# weekdays vs weekends\n",
    "# 스프레드시트로 정리"
   ]
  },
  {
   "cell_type": "code",
   "execution_count": 11,
   "metadata": {},
   "outputs": [
    {
     "data": {
      "text/plain": [
       "8524.885780885781"
      ]
     },
     "execution_count": 11,
     "metadata": {},
     "output_type": "execute_result"
    }
   ],
   "source": [
    "# 하루 평균 순 호출 수\n",
    "a['count'].mean()"
   ]
  },
  {
   "cell_type": "code",
   "execution_count": 12,
   "metadata": {},
   "outputs": [
    {
     "data": {
      "text/html": [
       "<div>\n",
       "<style scoped>\n",
       "    .dataframe tbody tr th:only-of-type {\n",
       "        vertical-align: middle;\n",
       "    }\n",
       "\n",
       "    .dataframe tbody tr th {\n",
       "        vertical-align: top;\n",
       "    }\n",
       "\n",
       "    .dataframe thead th {\n",
       "        text-align: right;\n",
       "    }\n",
       "</style>\n",
       "<table border=\"1\" class=\"dataframe\">\n",
       "  <thead>\n",
       "    <tr style=\"text-align: right;\">\n",
       "      <th></th>\n",
       "      <th>ID</th>\n",
       "      <th>call_time</th>\n",
       "    </tr>\n",
       "  </thead>\n",
       "  <tbody>\n",
       "    <tr>\n",
       "      <th>0</th>\n",
       "      <td>1</td>\n",
       "      <td>2021/02/15</td>\n",
       "    </tr>\n",
       "    <tr>\n",
       "      <th>1</th>\n",
       "      <td>1</td>\n",
       "      <td>2021/02/15</td>\n",
       "    </tr>\n",
       "    <tr>\n",
       "      <th>2</th>\n",
       "      <td>1</td>\n",
       "      <td>2021/02/15</td>\n",
       "    </tr>\n",
       "    <tr>\n",
       "      <th>3</th>\n",
       "      <td>1</td>\n",
       "      <td>2021/02/15</td>\n",
       "    </tr>\n",
       "    <tr>\n",
       "      <th>4</th>\n",
       "      <td>1</td>\n",
       "      <td>2021/02/15</td>\n",
       "    </tr>\n",
       "  </tbody>\n",
       "</table>\n",
       "</div>"
      ],
      "text/plain": [
       "   ID   call_time\n",
       "0   1  2021/02/15\n",
       "1   1  2021/02/15\n",
       "2   1  2021/02/15\n",
       "3   1  2021/02/15\n",
       "4   1  2021/02/15"
      ]
     },
     "execution_count": 12,
     "metadata": {},
     "output_type": "execute_result"
    }
   ],
   "source": [
    "df_2 = order_last.loc[:,['ID', 'call_time']]\n",
    "df_2['call_time'] = df_2['call_time'].dt.strftime('%Y/%m/%d')\n",
    "df_2.head()"
   ]
  },
  {
   "cell_type": "code",
   "execution_count": 13,
   "metadata": {},
   "outputs": [
    {
     "data": {
      "text/plain": [
       "<AxesSubplot:xlabel='call_time', ylabel='count'>"
      ]
     },
     "execution_count": 13,
     "metadata": {},
     "output_type": "execute_result"
    },
    {
     "data": {
      "image/png": "[encoded data removed]",
      "text/plain": [
       "<Figure size 432x288 with 1 Axes>"
      ]
     },
     "metadata": {
      "needs_background": "light"
     },
     "output_type": "display_data"
    }
   ],
   "source": [
    "b = pd.DataFrame(df_2.groupby('call_time')['ID'].count()).rename(columns={'ID':'count'})\n",
    "sns.lineplot(data = b, x = \"call_time\", y = \"count\")\n",
    "\n",
    "# 급격히 호출 건수 감소 구역 : 기록 안된 날짜들 "
   ]
  },
  {
   "cell_type": "code",
   "execution_count": 14,
   "metadata": {},
   "outputs": [
    {
     "data": {
      "text/plain": [
       "675.1098130841121"
      ]
     },
     "execution_count": 14,
     "metadata": {},
     "output_type": "execute_result"
    }
   ],
   "source": [
    "# 실 이동수요 반영한 하루 평균 호출 수\n",
    "b['count'].mean()"
   ]
  },
  {
   "cell_type": "markdown",
   "metadata": {},
   "source": [
    "### 시간대별 호출"
   ]
  },
  {
   "cell_type": "code",
   "execution_count": 15,
   "metadata": {},
   "outputs": [
    {
     "data": {
      "text/html": [
       "<div>\n",
       "<style scoped>\n",
       "    .dataframe tbody tr th:only-of-type {\n",
       "        vertical-align: middle;\n",
       "    }\n",
       "\n",
       "    .dataframe tbody tr th {\n",
       "        vertical-align: top;\n",
       "    }\n",
       "\n",
       "    .dataframe thead th {\n",
       "        text-align: right;\n",
       "    }\n",
       "</style>\n",
       "<table border=\"1\" class=\"dataframe\">\n",
       "  <thead>\n",
       "    <tr style=\"text-align: right;\">\n",
       "      <th></th>\n",
       "      <th>ID</th>\n",
       "      <th>call_time</th>\n",
       "    </tr>\n",
       "  </thead>\n",
       "  <tbody>\n",
       "    <tr>\n",
       "      <th>0</th>\n",
       "      <td>1</td>\n",
       "      <td>00</td>\n",
       "    </tr>\n",
       "    <tr>\n",
       "      <th>1</th>\n",
       "      <td>1</td>\n",
       "      <td>00</td>\n",
       "    </tr>\n",
       "    <tr>\n",
       "      <th>2</th>\n",
       "      <td>1</td>\n",
       "      <td>00</td>\n",
       "    </tr>\n",
       "    <tr>\n",
       "      <th>3</th>\n",
       "      <td>1</td>\n",
       "      <td>03</td>\n",
       "    </tr>\n",
       "    <tr>\n",
       "      <th>4</th>\n",
       "      <td>1</td>\n",
       "      <td>19</td>\n",
       "    </tr>\n",
       "  </tbody>\n",
       "</table>\n",
       "</div>"
      ],
      "text/plain": [
       "   ID call_time\n",
       "0   1        00\n",
       "1   1        00\n",
       "2   1        00\n",
       "3   1        03\n",
       "4   1        19"
      ]
     },
     "execution_count": 15,
     "metadata": {},
     "output_type": "execute_result"
    }
   ],
   "source": [
    "df_3 = order_last.loc[:,['ID', 'call_time']]\n",
    "df_3['call_time'] = df_3['call_time'].dt.strftime('%H')\n",
    "df_3.head()"
   ]
  },
  {
   "cell_type": "code",
   "execution_count": 16,
   "metadata": {},
   "outputs": [
    {
     "data": {
      "text/plain": [
       "<matplotlib.lines.Line2D at 0x2910c39c9a0>"
      ]
     },
     "execution_count": 16,
     "metadata": {},
     "output_type": "execute_result"
    },
    {
     "data": {
      "image/png": "[encoded data removed]",
      "text/plain": [
       "<Figure size 432x288 with 1 Axes>"
      ]
     },
     "metadata": {
      "needs_background": "light"
     },
     "output_type": "display_data"
    }
   ],
   "source": [
    "c = pd.DataFrame(df_3.groupby('call_time')['ID'].count()).rename(columns={'ID':'count'})\n",
    "sns.lineplot(data = c, x = \"call_time\", y = \"count\")\n",
    "plt.axvline(x=8, color = 'red')\n",
    "plt.axvline(x=16, color = 'red')"
   ]
  },
  {
   "cell_type": "markdown",
   "metadata": {},
   "source": [
    "## 1-2. Waiting Time"
   ]
  },
  {
   "cell_type": "code",
   "execution_count": 17,
   "metadata": {},
   "outputs": [
    {
     "data": {
      "text/html": [
       "<div>\n",
       "<style scoped>\n",
       "    .dataframe tbody tr th:only-of-type {\n",
       "        vertical-align: middle;\n",
       "    }\n",
       "\n",
       "    .dataframe tbody tr th {\n",
       "        vertical-align: top;\n",
       "    }\n",
       "\n",
       "    .dataframe thead th {\n",
       "        text-align: right;\n",
       "    }\n",
       "</style>\n",
       "<table border=\"1\" class=\"dataframe\">\n",
       "  <thead>\n",
       "    <tr style=\"text-align: right;\">\n",
       "      <th></th>\n",
       "      <th>ID</th>\n",
       "      <th>board_station</th>\n",
       "      <th>alight_station</th>\n",
       "      <th>adult</th>\n",
       "      <th>teen</th>\n",
       "      <th>child</th>\n",
       "      <th>distance</th>\n",
       "      <th>fare</th>\n",
       "      <th>suc_status</th>\n",
       "      <th>suc_status_d</th>\n",
       "      <th>call_time</th>\n",
       "      <th>board_time</th>\n",
       "      <th>alight_time</th>\n",
       "      <th>suc_time</th>\n",
       "      <th>cancel_time</th>\n",
       "      <th>x</th>\n",
       "      <th>y</th>\n",
       "      <th>board_adm</th>\n",
       "      <th>alight_adm</th>\n",
       "      <th>wait_time</th>\n",
       "    </tr>\n",
       "  </thead>\n",
       "  <tbody>\n",
       "    <tr>\n",
       "      <th>0</th>\n",
       "      <td>1</td>\n",
       "      <td>10258</td>\n",
       "      <td>10093</td>\n",
       "      <td>1</td>\n",
       "      <td>0</td>\n",
       "      <td>0</td>\n",
       "      <td>0.0</td>\n",
       "      <td>0</td>\n",
       "      <td>배차불가</td>\n",
       "      <td>NaN</td>\n",
       "      <td>2021-02-15 00:00:24</td>\n",
       "      <td>NaT</td>\n",
       "      <td>NaT</td>\n",
       "      <td>NaT</td>\n",
       "      <td>2021-02-15 00:00:25</td>\n",
       "      <td>37.508302</td>\n",
       "      <td>126.513957</td>\n",
       "      <td>운북동</td>\n",
       "      <td>운남동</td>\n",
       "      <td>NaT</td>\n",
       "    </tr>\n",
       "    <tr>\n",
       "      <th>1</th>\n",
       "      <td>7</td>\n",
       "      <td>10258</td>\n",
       "      <td>12005</td>\n",
       "      <td>1</td>\n",
       "      <td>0</td>\n",
       "      <td>0</td>\n",
       "      <td>0.0</td>\n",
       "      <td>0</td>\n",
       "      <td>배차불가</td>\n",
       "      <td>NaN</td>\n",
       "      <td>2021-02-15 00:00:35</td>\n",
       "      <td>NaT</td>\n",
       "      <td>NaT</td>\n",
       "      <td>NaT</td>\n",
       "      <td>2021-02-15 00:00:35</td>\n",
       "      <td>37.508586</td>\n",
       "      <td>126.513748</td>\n",
       "      <td>운북동</td>\n",
       "      <td>운서동(주거)</td>\n",
       "      <td>NaT</td>\n",
       "    </tr>\n",
       "    <tr>\n",
       "      <th>2</th>\n",
       "      <td>1</td>\n",
       "      <td>10258</td>\n",
       "      <td>10093</td>\n",
       "      <td>1</td>\n",
       "      <td>0</td>\n",
       "      <td>0</td>\n",
       "      <td>0.0</td>\n",
       "      <td>0</td>\n",
       "      <td>배차불가</td>\n",
       "      <td>NaN</td>\n",
       "      <td>2021-02-15 00:00:46</td>\n",
       "      <td>NaT</td>\n",
       "      <td>NaT</td>\n",
       "      <td>NaT</td>\n",
       "      <td>2021-02-15 00:00:46</td>\n",
       "      <td>37.508371</td>\n",
       "      <td>126.514027</td>\n",
       "      <td>운북동</td>\n",
       "      <td>운남동</td>\n",
       "      <td>NaT</td>\n",
       "    </tr>\n",
       "  </tbody>\n",
       "</table>\n",
       "</div>"
      ],
      "text/plain": [
       "   ID  board_station  alight_station  adult  teen  child  distance  fare  \\\n",
       "0   1          10258           10093      1     0      0       0.0     0   \n",
       "1   7          10258           12005      1     0      0       0.0     0   \n",
       "2   1          10258           10093      1     0      0       0.0     0   \n",
       "\n",
       "  suc_status suc_status_d           call_time board_time alight_time suc_time  \\\n",
       "0       배차불가          NaN 2021-02-15 00:00:24        NaT         NaT      NaT   \n",
       "1       배차불가          NaN 2021-02-15 00:00:35        NaT         NaT      NaT   \n",
       "2       배차불가          NaN 2021-02-15 00:00:46        NaT         NaT      NaT   \n",
       "\n",
       "          cancel_time          x           y board_adm alight_adm wait_time  \n",
       "0 2021-02-15 00:00:25  37.508302  126.513957       운북동        운남동       NaT  \n",
       "1 2021-02-15 00:00:35  37.508586  126.513748       운북동    운서동(주거)       NaT  \n",
       "2 2021-02-15 00:00:46  37.508371  126.514027       운북동        운남동       NaT  "
      ]
     },
     "execution_count": 17,
     "metadata": {},
     "output_type": "execute_result"
    }
   ],
   "source": [
    "# 파생변수 wait_time 생성\n",
    "order['wait_time'] = order['board_time'] - order['call_time']\n",
    "order_last['wait_time'] = order['board_time'] - order['call_time']\n",
    "order.head(3)"
   ]
  },
  {
   "cell_type": "code",
   "execution_count": 18,
   "metadata": {},
   "outputs": [],
   "source": [
    "order_last['wait_time'] = order_last['wait_time'].astype(\"timedelta64[s]\") / 60"
   ]
  },
  {
   "cell_type": "code",
   "execution_count": 19,
   "metadata": {},
   "outputs": [
    {
     "data": {
      "image/png": "[encoded data removed]",
      "text/plain": [
       "<Figure size 432x288 with 1 Axes>"
      ]
     },
     "metadata": {
      "needs_background": "light"
     },
     "output_type": "display_data"
    }
   ],
   "source": [
    "sns.boxplot( y=order_last[\"wait_time\"] )\n",
    "plt.title(\"Distribution of Waiting Time (min)\")\n",
    "plt.show()"
   ]
  },
  {
   "cell_type": "code",
   "execution_count": 20,
   "metadata": {},
   "outputs": [
    {
     "data": {
      "text/plain": [
       "count    16895.000000\n",
       "mean        14.662348\n",
       "std          7.003911\n",
       "min          0.750000\n",
       "25%          9.416667\n",
       "50%         14.200000\n",
       "75%         18.983333\n",
       "max         69.933333\n",
       "Name: wait_time, dtype: float64"
      ]
     },
     "execution_count": 20,
     "metadata": {},
     "output_type": "execute_result"
    }
   ],
   "source": [
    "order_last['wait_time'].describe()"
   ]
  },
  {
   "cell_type": "code",
   "execution_count": 21,
   "metadata": {},
   "outputs": [
    {
     "data": {
      "text/plain": [
       "<AxesSubplot:xlabel='wait_time', ylabel='Count'>"
      ]
     },
     "execution_count": 21,
     "metadata": {},
     "output_type": "execute_result"
    },
    {
     "data": {
      "image/png": "[encoded data removed]",
      "text/plain": [
       "<Figure size 432x288 with 1 Axes>"
      ]
     },
     "metadata": {
      "needs_background": "light"
     },
     "output_type": "display_data"
    }
   ],
   "source": [
    "sns.histplot(data=order_last, x=\"wait_time\", bins = 14, kde = 'True')"
   ]
  },
  {
   "cell_type": "markdown",
   "metadata": {},
   "source": [
    "## 1-3. Interval btw call & cancel"
   ]
  },
  {
   "cell_type": "code",
   "execution_count": 22,
   "metadata": {},
   "outputs": [
    {
     "data": {
      "text/plain": [
       "(3527268, 20)"
      ]
     },
     "execution_count": 22,
     "metadata": {},
     "output_type": "execute_result"
    }
   ],
   "source": [
    "order_cancel = order[(order['call_time'].notnull() & order['cancel_time'].notnull())]\n",
    "order_cancel.shape"
   ]
  },
  {
   "cell_type": "code",
   "execution_count": 23,
   "metadata": {},
   "outputs": [
    {
     "data": {
      "text/plain": [
       "1467502"
      ]
     },
     "execution_count": 23,
     "metadata": {},
     "output_type": "execute_result"
    }
   ],
   "source": [
    "(order_cancel['cancel_time'] == order_cancel['call_time']).sum()"
   ]
  },
  {
   "cell_type": "code",
   "execution_count": null,
   "metadata": {},
   "outputs": [],
   "source": [
    "order_cancel['interval'] = order_cancel['cancel_time'] - order_cancel['call_time']\n",
    "order_cancel['interval'] = order_cancel['interval'].astype(\"timedelta64[s]\") / 60\n",
    "order_cancel = order_cancel[(order_cancel['interval'] >= 0) & (order_cancel['interval'] <60)]"
   ]
  },
  {
   "cell_type": "code",
   "execution_count": 25,
   "metadata": {},
   "outputs": [
    {
     "data": {
      "text/plain": [
       "2023549"
      ]
     },
     "execution_count": 25,
     "metadata": {},
     "output_type": "execute_result"
    }
   ],
   "source": [
    "((order_cancel['interval'] > 0) & (order_cancel['interval'] < 1)).sum()"
   ]
  },
  {
   "cell_type": "code",
   "execution_count": 26,
   "metadata": {},
   "outputs": [
    {
     "data": {
      "text/plain": [
       "35892"
      ]
     },
     "execution_count": 26,
     "metadata": {},
     "output_type": "execute_result"
    }
   ],
   "source": [
    "(order_cancel['interval'] > 1).sum()"
   ]
  },
  {
   "cell_type": "code",
   "execution_count": 27,
   "metadata": {},
   "outputs": [
    {
     "data": {
      "text/plain": [
       "count    3.527127e+06\n",
       "mean     1.144908e-01\n",
       "std      1.312087e+00\n",
       "min      0.000000e+00\n",
       "25%      0.000000e+00\n",
       "50%      1.666667e-02\n",
       "75%      3.333333e-02\n",
       "max      5.998333e+01\n",
       "Name: interval, dtype: float64"
      ]
     },
     "execution_count": 27,
     "metadata": {},
     "output_type": "execute_result"
    }
   ],
   "source": [
    "order_cancel['interval'].describe()"
   ]
  },
  {
   "cell_type": "code",
   "execution_count": 28,
   "metadata": {},
   "outputs": [
    {
     "data": {
      "text/plain": [
       "<AxesSubplot:xlabel='interval', ylabel='Count'>"
      ]
     },
     "execution_count": 28,
     "metadata": {},
     "output_type": "execute_result"
    },
    {
     "data": {
      "image/png": "[encoded data removed]",
      "text/plain": [
       "<Figure size 432x288 with 1 Axes>"
      ]
     },
     "metadata": {
      "needs_background": "light"
     },
     "output_type": "display_data"
    }
   ],
   "source": [
    "# interval time under 1 min\n",
    "sns.histplot(data=order_cancel[order_cancel['interval']<1], x=\"interval\", bins = 5, kde = 'True')"
   ]
  },
  {
   "cell_type": "code",
   "execution_count": 29,
   "metadata": {},
   "outputs": [
    {
     "data": {
      "text/plain": [
       "<AxesSubplot:xlabel='interval', ylabel='Count'>"
      ]
     },
     "execution_count": 29,
     "metadata": {},
     "output_type": "execute_result"
    },
    {
     "data": {
      "image/png": "[encoded data removed]",
      "text/plain": [
       "<Figure size 432x288 with 1 Axes>"
      ]
     },
     "metadata": {
      "needs_background": "light"
     },
     "output_type": "display_data"
    }
   ],
   "source": [
    "# interval time over 1 min\n",
    "sns.histplot(data = order_cancel[order_cancel['interval']>1], x=\"interval\", kde = 'True')"
   ]
  },
  {
   "cell_type": "markdown",
   "metadata": {},
   "source": [
    "## 1-4. Board / Alight Time"
   ]
  },
  {
   "cell_type": "code",
   "execution_count": 30,
   "metadata": {},
   "outputs": [
    {
     "name": "stdout",
     "output_type": "stream",
     "text": [
      "2021-02-15 00:09:11\n",
      "2022-07-02 23:13:50\n"
     ]
    }
   ],
   "source": [
    "print(min(order[order['board_time'].notnull()]['board_time']))\n",
    "print(max(order[order['board_time'].notnull()]['board_time']))"
   ]
  },
  {
   "cell_type": "code",
   "execution_count": 31,
   "metadata": {},
   "outputs": [
    {
     "name": "stdout",
     "output_type": "stream",
     "text": [
      "2021-02-15 00:10:58\n",
      "2022-07-02 23:23:14\n"
     ]
    }
   ],
   "source": [
    "print(min(order[order['alight_time'].notnull()]['alight_time']))\n",
    "print(max(order[order['alight_time'].notnull()]['alight_time']))"
   ]
  },
  {
   "cell_type": "code",
   "execution_count": 32,
   "metadata": {},
   "outputs": [],
   "source": [
    "full_ride = order_last[(order_last['board_time'].notnull())]"
   ]
  },
  {
   "cell_type": "code",
   "execution_count": 33,
   "metadata": {},
   "outputs": [
    {
     "data": {
      "text/html": [
       "<div>\n",
       "<style scoped>\n",
       "    .dataframe tbody tr th:only-of-type {\n",
       "        vertical-align: middle;\n",
       "    }\n",
       "\n",
       "    .dataframe tbody tr th {\n",
       "        vertical-align: top;\n",
       "    }\n",
       "\n",
       "    .dataframe thead th {\n",
       "        text-align: right;\n",
       "    }\n",
       "</style>\n",
       "<table border=\"1\" class=\"dataframe\">\n",
       "  <thead>\n",
       "    <tr style=\"text-align: right;\">\n",
       "      <th></th>\n",
       "      <th>ID</th>\n",
       "      <th>board_time</th>\n",
       "      <th>alight_time</th>\n",
       "    </tr>\n",
       "  </thead>\n",
       "  <tbody>\n",
       "    <tr>\n",
       "      <th>2</th>\n",
       "      <td>1</td>\n",
       "      <td>2021-02-15 01:54:27</td>\n",
       "      <td>2021/02/15</td>\n",
       "    </tr>\n",
       "    <tr>\n",
       "      <th>6</th>\n",
       "      <td>1</td>\n",
       "      <td>2021-02-15 19:30:53</td>\n",
       "      <td>2021/02/15</td>\n",
       "    </tr>\n",
       "    <tr>\n",
       "      <th>72</th>\n",
       "      <td>5</td>\n",
       "      <td>2021-02-15 00:17:47</td>\n",
       "      <td>2021/02/15</td>\n",
       "    </tr>\n",
       "    <tr>\n",
       "      <th>73</th>\n",
       "      <td>5</td>\n",
       "      <td>2021-02-15 03:14:01</td>\n",
       "      <td>2021/02/15</td>\n",
       "    </tr>\n",
       "    <tr>\n",
       "      <th>80</th>\n",
       "      <td>6</td>\n",
       "      <td>2021-02-15 01:18:12</td>\n",
       "      <td>2021/02/15</td>\n",
       "    </tr>\n",
       "  </tbody>\n",
       "</table>\n",
       "</div>"
      ],
      "text/plain": [
       "    ID          board_time alight_time\n",
       "2    1 2021-02-15 01:54:27  2021/02/15\n",
       "6    1 2021-02-15 19:30:53  2021/02/15\n",
       "72   5 2021-02-15 00:17:47  2021/02/15\n",
       "73   5 2021-02-15 03:14:01  2021/02/15\n",
       "80   6 2021-02-15 01:18:12  2021/02/15"
      ]
     },
     "execution_count": 33,
     "metadata": {},
     "output_type": "execute_result"
    }
   ],
   "source": [
    "df_4 = full_ride.loc[:,['ID', 'board_time', 'alight_time']]\n",
    "df_4['alight_time'] = df_4['alight_time'].dt.strftime('%Y/%m/%d')\n",
    "df_4.head()"
   ]
  },
  {
   "cell_type": "code",
   "execution_count": 34,
   "metadata": {},
   "outputs": [
    {
     "data": {
      "text/plain": [
       "<AxesSubplot:xlabel='alight_time', ylabel='count'>"
      ]
     },
     "execution_count": 34,
     "metadata": {},
     "output_type": "execute_result"
    },
    {
     "data": {
      "image/png": "[encoded data removed]",
      "text/plain": [
       "<Figure size 432x288 with 1 Axes>"
      ]
     },
     "metadata": {
      "needs_background": "light"
     },
     "output_type": "display_data"
    }
   ],
   "source": [
    "d = pd.DataFrame(df_4.groupby('alight_time')['ID'].count()).rename(columns={'ID':'count'})\n",
    "sns.scatterplot(data = d, x = \"alight_time\", y = \"count\")"
   ]
  },
  {
   "cell_type": "code",
   "execution_count": 35,
   "metadata": {},
   "outputs": [
    {
     "data": {
      "text/html": [
       "<div>\n",
       "<style scoped>\n",
       "    .dataframe tbody tr th:only-of-type {\n",
       "        vertical-align: middle;\n",
       "    }\n",
       "\n",
       "    .dataframe tbody tr th {\n",
       "        vertical-align: top;\n",
       "    }\n",
       "\n",
       "    .dataframe thead th {\n",
       "        text-align: right;\n",
       "    }\n",
       "</style>\n",
       "<table border=\"1\" class=\"dataframe\">\n",
       "  <thead>\n",
       "    <tr style=\"text-align: right;\">\n",
       "      <th></th>\n",
       "      <th>ID</th>\n",
       "      <th>alight_time</th>\n",
       "      <th>board_time</th>\n",
       "    </tr>\n",
       "  </thead>\n",
       "  <tbody>\n",
       "    <tr>\n",
       "      <th>2</th>\n",
       "      <td>1</td>\n",
       "      <td>Monday</td>\n",
       "      <td>2021-02-15 01:54:27</td>\n",
       "    </tr>\n",
       "    <tr>\n",
       "      <th>6</th>\n",
       "      <td>1</td>\n",
       "      <td>Monday</td>\n",
       "      <td>2021-02-15 19:30:53</td>\n",
       "    </tr>\n",
       "    <tr>\n",
       "      <th>72</th>\n",
       "      <td>5</td>\n",
       "      <td>Monday</td>\n",
       "      <td>2021-02-15 00:17:47</td>\n",
       "    </tr>\n",
       "    <tr>\n",
       "      <th>73</th>\n",
       "      <td>5</td>\n",
       "      <td>Monday</td>\n",
       "      <td>2021-02-15 03:14:01</td>\n",
       "    </tr>\n",
       "    <tr>\n",
       "      <th>80</th>\n",
       "      <td>6</td>\n",
       "      <td>Monday</td>\n",
       "      <td>2021-02-15 01:18:12</td>\n",
       "    </tr>\n",
       "  </tbody>\n",
       "</table>\n",
       "</div>"
      ],
      "text/plain": [
       "    ID alight_time          board_time\n",
       "2    1      Monday 2021-02-15 01:54:27\n",
       "6    1      Monday 2021-02-15 19:30:53\n",
       "72   5      Monday 2021-02-15 00:17:47\n",
       "73   5      Monday 2021-02-15 03:14:01\n",
       "80   6      Monday 2021-02-15 01:18:12"
      ]
     },
     "execution_count": 35,
     "metadata": {},
     "output_type": "execute_result"
    }
   ],
   "source": [
    "# weekdays vs weekends \n",
    "df_6 = full_ride.loc[:,['ID', 'alight_time', 'board_time']]\n",
    "df_6['alight_time'] = df_6['alight_time'].dt.strftime('%A')\n",
    "df_6.head()"
   ]
  },
  {
   "cell_type": "code",
   "execution_count": 36,
   "metadata": {},
   "outputs": [
    {
     "data": {
      "text/html": [
       "<div>\n",
       "<style scoped>\n",
       "    .dataframe tbody tr th:only-of-type {\n",
       "        vertical-align: middle;\n",
       "    }\n",
       "\n",
       "    .dataframe tbody tr th {\n",
       "        vertical-align: top;\n",
       "    }\n",
       "\n",
       "    .dataframe thead th {\n",
       "        text-align: right;\n",
       "    }\n",
       "</style>\n",
       "<table border=\"1\" class=\"dataframe\">\n",
       "  <thead>\n",
       "    <tr style=\"text-align: right;\">\n",
       "      <th></th>\n",
       "      <th>count</th>\n",
       "    </tr>\n",
       "    <tr>\n",
       "      <th>alight_time</th>\n",
       "      <th></th>\n",
       "    </tr>\n",
       "  </thead>\n",
       "  <tbody>\n",
       "    <tr>\n",
       "      <th>Friday</th>\n",
       "      <td>15950</td>\n",
       "    </tr>\n",
       "    <tr>\n",
       "      <th>Monday</th>\n",
       "      <td>14530</td>\n",
       "    </tr>\n",
       "    <tr>\n",
       "      <th>Saturday</th>\n",
       "      <td>9356</td>\n",
       "    </tr>\n",
       "    <tr>\n",
       "      <th>Sunday</th>\n",
       "      <td>8575</td>\n",
       "    </tr>\n",
       "    <tr>\n",
       "      <th>Thursday</th>\n",
       "      <td>15368</td>\n",
       "    </tr>\n",
       "    <tr>\n",
       "      <th>Tuesday</th>\n",
       "      <td>14876</td>\n",
       "    </tr>\n",
       "    <tr>\n",
       "      <th>Wednesday</th>\n",
       "      <td>14732</td>\n",
       "    </tr>\n",
       "  </tbody>\n",
       "</table>\n",
       "</div>"
      ],
      "text/plain": [
       "             count\n",
       "alight_time       \n",
       "Friday       15950\n",
       "Monday       14530\n",
       "Saturday      9356\n",
       "Sunday        8575\n",
       "Thursday     15368\n",
       "Tuesday      14876\n",
       "Wednesday    14732"
      ]
     },
     "execution_count": 36,
     "metadata": {},
     "output_type": "execute_result"
    }
   ],
   "source": [
    "g = pd.DataFrame(df_6.groupby('alight_time')['ID'].count()).rename(columns={'ID':'count'})\n",
    "g"
   ]
  },
  {
   "cell_type": "markdown",
   "metadata": {},
   "source": [
    "saturday & sunday에 count가 현저히 떨어짐\n",
    "\n",
    "위 그래프에서 count가 떨어지는 점들은 주말임 (확인용)"
   ]
  },
  {
   "cell_type": "code",
   "execution_count": 37,
   "metadata": {},
   "outputs": [
    {
     "data": {
      "text/plain": [
       "Text(0.5, 1.0, 'Count by Time Boarded')"
      ]
     },
     "execution_count": 37,
     "metadata": {},
     "output_type": "execute_result"
    },
    {
     "data": {
      "image/png": "[encoded data removed]",
      "text/plain": [
       "<Figure size 432x288 with 1 Axes>"
      ]
     },
     "metadata": {
      "needs_background": "light"
     },
     "output_type": "display_data"
    }
   ],
   "source": [
    "df_5 = full_ride.loc[:,['ID', 'board_time', 'alight_time']]\n",
    "df_5['board_time'] = df_5['board_time'].dt.strftime('%H')\n",
    "df_5['alight_time'] = df_5['alight_time'].dt.strftime('%H')\n",
    "\n",
    "e = pd.DataFrame(df_5.groupby('board_time')['ID'].count()).rename(columns={'ID':'count'})\n",
    "sns.lineplot(data = e, x = \"board_time\", y = \"count\")\n",
    "plt.axvline(x=6, color = 'red')\n",
    "plt.axvline(x=14, color = 'red')\n",
    "plt.title('Count by Time Boarded')"
   ]
  },
  {
   "cell_type": "code",
   "execution_count": 38,
   "metadata": {},
   "outputs": [
    {
     "data": {
      "text/plain": [
       "Text(0.5, 1.0, 'Count by Time Alighted')"
      ]
     },
     "execution_count": 38,
     "metadata": {},
     "output_type": "execute_result"
    },
    {
     "data": {
      "image/png": "[encoded data removed]",
      "text/plain": [
       "<Figure size 432x288 with 1 Axes>"
      ]
     },
     "metadata": {
      "needs_background": "light"
     },
     "output_type": "display_data"
    }
   ],
   "source": [
    "f = pd.DataFrame(df_5.groupby('alight_time')['ID'].count()).rename(columns={'ID':'count'})\n",
    "sns.lineplot(data = f, x = \"alight_time\", y = \"count\")\n",
    "plt.axvline(x=6, color = 'red')\n",
    "plt.axvline(x=14, color = 'red')\n",
    "plt.title('Count by Time Alighted')"
   ]
  },
  {
   "cell_type": "markdown",
   "metadata": {},
   "source": [
    "## 1-5. 이동시간"
   ]
  },
  {
   "cell_type": "code",
   "execution_count": 21,
   "metadata": {},
   "outputs": [
    {
     "data": {
      "text/html": [
       "<div>\n",
       "<style scoped>\n",
       "    .dataframe tbody tr th:only-of-type {\n",
       "        vertical-align: middle;\n",
       "    }\n",
       "\n",
       "    .dataframe tbody tr th {\n",
       "        vertical-align: top;\n",
       "    }\n",
       "\n",
       "    .dataframe thead th {\n",
       "        text-align: right;\n",
       "    }\n",
       "</style>\n",
       "<table border=\"1\" class=\"dataframe\">\n",
       "  <thead>\n",
       "    <tr style=\"text-align: right;\">\n",
       "      <th></th>\n",
       "      <th>ID</th>\n",
       "      <th>board_station</th>\n",
       "      <th>alight_station</th>\n",
       "      <th>adult</th>\n",
       "      <th>teen</th>\n",
       "      <th>child</th>\n",
       "      <th>distance</th>\n",
       "      <th>fare</th>\n",
       "      <th>suc_status</th>\n",
       "      <th>suc_status_d</th>\n",
       "      <th>call_time</th>\n",
       "      <th>board_time</th>\n",
       "      <th>alight_time</th>\n",
       "      <th>suc_time</th>\n",
       "      <th>cancel_time</th>\n",
       "      <th>x</th>\n",
       "      <th>y</th>\n",
       "      <th>board_adm</th>\n",
       "      <th>alight_adm</th>\n",
       "      <th>ivt</th>\n",
       "    </tr>\n",
       "  </thead>\n",
       "  <tbody>\n",
       "    <tr>\n",
       "      <th>0</th>\n",
       "      <td>1</td>\n",
       "      <td>10258</td>\n",
       "      <td>10093</td>\n",
       "      <td>1</td>\n",
       "      <td>0</td>\n",
       "      <td>0</td>\n",
       "      <td>0.0</td>\n",
       "      <td>0</td>\n",
       "      <td>배차불가</td>\n",
       "      <td>NaN</td>\n",
       "      <td>2021-02-15 00:00:24</td>\n",
       "      <td>NaT</td>\n",
       "      <td>NaT</td>\n",
       "      <td>NaT</td>\n",
       "      <td>2021-02-15 00:00:25</td>\n",
       "      <td>37.508302</td>\n",
       "      <td>126.513957</td>\n",
       "      <td>운북동</td>\n",
       "      <td>운남동</td>\n",
       "      <td>NaT</td>\n",
       "    </tr>\n",
       "    <tr>\n",
       "      <th>1</th>\n",
       "      <td>7</td>\n",
       "      <td>10258</td>\n",
       "      <td>12005</td>\n",
       "      <td>1</td>\n",
       "      <td>0</td>\n",
       "      <td>0</td>\n",
       "      <td>0.0</td>\n",
       "      <td>0</td>\n",
       "      <td>배차불가</td>\n",
       "      <td>NaN</td>\n",
       "      <td>2021-02-15 00:00:35</td>\n",
       "      <td>NaT</td>\n",
       "      <td>NaT</td>\n",
       "      <td>NaT</td>\n",
       "      <td>2021-02-15 00:00:35</td>\n",
       "      <td>37.508586</td>\n",
       "      <td>126.513748</td>\n",
       "      <td>운북동</td>\n",
       "      <td>운서동(주거)</td>\n",
       "      <td>NaT</td>\n",
       "    </tr>\n",
       "    <tr>\n",
       "      <th>2</th>\n",
       "      <td>1</td>\n",
       "      <td>10258</td>\n",
       "      <td>10093</td>\n",
       "      <td>1</td>\n",
       "      <td>0</td>\n",
       "      <td>0</td>\n",
       "      <td>0.0</td>\n",
       "      <td>0</td>\n",
       "      <td>배차불가</td>\n",
       "      <td>NaN</td>\n",
       "      <td>2021-02-15 00:00:46</td>\n",
       "      <td>NaT</td>\n",
       "      <td>NaT</td>\n",
       "      <td>NaT</td>\n",
       "      <td>2021-02-15 00:00:46</td>\n",
       "      <td>37.508371</td>\n",
       "      <td>126.514027</td>\n",
       "      <td>운북동</td>\n",
       "      <td>운남동</td>\n",
       "      <td>NaT</td>\n",
       "    </tr>\n",
       "  </tbody>\n",
       "</table>\n",
       "</div>"
      ],
      "text/plain": [
       "   ID  board_station  alight_station  adult  teen  child  distance  fare  \\\n",
       "0   1          10258           10093      1     0      0       0.0     0   \n",
       "1   7          10258           12005      1     0      0       0.0     0   \n",
       "2   1          10258           10093      1     0      0       0.0     0   \n",
       "\n",
       "  suc_status suc_status_d           call_time board_time alight_time suc_time  \\\n",
       "0       배차불가          NaN 2021-02-15 00:00:24        NaT         NaT      NaT   \n",
       "1       배차불가          NaN 2021-02-15 00:00:35        NaT         NaT      NaT   \n",
       "2       배차불가          NaN 2021-02-15 00:00:46        NaT         NaT      NaT   \n",
       "\n",
       "          cancel_time          x           y board_adm alight_adm ivt  \n",
       "0 2021-02-15 00:00:25  37.508302  126.513957       운북동        운남동 NaT  \n",
       "1 2021-02-15 00:00:35  37.508586  126.513748       운북동    운서동(주거) NaT  \n",
       "2 2021-02-15 00:00:46  37.508371  126.514027       운북동        운남동 NaT  "
      ]
     },
     "execution_count": 21,
     "metadata": {},
     "output_type": "execute_result"
    }
   ],
   "source": [
    "# 파생변수 ivt 생성\n",
    "order['ivt'] = order['alight_time'] - order['board_time']\n",
    "order_last['ivt'] = order['alight_time'] - order['board_time']\n",
    "order.head(3)"
   ]
  },
  {
   "cell_type": "code",
   "execution_count": 22,
   "metadata": {},
   "outputs": [
    {
     "data": {
      "text/plain": [
       "count    16895.000000\n",
       "mean        16.095405\n",
       "std         13.319817\n",
       "min          0.200000\n",
       "25%         11.000000\n",
       "50%         14.766667\n",
       "75%         19.650000\n",
       "max       1029.300000\n",
       "Name: ivt, dtype: float64"
      ]
     },
     "execution_count": 22,
     "metadata": {},
     "output_type": "execute_result"
    }
   ],
   "source": [
    "order_last['ivt'] = order_last['ivt'].astype(\"timedelta64[s]\") / 60\n",
    "order_last['ivt'].describe()"
   ]
  },
  {
   "cell_type": "code",
   "execution_count": 26,
   "metadata": {},
   "outputs": [
    {
     "data": {
      "text/plain": [
       "<AxesSubplot:xlabel='ivt', ylabel='Count'>"
      ]
     },
     "execution_count": 26,
     "metadata": {},
     "output_type": "execute_result"
    },
    {
     "data": {
      "image/png": "[encoded data removed]",
      "text/plain": [
       "<Figure size 432x288 with 1 Axes>"
      ]
     },
     "metadata": {
      "needs_background": "light"
     },
     "output_type": "display_data"
    }
   ],
   "source": [
    "# outlier 제거 후 분포 시각화\n",
    "IQR =  19.65 - 11\n",
    "limit_1 = 11 - IQR * 1.5\n",
    "limit_2 = 19.65 + IQR * 1.5\n",
    "sns.histplot(data = order_last[(order_last['ivt']>limit_1) & (order_last['ivt']<limit_2)], x=\"ivt\",bins= 32, kde = 'True')"
   ]
  },
  {
   "cell_type": "code",
   "execution_count": 24,
   "metadata": {},
   "outputs": [
    {
     "data": {
      "text/plain": [
       "count    16335.000000\n",
       "mean        15.166706\n",
       "std          6.184487\n",
       "min          0.200000\n",
       "25%         10.850000\n",
       "50%         14.516667\n",
       "75%         19.016667\n",
       "max         32.616667\n",
       "Name: ivt, dtype: float64"
      ]
     },
     "execution_count": 24,
     "metadata": {},
     "output_type": "execute_result"
    }
   ],
   "source": [
    "order_last[(order_last['ivt']>limit_1) & (order_last['ivt']<limit_2)]['ivt'].describe()"
   ]
  },
  {
   "cell_type": "markdown",
   "metadata": {},
   "source": [
    "# 2. 공간정보"
   ]
  },
  {
   "cell_type": "markdown",
   "metadata": {},
   "source": [
    "## 2-1. Call Location (x,y)"
   ]
  },
  {
   "cell_type": "markdown",
   "metadata": {},
   "source": [
    "arcgis로 호출 위치 좌표 시각화"
   ]
  },
  {
   "cell_type": "markdown",
   "metadata": {},
   "source": [
    "## 2-2. Board station & Alight station"
   ]
  },
  {
   "cell_type": "code",
   "execution_count": 72,
   "metadata": {},
   "outputs": [
    {
     "data": {
      "text/plain": [
       "10046    12614\n",
       "10086    11700\n",
       "10400     8843\n",
       "10120     6951\n",
       "10910     6906\n",
       "         ...  \n",
       "10222        1\n",
       "10071        1\n",
       "10239        1\n",
       "10220        1\n",
       "10255        1\n",
       "Name: board_station, Length: 311, dtype: int64"
      ]
     },
     "execution_count": 72,
     "metadata": {},
     "output_type": "execute_result"
    }
   ],
   "source": [
    "order_last['board_station'].value_counts()"
   ]
  },
  {
   "cell_type": "code",
   "execution_count": 76,
   "metadata": {},
   "outputs": [
    {
     "data": {
      "text/plain": [
       "운서동(주거)    0.359900\n",
       "중산동        0.310960\n",
       "운서동(공항)    0.143379\n",
       "운남동        0.124241\n",
       "운북동        0.056647\n",
       "덕교동        0.002883\n",
       "을왕동        0.001540\n",
       "남북동        0.000450\n",
       "Name: board_adm, dtype: float64"
      ]
     },
     "execution_count": 76,
     "metadata": {},
     "output_type": "execute_result"
    }
   ],
   "source": [
    "order_last['board_adm'].value_counts(normalize='True')"
   ]
  },
  {
   "cell_type": "code",
   "execution_count": 78,
   "metadata": {},
   "outputs": [
    {
     "data": {
      "text/plain": [
       "10046    15715\n",
       "10400    10982\n",
       "10011     6912\n",
       "12007     6557\n",
       "10010     6493\n",
       "         ...  \n",
       "10220        2\n",
       "12004        2\n",
       "10250        1\n",
       "10222        1\n",
       "21248        1\n",
       "Name: alight_station, Length: 317, dtype: int64"
      ]
     },
     "execution_count": 78,
     "metadata": {},
     "output_type": "execute_result"
    }
   ],
   "source": [
    "order_last['alight_station'].value_counts()"
   ]
  },
  {
   "cell_type": "code",
   "execution_count": 79,
   "metadata": {},
   "outputs": [
    {
     "data": {
      "text/plain": [
       "운서동(주거)    0.306424\n",
       "중산동        0.304860\n",
       "운서동(공항)    0.180542\n",
       "운남동        0.121538\n",
       "운북동        0.074308\n",
       "덕교동        0.006797\n",
       "을왕동        0.004233\n",
       "남북동        0.001298\n",
       "Name: alight_adm, dtype: float64"
      ]
     },
     "execution_count": 79,
     "metadata": {},
     "output_type": "execute_result"
    }
   ],
   "source": [
    "order_last['alight_adm'].value_counts(normalize = 'True')"
   ]
  },
  {
   "cell_type": "code",
   "execution_count": 61,
   "metadata": {},
   "outputs": [
    {
     "data": {
      "text/html": [
       "<div>\n",
       "<style scoped>\n",
       "    .dataframe tbody tr th:only-of-type {\n",
       "        vertical-align: middle;\n",
       "    }\n",
       "\n",
       "    .dataframe tbody tr th {\n",
       "        vertical-align: top;\n",
       "    }\n",
       "\n",
       "    .dataframe thead th {\n",
       "        text-align: right;\n",
       "    }\n",
       "</style>\n",
       "<table border=\"1\" class=\"dataframe\">\n",
       "  <thead>\n",
       "    <tr style=\"text-align: right;\">\n",
       "      <th></th>\n",
       "      <th>id</th>\n",
       "      <th>name</th>\n",
       "      <th>x</th>\n",
       "      <th>y</th>\n",
       "      <th>st_no</th>\n",
       "      <th>ADM</th>\n",
       "    </tr>\n",
       "  </thead>\n",
       "  <tbody>\n",
       "    <tr>\n",
       "      <th>0</th>\n",
       "      <td>10011</td>\n",
       "      <td>힐스테이트</td>\n",
       "      <td>126.564239</td>\n",
       "      <td>37.489032</td>\n",
       "      <td>35458.0</td>\n",
       "      <td>중산동</td>\n",
       "    </tr>\n",
       "  </tbody>\n",
       "</table>\n",
       "</div>"
      ],
      "text/plain": [
       "      id   name           x          y    st_no  ADM\n",
       "0  10011  힐스테이트  126.564239  37.489032  35458.0  중산동"
      ]
     },
     "execution_count": 61,
     "metadata": {},
     "output_type": "execute_result"
    }
   ],
   "source": [
    "station = pd.read_csv('C:/Users/happy/Desktop/project/data/station_list_ADM.csv')\n",
    "station = station.drop(columns = ['input_date', 'is_using'])\n",
    "station.head(1)"
   ]
  },
  {
   "cell_type": "code",
   "execution_count": 69,
   "metadata": {},
   "outputs": [
    {
     "data": {
      "text/html": [
       "<div>\n",
       "<style scoped>\n",
       "    .dataframe tbody tr th:only-of-type {\n",
       "        vertical-align: middle;\n",
       "    }\n",
       "\n",
       "    .dataframe tbody tr th {\n",
       "        vertical-align: top;\n",
       "    }\n",
       "\n",
       "    .dataframe thead th {\n",
       "        text-align: right;\n",
       "    }\n",
       "</style>\n",
       "<table border=\"1\" class=\"dataframe\">\n",
       "  <thead>\n",
       "    <tr style=\"text-align: right;\">\n",
       "      <th></th>\n",
       "      <th>ID</th>\n",
       "      <th>board_station</th>\n",
       "      <th>alight_station</th>\n",
       "    </tr>\n",
       "  </thead>\n",
       "  <tbody>\n",
       "    <tr>\n",
       "      <th>0</th>\n",
       "      <td>1</td>\n",
       "      <td>10258</td>\n",
       "      <td>10203</td>\n",
       "    </tr>\n",
       "    <tr>\n",
       "      <th>1</th>\n",
       "      <td>1</td>\n",
       "      <td>10263</td>\n",
       "      <td>10093</td>\n",
       "    </tr>\n",
       "    <tr>\n",
       "      <th>2</th>\n",
       "      <td>1</td>\n",
       "      <td>10172</td>\n",
       "      <td>10205</td>\n",
       "    </tr>\n",
       "    <tr>\n",
       "      <th>3</th>\n",
       "      <td>1</td>\n",
       "      <td>10260</td>\n",
       "      <td>10205</td>\n",
       "    </tr>\n",
       "    <tr>\n",
       "      <th>4</th>\n",
       "      <td>1</td>\n",
       "      <td>10911</td>\n",
       "      <td>10258</td>\n",
       "    </tr>\n",
       "    <tr>\n",
       "      <th>...</th>\n",
       "      <td>...</td>\n",
       "      <td>...</td>\n",
       "      <td>...</td>\n",
       "    </tr>\n",
       "    <tr>\n",
       "      <th>288942</th>\n",
       "      <td>11577</td>\n",
       "      <td>21367</td>\n",
       "      <td>10147</td>\n",
       "    </tr>\n",
       "    <tr>\n",
       "      <th>288943</th>\n",
       "      <td>11577</td>\n",
       "      <td>10046</td>\n",
       "      <td>10095</td>\n",
       "    </tr>\n",
       "    <tr>\n",
       "      <th>288944</th>\n",
       "      <td>11577</td>\n",
       "      <td>10109</td>\n",
       "      <td>10095</td>\n",
       "    </tr>\n",
       "    <tr>\n",
       "      <th>288945</th>\n",
       "      <td>11577</td>\n",
       "      <td>10010</td>\n",
       "      <td>21367</td>\n",
       "    </tr>\n",
       "    <tr>\n",
       "      <th>288946</th>\n",
       "      <td>11577</td>\n",
       "      <td>10011</td>\n",
       "      <td>10137</td>\n",
       "    </tr>\n",
       "  </tbody>\n",
       "</table>\n",
       "<p>288947 rows × 3 columns</p>\n",
       "</div>"
      ],
      "text/plain": [
       "           ID  board_station  alight_station\n",
       "0           1          10258           10203\n",
       "1           1          10263           10093\n",
       "2           1          10172           10205\n",
       "3           1          10260           10205\n",
       "4           1          10911           10258\n",
       "...       ...            ...             ...\n",
       "288942  11577          21367           10147\n",
       "288943  11577          10046           10095\n",
       "288944  11577          10109           10095\n",
       "288945  11577          10010           21367\n",
       "288946  11577          10011           10137\n",
       "\n",
       "[288947 rows x 3 columns]"
      ]
     },
     "execution_count": 69,
     "metadata": {},
     "output_type": "execute_result"
    }
   ],
   "source": [
    "order_last[['ID','board_station','alight_station','suc_status']]"
   ]
  },
  {
   "cell_type": "code",
   "execution_count": 70,
   "metadata": {},
   "outputs": [
    {
     "data": {
      "text/html": [
       "<div>\n",
       "<style scoped>\n",
       "    .dataframe tbody tr th:only-of-type {\n",
       "        vertical-align: middle;\n",
       "    }\n",
       "\n",
       "    .dataframe tbody tr th {\n",
       "        vertical-align: top;\n",
       "    }\n",
       "\n",
       "    .dataframe thead th {\n",
       "        text-align: right;\n",
       "    }\n",
       "</style>\n",
       "<table border=\"1\" class=\"dataframe\">\n",
       "  <thead>\n",
       "    <tr style=\"text-align: right;\">\n",
       "      <th></th>\n",
       "      <th>ID</th>\n",
       "      <th>board_station</th>\n",
       "      <th>alight_station</th>\n",
       "      <th>suc_status</th>\n",
       "      <th>id</th>\n",
       "      <th>name</th>\n",
       "      <th>x</th>\n",
       "      <th>y</th>\n",
       "      <th>st_no</th>\n",
       "      <th>ADM</th>\n",
       "    </tr>\n",
       "  </thead>\n",
       "  <tbody>\n",
       "    <tr>\n",
       "      <th>0</th>\n",
       "      <td>1</td>\n",
       "      <td>10258</td>\n",
       "      <td>10203</td>\n",
       "      <td>탑승취소</td>\n",
       "      <td>10258</td>\n",
       "      <td>예드림빌라입구</td>\n",
       "      <td>126.512309</td>\n",
       "      <td>37.507848</td>\n",
       "      <td>35546.0</td>\n",
       "      <td>운북동</td>\n",
       "    </tr>\n",
       "  </tbody>\n",
       "</table>\n",
       "</div>"
      ],
      "text/plain": [
       "   ID  board_station  alight_station suc_status     id     name           x  \\\n",
       "0   1          10258           10203       탑승취소  10258  예드림빌라입구  126.512309   \n",
       "\n",
       "           y    st_no  ADM  \n",
       "0  37.507848  35546.0  운북동  "
      ]
     },
     "execution_count": 70,
     "metadata": {},
     "output_type": "execute_result"
    }
   ],
   "source": [
    "station_board = pd.merge(order_last[['ID','board_station','alight_station','suc_status']],station,left_on='board_station',right_on='id',how='left')\n",
    "station_board.head(1)"
   ]
  },
  {
   "cell_type": "code",
   "execution_count": 71,
   "metadata": {},
   "outputs": [
    {
     "data": {
      "text/html": [
       "<div>\n",
       "<style scoped>\n",
       "    .dataframe tbody tr th:only-of-type {\n",
       "        vertical-align: middle;\n",
       "    }\n",
       "\n",
       "    .dataframe tbody tr th {\n",
       "        vertical-align: top;\n",
       "    }\n",
       "\n",
       "    .dataframe thead th {\n",
       "        text-align: right;\n",
       "    }\n",
       "</style>\n",
       "<table border=\"1\" class=\"dataframe\">\n",
       "  <thead>\n",
       "    <tr style=\"text-align: right;\">\n",
       "      <th></th>\n",
       "      <th>ID</th>\n",
       "      <th>board_station</th>\n",
       "      <th>alight_station</th>\n",
       "      <th>suc_status</th>\n",
       "      <th>id</th>\n",
       "      <th>name</th>\n",
       "      <th>x</th>\n",
       "      <th>y</th>\n",
       "      <th>st_no</th>\n",
       "      <th>ADM</th>\n",
       "    </tr>\n",
       "  </thead>\n",
       "  <tbody>\n",
       "    <tr>\n",
       "      <th>0</th>\n",
       "      <td>1</td>\n",
       "      <td>10258</td>\n",
       "      <td>10203</td>\n",
       "      <td>탑승취소</td>\n",
       "      <td>10203.0</td>\n",
       "      <td>예단포</td>\n",
       "      <td>126.503989</td>\n",
       "      <td>37.527344</td>\n",
       "      <td>35395.0</td>\n",
       "      <td>운북동</td>\n",
       "    </tr>\n",
       "  </tbody>\n",
       "</table>\n",
       "</div>"
      ],
      "text/plain": [
       "   ID  board_station  alight_station suc_status       id name           x  \\\n",
       "0   1          10258           10203       탑승취소  10203.0  예단포  126.503989   \n",
       "\n",
       "           y    st_no  ADM  \n",
       "0  37.527344  35395.0  운북동  "
      ]
     },
     "execution_count": 71,
     "metadata": {},
     "output_type": "execute_result"
    }
   ],
   "source": [
    "station_alight = pd.merge(order_last[['ID','board_station','alight_station','suc_status']],station,left_on='alight_station',right_on='id',how='left')\n",
    "station_alight.head(1)"
   ]
  },
  {
   "cell_type": "code",
   "execution_count": 80,
   "metadata": {},
   "outputs": [],
   "source": [
    "station_board.to_csv('C:/Users/happy/Desktop/project/data/station_board.csv')\n",
    "station_alight.to_csv('C:/Users/happy/Desktop/project/data/station_alight.csv')"
   ]
  },
  {
   "cell_type": "markdown",
   "metadata": {},
   "source": [
    "## 2-3.Board ADM & Alight ADM"
   ]
  },
  {
   "cell_type": "code",
   "execution_count": 42,
   "metadata": {},
   "outputs": [],
   "source": [
    "# 총 이동인원\n",
    "order_last['PassNum'] = order_last['adult'] + order['teen'] + order['child']\n",
    "\n",
    "import numpy as np\n",
    "\n",
    "od_table_all = pd.pivot_table(order_last, index='board_adm', columns='alight_adm', values='PassNum', aggfunc=np.sum)\n",
    "od_table_all.loc['계', :] = od_table_all.sum(axis=0)\n",
    "od_table_all['계'] = od_table_all.sum(axis=1)\n",
    "\n",
    "od_table_success = pd.pivot_table(order_last.loc[order_last['suc_status'] == '하차완료', :], index='board_adm', columns='alight_adm', values='PassNum', aggfunc=np.sum).fillna(0)\n",
    "od_table_success.loc['계', :] = od_table_success.sum(axis=0)\n",
    "od_table_success['계'] = od_table_success.sum(axis=1)\n",
    "\n",
    "od_table_success_rate = (od_table_success / od_table_all * 100).apply(lambda x: round(x, 2))\n"
   ]
  },
  {
   "cell_type": "code",
   "execution_count": 43,
   "metadata": {},
   "outputs": [
    {
     "data": {
      "text/html": [
       "<div>\n",
       "<style scoped>\n",
       "    .dataframe tbody tr th:only-of-type {\n",
       "        vertical-align: middle;\n",
       "    }\n",
       "\n",
       "    .dataframe tbody tr th {\n",
       "        vertical-align: top;\n",
       "    }\n",
       "\n",
       "    .dataframe thead th {\n",
       "        text-align: right;\n",
       "    }\n",
       "</style>\n",
       "<table border=\"1\" class=\"dataframe\">\n",
       "  <thead>\n",
       "    <tr style=\"text-align: right;\">\n",
       "      <th>alight_adm</th>\n",
       "      <th>남북동</th>\n",
       "      <th>덕교동</th>\n",
       "      <th>운남동</th>\n",
       "      <th>운북동</th>\n",
       "      <th>운서동(공항)</th>\n",
       "      <th>운서동(주거)</th>\n",
       "      <th>을왕동</th>\n",
       "      <th>중산동</th>\n",
       "      <th>계</th>\n",
       "    </tr>\n",
       "    <tr>\n",
       "      <th>board_adm</th>\n",
       "      <th></th>\n",
       "      <th></th>\n",
       "      <th></th>\n",
       "      <th></th>\n",
       "      <th></th>\n",
       "      <th></th>\n",
       "      <th></th>\n",
       "      <th></th>\n",
       "      <th></th>\n",
       "    </tr>\n",
       "  </thead>\n",
       "  <tbody>\n",
       "    <tr>\n",
       "      <th>남북동</th>\n",
       "      <td>2.0</td>\n",
       "      <td>4.0</td>\n",
       "      <td>12.0</td>\n",
       "      <td>2.0</td>\n",
       "      <td>42.0</td>\n",
       "      <td>77.0</td>\n",
       "      <td>4.0</td>\n",
       "      <td>31.0</td>\n",
       "      <td>174.0</td>\n",
       "    </tr>\n",
       "    <tr>\n",
       "      <th>덕교동</th>\n",
       "      <td>5.0</td>\n",
       "      <td>10.0</td>\n",
       "      <td>130.0</td>\n",
       "      <td>40.0</td>\n",
       "      <td>91.0</td>\n",
       "      <td>608.0</td>\n",
       "      <td>11.0</td>\n",
       "      <td>224.0</td>\n",
       "      <td>1119.0</td>\n",
       "    </tr>\n",
       "    <tr>\n",
       "      <th>운남동</th>\n",
       "      <td>41.0</td>\n",
       "      <td>166.0</td>\n",
       "      <td>1146.0</td>\n",
       "      <td>4319.0</td>\n",
       "      <td>10339.0</td>\n",
       "      <td>10755.0</td>\n",
       "      <td>132.0</td>\n",
       "      <td>9136.0</td>\n",
       "      <td>36034.0</td>\n",
       "    </tr>\n",
       "    <tr>\n",
       "      <th>운북동</th>\n",
       "      <td>10.0</td>\n",
       "      <td>76.0</td>\n",
       "      <td>3676.0</td>\n",
       "      <td>829.0</td>\n",
       "      <td>524.0</td>\n",
       "      <td>1458.0</td>\n",
       "      <td>32.0</td>\n",
       "      <td>11576.0</td>\n",
       "      <td>18181.0</td>\n",
       "    </tr>\n",
       "    <tr>\n",
       "      <th>운서동(공항)</th>\n",
       "      <td>76.0</td>\n",
       "      <td>183.0</td>\n",
       "      <td>8191.0</td>\n",
       "      <td>301.0</td>\n",
       "      <td>585.0</td>\n",
       "      <td>26816.0</td>\n",
       "      <td>175.0</td>\n",
       "      <td>13784.0</td>\n",
       "      <td>50111.0</td>\n",
       "    </tr>\n",
       "    <tr>\n",
       "      <th>운서동(주거)</th>\n",
       "      <td>220.0</td>\n",
       "      <td>1463.0</td>\n",
       "      <td>11612.0</td>\n",
       "      <td>2112.0</td>\n",
       "      <td>32137.0</td>\n",
       "      <td>14502.0</td>\n",
       "      <td>1084.0</td>\n",
       "      <td>40299.0</td>\n",
       "      <td>103429.0</td>\n",
       "    </tr>\n",
       "    <tr>\n",
       "      <th>을왕동</th>\n",
       "      <td>12.0</td>\n",
       "      <td>13.0</td>\n",
       "      <td>42.0</td>\n",
       "      <td>14.0</td>\n",
       "      <td>53.0</td>\n",
       "      <td>399.0</td>\n",
       "      <td>11.0</td>\n",
       "      <td>105.0</td>\n",
       "      <td>649.0</td>\n",
       "    </tr>\n",
       "    <tr>\n",
       "      <th>중산동</th>\n",
       "      <td>115.0</td>\n",
       "      <td>616.0</td>\n",
       "      <td>9713.0</td>\n",
       "      <td>15493.0</td>\n",
       "      <td>17233.0</td>\n",
       "      <td>37000.0</td>\n",
       "      <td>316.0</td>\n",
       "      <td>9793.0</td>\n",
       "      <td>90279.0</td>\n",
       "    </tr>\n",
       "    <tr>\n",
       "      <th>계</th>\n",
       "      <td>481.0</td>\n",
       "      <td>2531.0</td>\n",
       "      <td>34522.0</td>\n",
       "      <td>23110.0</td>\n",
       "      <td>61004.0</td>\n",
       "      <td>91615.0</td>\n",
       "      <td>1765.0</td>\n",
       "      <td>84948.0</td>\n",
       "      <td>299976.0</td>\n",
       "    </tr>\n",
       "  </tbody>\n",
       "</table>\n",
       "</div>"
      ],
      "text/plain": [
       "alight_adm    남북동     덕교동      운남동      운북동  운서동(공항)  운서동(주거)     을왕동  \\\n",
       "board_adm                                                               \n",
       "남북동           2.0     4.0     12.0      2.0     42.0     77.0     4.0   \n",
       "덕교동           5.0    10.0    130.0     40.0     91.0    608.0    11.0   \n",
       "운남동          41.0   166.0   1146.0   4319.0  10339.0  10755.0   132.0   \n",
       "운북동          10.0    76.0   3676.0    829.0    524.0   1458.0    32.0   \n",
       "운서동(공항)      76.0   183.0   8191.0    301.0    585.0  26816.0   175.0   \n",
       "운서동(주거)     220.0  1463.0  11612.0   2112.0  32137.0  14502.0  1084.0   \n",
       "을왕동          12.0    13.0     42.0     14.0     53.0    399.0    11.0   \n",
       "중산동         115.0   616.0   9713.0  15493.0  17233.0  37000.0   316.0   \n",
       "계           481.0  2531.0  34522.0  23110.0  61004.0  91615.0  1765.0   \n",
       "\n",
       "alight_adm      중산동         계  \n",
       "board_adm                      \n",
       "남북동            31.0     174.0  \n",
       "덕교동           224.0    1119.0  \n",
       "운남동          9136.0   36034.0  \n",
       "운북동         11576.0   18181.0  \n",
       "운서동(공항)     13784.0   50111.0  \n",
       "운서동(주거)     40299.0  103429.0  \n",
       "을왕동           105.0     649.0  \n",
       "중산동          9793.0   90279.0  \n",
       "계           84948.0  299976.0  "
      ]
     },
     "execution_count": 43,
     "metadata": {},
     "output_type": "execute_result"
    }
   ],
   "source": [
    "# 호출이력 (실수요 반영)에 따른 od table\n",
    "od_table_all"
   ]
  },
  {
   "cell_type": "code",
   "execution_count": 44,
   "metadata": {},
   "outputs": [
    {
     "data": {
      "text/html": [
       "<div>\n",
       "<style scoped>\n",
       "    .dataframe tbody tr th:only-of-type {\n",
       "        vertical-align: middle;\n",
       "    }\n",
       "\n",
       "    .dataframe tbody tr th {\n",
       "        vertical-align: top;\n",
       "    }\n",
       "\n",
       "    .dataframe thead th {\n",
       "        text-align: right;\n",
       "    }\n",
       "</style>\n",
       "<table border=\"1\" class=\"dataframe\">\n",
       "  <thead>\n",
       "    <tr style=\"text-align: right;\">\n",
       "      <th>alight_adm</th>\n",
       "      <th>남북동</th>\n",
       "      <th>덕교동</th>\n",
       "      <th>운남동</th>\n",
       "      <th>운북동</th>\n",
       "      <th>운서동(공항)</th>\n",
       "      <th>운서동(주거)</th>\n",
       "      <th>을왕동</th>\n",
       "      <th>중산동</th>\n",
       "      <th>계</th>\n",
       "    </tr>\n",
       "    <tr>\n",
       "      <th>board_adm</th>\n",
       "      <th></th>\n",
       "      <th></th>\n",
       "      <th></th>\n",
       "      <th></th>\n",
       "      <th></th>\n",
       "      <th></th>\n",
       "      <th></th>\n",
       "      <th></th>\n",
       "      <th></th>\n",
       "    </tr>\n",
       "  </thead>\n",
       "  <tbody>\n",
       "    <tr>\n",
       "      <th>남북동</th>\n",
       "      <td>0.0</td>\n",
       "      <td>0.0</td>\n",
       "      <td>0.0</td>\n",
       "      <td>0.0</td>\n",
       "      <td>0.0</td>\n",
       "      <td>4.0</td>\n",
       "      <td>0.0</td>\n",
       "      <td>3.0</td>\n",
       "      <td>7.0</td>\n",
       "    </tr>\n",
       "    <tr>\n",
       "      <th>덕교동</th>\n",
       "      <td>0.0</td>\n",
       "      <td>0.0</td>\n",
       "      <td>2.0</td>\n",
       "      <td>1.0</td>\n",
       "      <td>0.0</td>\n",
       "      <td>10.0</td>\n",
       "      <td>0.0</td>\n",
       "      <td>9.0</td>\n",
       "      <td>22.0</td>\n",
       "    </tr>\n",
       "    <tr>\n",
       "      <th>운남동</th>\n",
       "      <td>2.0</td>\n",
       "      <td>13.0</td>\n",
       "      <td>321.0</td>\n",
       "      <td>1044.0</td>\n",
       "      <td>4511.0</td>\n",
       "      <td>2901.0</td>\n",
       "      <td>7.0</td>\n",
       "      <td>3040.0</td>\n",
       "      <td>11839.0</td>\n",
       "    </tr>\n",
       "    <tr>\n",
       "      <th>운북동</th>\n",
       "      <td>2.0</td>\n",
       "      <td>22.0</td>\n",
       "      <td>1140.0</td>\n",
       "      <td>162.0</td>\n",
       "      <td>172.0</td>\n",
       "      <td>453.0</td>\n",
       "      <td>2.0</td>\n",
       "      <td>3345.0</td>\n",
       "      <td>5298.0</td>\n",
       "    </tr>\n",
       "    <tr>\n",
       "      <th>운서동(공항)</th>\n",
       "      <td>12.0</td>\n",
       "      <td>4.0</td>\n",
       "      <td>2657.0</td>\n",
       "      <td>73.0</td>\n",
       "      <td>156.0</td>\n",
       "      <td>6972.0</td>\n",
       "      <td>5.0</td>\n",
       "      <td>3759.0</td>\n",
       "      <td>13638.0</td>\n",
       "    </tr>\n",
       "    <tr>\n",
       "      <th>운서동(주거)</th>\n",
       "      <td>39.0</td>\n",
       "      <td>165.0</td>\n",
       "      <td>3352.0</td>\n",
       "      <td>805.0</td>\n",
       "      <td>11708.0</td>\n",
       "      <td>3469.0</td>\n",
       "      <td>54.0</td>\n",
       "      <td>15529.0</td>\n",
       "      <td>35121.0</td>\n",
       "    </tr>\n",
       "    <tr>\n",
       "      <th>을왕동</th>\n",
       "      <td>0.0</td>\n",
       "      <td>0.0</td>\n",
       "      <td>0.0</td>\n",
       "      <td>0.0</td>\n",
       "      <td>0.0</td>\n",
       "      <td>3.0</td>\n",
       "      <td>0.0</td>\n",
       "      <td>0.0</td>\n",
       "      <td>3.0</td>\n",
       "    </tr>\n",
       "    <tr>\n",
       "      <th>중산동</th>\n",
       "      <td>10.0</td>\n",
       "      <td>97.0</td>\n",
       "      <td>3564.0</td>\n",
       "      <td>3398.0</td>\n",
       "      <td>5886.0</td>\n",
       "      <td>14490.0</td>\n",
       "      <td>8.0</td>\n",
       "      <td>2820.0</td>\n",
       "      <td>30273.0</td>\n",
       "    </tr>\n",
       "    <tr>\n",
       "      <th>계</th>\n",
       "      <td>65.0</td>\n",
       "      <td>301.0</td>\n",
       "      <td>11036.0</td>\n",
       "      <td>5483.0</td>\n",
       "      <td>22433.0</td>\n",
       "      <td>28302.0</td>\n",
       "      <td>76.0</td>\n",
       "      <td>28505.0</td>\n",
       "      <td>96201.0</td>\n",
       "    </tr>\n",
       "  </tbody>\n",
       "</table>\n",
       "</div>"
      ],
      "text/plain": [
       "alight_adm   남북동    덕교동      운남동     운북동  운서동(공항)  운서동(주거)   을왕동      중산동  \\\n",
       "board_adm                                                                   \n",
       "남북동          0.0    0.0      0.0     0.0      0.0      4.0   0.0      3.0   \n",
       "덕교동          0.0    0.0      2.0     1.0      0.0     10.0   0.0      9.0   \n",
       "운남동          2.0   13.0    321.0  1044.0   4511.0   2901.0   7.0   3040.0   \n",
       "운북동          2.0   22.0   1140.0   162.0    172.0    453.0   2.0   3345.0   \n",
       "운서동(공항)     12.0    4.0   2657.0    73.0    156.0   6972.0   5.0   3759.0   \n",
       "운서동(주거)     39.0  165.0   3352.0   805.0  11708.0   3469.0  54.0  15529.0   \n",
       "을왕동          0.0    0.0      0.0     0.0      0.0      3.0   0.0      0.0   \n",
       "중산동         10.0   97.0   3564.0  3398.0   5886.0  14490.0   8.0   2820.0   \n",
       "계           65.0  301.0  11036.0  5483.0  22433.0  28302.0  76.0  28505.0   \n",
       "\n",
       "alight_adm        계  \n",
       "board_adm            \n",
       "남북동             7.0  \n",
       "덕교동            22.0  \n",
       "운남동         11839.0  \n",
       "운북동          5298.0  \n",
       "운서동(공항)     13638.0  \n",
       "운서동(주거)     35121.0  \n",
       "을왕동             3.0  \n",
       "중산동         30273.0  \n",
       "계           96201.0  "
      ]
     },
     "execution_count": 44,
     "metadata": {},
     "output_type": "execute_result"
    }
   ],
   "source": [
    "# 하차완료한 승하차 이력에 따른 od table\n",
    "od_table_success"
   ]
  },
  {
   "cell_type": "code",
   "execution_count": 45,
   "metadata": {},
   "outputs": [
    {
     "data": {
      "text/html": [
       "<div>\n",
       "<style scoped>\n",
       "    .dataframe tbody tr th:only-of-type {\n",
       "        vertical-align: middle;\n",
       "    }\n",
       "\n",
       "    .dataframe tbody tr th {\n",
       "        vertical-align: top;\n",
       "    }\n",
       "\n",
       "    .dataframe thead th {\n",
       "        text-align: right;\n",
       "    }\n",
       "</style>\n",
       "<table border=\"1\" class=\"dataframe\">\n",
       "  <thead>\n",
       "    <tr style=\"text-align: right;\">\n",
       "      <th>alight_adm</th>\n",
       "      <th>남북동</th>\n",
       "      <th>덕교동</th>\n",
       "      <th>운남동</th>\n",
       "      <th>운북동</th>\n",
       "      <th>운서동(공항)</th>\n",
       "      <th>운서동(주거)</th>\n",
       "      <th>을왕동</th>\n",
       "      <th>중산동</th>\n",
       "      <th>계</th>\n",
       "    </tr>\n",
       "    <tr>\n",
       "      <th>board_adm</th>\n",
       "      <th></th>\n",
       "      <th></th>\n",
       "      <th></th>\n",
       "      <th></th>\n",
       "      <th></th>\n",
       "      <th></th>\n",
       "      <th></th>\n",
       "      <th></th>\n",
       "      <th></th>\n",
       "    </tr>\n",
       "  </thead>\n",
       "  <tbody>\n",
       "    <tr>\n",
       "      <th>남북동</th>\n",
       "      <td>0.00</td>\n",
       "      <td>0.00</td>\n",
       "      <td>0.00</td>\n",
       "      <td>0.00</td>\n",
       "      <td>0.00</td>\n",
       "      <td>5.19</td>\n",
       "      <td>0.00</td>\n",
       "      <td>9.68</td>\n",
       "      <td>4.02</td>\n",
       "    </tr>\n",
       "    <tr>\n",
       "      <th>덕교동</th>\n",
       "      <td>0.00</td>\n",
       "      <td>0.00</td>\n",
       "      <td>1.54</td>\n",
       "      <td>2.50</td>\n",
       "      <td>0.00</td>\n",
       "      <td>1.64</td>\n",
       "      <td>0.00</td>\n",
       "      <td>4.02</td>\n",
       "      <td>1.97</td>\n",
       "    </tr>\n",
       "    <tr>\n",
       "      <th>운남동</th>\n",
       "      <td>4.88</td>\n",
       "      <td>7.83</td>\n",
       "      <td>28.01</td>\n",
       "      <td>24.17</td>\n",
       "      <td>43.63</td>\n",
       "      <td>26.97</td>\n",
       "      <td>5.30</td>\n",
       "      <td>33.27</td>\n",
       "      <td>32.86</td>\n",
       "    </tr>\n",
       "    <tr>\n",
       "      <th>운북동</th>\n",
       "      <td>20.00</td>\n",
       "      <td>28.95</td>\n",
       "      <td>31.01</td>\n",
       "      <td>19.54</td>\n",
       "      <td>32.82</td>\n",
       "      <td>31.07</td>\n",
       "      <td>6.25</td>\n",
       "      <td>28.90</td>\n",
       "      <td>29.14</td>\n",
       "    </tr>\n",
       "    <tr>\n",
       "      <th>운서동(공항)</th>\n",
       "      <td>15.79</td>\n",
       "      <td>2.19</td>\n",
       "      <td>32.44</td>\n",
       "      <td>24.25</td>\n",
       "      <td>26.67</td>\n",
       "      <td>26.00</td>\n",
       "      <td>2.86</td>\n",
       "      <td>27.27</td>\n",
       "      <td>27.22</td>\n",
       "    </tr>\n",
       "    <tr>\n",
       "      <th>운서동(주거)</th>\n",
       "      <td>17.73</td>\n",
       "      <td>11.28</td>\n",
       "      <td>28.87</td>\n",
       "      <td>38.12</td>\n",
       "      <td>36.43</td>\n",
       "      <td>23.92</td>\n",
       "      <td>4.98</td>\n",
       "      <td>38.53</td>\n",
       "      <td>33.96</td>\n",
       "    </tr>\n",
       "    <tr>\n",
       "      <th>을왕동</th>\n",
       "      <td>0.00</td>\n",
       "      <td>0.00</td>\n",
       "      <td>0.00</td>\n",
       "      <td>0.00</td>\n",
       "      <td>0.00</td>\n",
       "      <td>0.75</td>\n",
       "      <td>0.00</td>\n",
       "      <td>0.00</td>\n",
       "      <td>0.46</td>\n",
       "    </tr>\n",
       "    <tr>\n",
       "      <th>중산동</th>\n",
       "      <td>8.70</td>\n",
       "      <td>15.75</td>\n",
       "      <td>36.69</td>\n",
       "      <td>21.93</td>\n",
       "      <td>34.16</td>\n",
       "      <td>39.16</td>\n",
       "      <td>2.53</td>\n",
       "      <td>28.80</td>\n",
       "      <td>33.53</td>\n",
       "    </tr>\n",
       "    <tr>\n",
       "      <th>계</th>\n",
       "      <td>13.51</td>\n",
       "      <td>11.89</td>\n",
       "      <td>31.97</td>\n",
       "      <td>23.73</td>\n",
       "      <td>36.77</td>\n",
       "      <td>30.89</td>\n",
       "      <td>4.31</td>\n",
       "      <td>33.56</td>\n",
       "      <td>32.07</td>\n",
       "    </tr>\n",
       "  </tbody>\n",
       "</table>\n",
       "</div>"
      ],
      "text/plain": [
       "alight_adm    남북동    덕교동    운남동    운북동  운서동(공항)  운서동(주거)   을왕동    중산동      계\n",
       "board_adm                                                                   \n",
       "남북동          0.00   0.00   0.00   0.00     0.00     5.19  0.00   9.68   4.02\n",
       "덕교동          0.00   0.00   1.54   2.50     0.00     1.64  0.00   4.02   1.97\n",
       "운남동          4.88   7.83  28.01  24.17    43.63    26.97  5.30  33.27  32.86\n",
       "운북동         20.00  28.95  31.01  19.54    32.82    31.07  6.25  28.90  29.14\n",
       "운서동(공항)     15.79   2.19  32.44  24.25    26.67    26.00  2.86  27.27  27.22\n",
       "운서동(주거)     17.73  11.28  28.87  38.12    36.43    23.92  4.98  38.53  33.96\n",
       "을왕동          0.00   0.00   0.00   0.00     0.00     0.75  0.00   0.00   0.46\n",
       "중산동          8.70  15.75  36.69  21.93    34.16    39.16  2.53  28.80  33.53\n",
       "계           13.51  11.89  31.97  23.73    36.77    30.89  4.31  33.56  32.07"
      ]
     },
     "execution_count": 45,
     "metadata": {},
     "output_type": "execute_result"
    }
   ],
   "source": [
    "# 하차완료 / 승차 수요 = 성공률 (o-d)\n",
    "od_table_success_rate"
   ]
  },
  {
   "cell_type": "markdown",
   "metadata": {},
   "source": [
    "## 2-4. Distance"
   ]
  },
  {
   "cell_type": "markdown",
   "metadata": {},
   "source": [
    "order_last (호출이력)"
   ]
  },
  {
   "cell_type": "code",
   "execution_count": 46,
   "metadata": {},
   "outputs": [
    {
     "data": {
      "image/png": "[encoded data removed]",
      "text/plain": [
       "<Figure size 432x288 with 1 Axes>"
      ]
     },
     "metadata": {
      "needs_background": "light"
     },
     "output_type": "display_data"
    }
   ],
   "source": [
    "sns.boxplot(data=order_last['distance'],color='red')\n",
    "plt.show()"
   ]
  },
  {
   "cell_type": "code",
   "execution_count": 47,
   "metadata": {},
   "outputs": [
    {
     "data": {
      "text/plain": [
       "count    288947.000000\n",
       "mean          2.635129\n",
       "std           3.932684\n",
       "min           0.000000\n",
       "25%           0.000000\n",
       "50%           0.000000\n",
       "75%           5.440000\n",
       "max          21.170000\n",
       "Name: distance, dtype: float64"
      ]
     },
     "execution_count": 47,
     "metadata": {},
     "output_type": "execute_result"
    }
   ],
   "source": [
    "order_last['distance'].describe()"
   ]
  },
  {
   "cell_type": "code",
   "execution_count": 48,
   "metadata": {},
   "outputs": [
    {
     "data": {
      "image/png": "[encoded data removed]",
      "text/plain": [
       "<Figure size 432x288 with 1 Axes>"
      ]
     },
     "metadata": {},
     "output_type": "display_data"
    }
   ],
   "source": [
    "sns.set(style=\"darkgrid\")\n",
    "sns.histplot(data=order_last, x='distance', kde=True)\n",
    "plt.show()"
   ]
  },
  {
   "cell_type": "code",
   "execution_count": 54,
   "metadata": {},
   "outputs": [
    {
     "data": {
      "text/plain": [
       "배차불가       142852\n",
       "시뮬레이션취소     36424\n",
       "시스템취소         175\n",
       "탑승취소            3\n",
       "Name: suc_status, dtype: int64"
      ]
     },
     "execution_count": 54,
     "metadata": {},
     "output_type": "execute_result"
    }
   ],
   "source": [
    "order_last[order_last['distance']==0]['suc_status'].value_counts()"
   ]
  },
  {
   "cell_type": "code",
   "execution_count": 49,
   "metadata": {},
   "outputs": [
    {
     "data": {
      "text/plain": [
       "count    109493.000000\n",
       "mean          6.953985\n",
       "std           3.283408\n",
       "min           0.060000\n",
       "25%           4.500000\n",
       "50%           7.100000\n",
       "75%           9.070000\n",
       "max          21.170000\n",
       "Name: distance, dtype: float64"
      ]
     },
     "execution_count": 49,
     "metadata": {},
     "output_type": "execute_result"
    }
   ],
   "source": [
    "# 이동거리가 0인 행 제거\n",
    "\n",
    "order_last[order_last['distance']>0]['distance'].describe()"
   ]
  },
  {
   "cell_type": "code",
   "execution_count": 57,
   "metadata": {},
   "outputs": [
    {
     "data": {
      "image/png": "[encoded data removed]",
      "text/plain": [
       "<Figure size 432x288 with 1 Axes>"
      ]
     },
     "metadata": {},
     "output_type": "display_data"
    }
   ],
   "source": [
    "sns.set(style=\"darkgrid\")\n",
    "sns.histplot(data=order_last[order_last['distance']>0], x='distance', bins = 22, kde=True)\n",
    "plt.show()"
   ]
  },
  {
   "cell_type": "markdown",
   "metadata": {},
   "source": [
    "하차완료 승객 (실제 이동한 승객)"
   ]
  },
  {
   "cell_type": "code",
   "execution_count": 55,
   "metadata": {},
   "outputs": [
    {
     "data": {
      "text/plain": [
       "count    93387.000000\n",
       "mean         7.052473\n",
       "std          3.255165\n",
       "min          0.190000\n",
       "25%          4.630000\n",
       "50%          7.230000\n",
       "75%          9.090000\n",
       "max         21.170000\n",
       "Name: distance, dtype: float64"
      ]
     },
     "execution_count": 55,
     "metadata": {},
     "output_type": "execute_result"
    }
   ],
   "source": [
    "order_last[order_last['suc_status']=='하차완료']['distance'].describe()"
   ]
  },
  {
   "cell_type": "code",
   "execution_count": 58,
   "metadata": {},
   "outputs": [
    {
     "data": {
      "image/png": "[encoded data removed]",
      "text/plain": [
       "<Figure size 432x288 with 1 Axes>"
      ]
     },
     "metadata": {},
     "output_type": "display_data"
    }
   ],
   "source": [
    "sns.set(style=\"darkgrid\")\n",
    "sns.histplot(data=order_last[order_last['suc_status']=='하차완료'], x='distance', bins = 22, kde=True)\n",
    "plt.show()"
   ]
  },
  {
   "cell_type": "markdown",
   "metadata": {},
   "source": [
    "# 3. 승객정보"
   ]
  },
  {
   "cell_type": "markdown",
   "metadata": {},
   "source": [
    "## 3-1. Adult/Teen/Child"
   ]
  },
  {
   "cell_type": "code",
   "execution_count": 5,
   "metadata": {},
   "outputs": [],
   "source": [
    "order_last['passenger_tot'] = order_last['adult'] + order_last['teen'] + order_last['child']"
   ]
  },
  {
   "cell_type": "code",
   "execution_count": 12,
   "metadata": {},
   "outputs": [
    {
     "data": {
      "text/plain": [
       "1    0.914592\n",
       "2    0.074711\n",
       "3    0.008095\n",
       "4    0.001756\n",
       "5    0.000610\n",
       "6    0.000236\n",
       "Name: passenger_tot, dtype: float64"
      ]
     },
     "execution_count": 12,
     "metadata": {},
     "output_type": "execute_result"
    }
   ],
   "source": [
    "order_last[order_last['suc_status']=='하차완료']['passenger_tot'].value_counts(normalize='True')"
   ]
  },
  {
   "cell_type": "code",
   "execution_count": 9,
   "metadata": {},
   "outputs": [
    {
     "data": {
      "text/plain": [
       "adult\n",
       "0    16014\n",
       "1    72960\n",
       "2     4128\n",
       "3      205\n",
       "4       50\n",
       "5       18\n",
       "6       12\n",
       "Name: ID, dtype: int64"
      ]
     },
     "execution_count": 9,
     "metadata": {},
     "output_type": "execute_result"
    }
   ],
   "source": [
    "order_last[order_last['suc_status']=='하차완료'].groupby('adult')['ID'].count()"
   ]
  },
  {
   "cell_type": "code",
   "execution_count": 13,
   "metadata": {},
   "outputs": [
    {
     "data": {
      "text/plain": [
       "teen\n",
       "0    77900\n",
       "1    13493\n",
       "2     1641\n",
       "3      255\n",
       "4       68\n",
       "5       22\n",
       "6        8\n",
       "Name: ID, dtype: int64"
      ]
     },
     "execution_count": 13,
     "metadata": {},
     "output_type": "execute_result"
    }
   ],
   "source": [
    "order_last[order_last['suc_status']=='하차완료'].groupby('teen')['ID'].count()"
   ]
  },
  {
   "cell_type": "code",
   "execution_count": 14,
   "metadata": {},
   "outputs": [
    {
     "data": {
      "text/plain": [
       "child\n",
       "0    91166\n",
       "1     1937\n",
       "2      253\n",
       "3       24\n",
       "4        7\n",
       "Name: ID, dtype: int64"
      ]
     },
     "execution_count": 14,
     "metadata": {},
     "output_type": "execute_result"
    }
   ],
   "source": [
    "order_last[order_last['suc_status']=='하차완료'].groupby('child')['ID'].count()"
   ]
  },
  {
   "cell_type": "code",
   "execution_count": 16,
   "metadata": {},
   "outputs": [
    {
     "data": {
      "text/html": [
       "<div>\n",
       "<style scoped>\n",
       "    .dataframe tbody tr th:only-of-type {\n",
       "        vertical-align: middle;\n",
       "    }\n",
       "\n",
       "    .dataframe tbody tr th {\n",
       "        vertical-align: top;\n",
       "    }\n",
       "\n",
       "    .dataframe thead th {\n",
       "        text-align: right;\n",
       "    }\n",
       "</style>\n",
       "<table border=\"1\" class=\"dataframe\">\n",
       "  <thead>\n",
       "    <tr style=\"text-align: right;\">\n",
       "      <th></th>\n",
       "      <th>ID</th>\n",
       "      <th>board_station</th>\n",
       "      <th>alight_station</th>\n",
       "      <th>adult</th>\n",
       "      <th>teen</th>\n",
       "      <th>child</th>\n",
       "      <th>distance</th>\n",
       "      <th>fare</th>\n",
       "      <th>suc_status</th>\n",
       "      <th>suc_status_d</th>\n",
       "      <th>call_time</th>\n",
       "      <th>board_time</th>\n",
       "      <th>alight_time</th>\n",
       "      <th>suc_time</th>\n",
       "      <th>cancel_time</th>\n",
       "      <th>x</th>\n",
       "      <th>y</th>\n",
       "      <th>board_adm</th>\n",
       "      <th>alight_adm</th>\n",
       "    </tr>\n",
       "  </thead>\n",
       "  <tbody>\n",
       "    <tr>\n",
       "      <th>0</th>\n",
       "      <td>1</td>\n",
       "      <td>10258</td>\n",
       "      <td>10093</td>\n",
       "      <td>1</td>\n",
       "      <td>0</td>\n",
       "      <td>0</td>\n",
       "      <td>0.00</td>\n",
       "      <td>0</td>\n",
       "      <td>배차불가</td>\n",
       "      <td>NaN</td>\n",
       "      <td>2021-02-15 00:00:24</td>\n",
       "      <td>NaN</td>\n",
       "      <td>NaN</td>\n",
       "      <td>NaN</td>\n",
       "      <td>2021-02-15 00:00:25</td>\n",
       "      <td>37.508302</td>\n",
       "      <td>126.513957</td>\n",
       "      <td>운북동</td>\n",
       "      <td>운남동</td>\n",
       "    </tr>\n",
       "    <tr>\n",
       "      <th>1</th>\n",
       "      <td>7</td>\n",
       "      <td>10258</td>\n",
       "      <td>12005</td>\n",
       "      <td>1</td>\n",
       "      <td>0</td>\n",
       "      <td>0</td>\n",
       "      <td>0.00</td>\n",
       "      <td>0</td>\n",
       "      <td>배차불가</td>\n",
       "      <td>NaN</td>\n",
       "      <td>2021-02-15 00:00:35</td>\n",
       "      <td>NaN</td>\n",
       "      <td>NaN</td>\n",
       "      <td>NaN</td>\n",
       "      <td>2021-02-15 00:00:35</td>\n",
       "      <td>37.508586</td>\n",
       "      <td>126.513748</td>\n",
       "      <td>운북동</td>\n",
       "      <td>운서동(주거)</td>\n",
       "    </tr>\n",
       "    <tr>\n",
       "      <th>2</th>\n",
       "      <td>1</td>\n",
       "      <td>10258</td>\n",
       "      <td>10093</td>\n",
       "      <td>1</td>\n",
       "      <td>0</td>\n",
       "      <td>0</td>\n",
       "      <td>0.00</td>\n",
       "      <td>0</td>\n",
       "      <td>배차불가</td>\n",
       "      <td>NaN</td>\n",
       "      <td>2021-02-15 00:00:46</td>\n",
       "      <td>NaN</td>\n",
       "      <td>NaN</td>\n",
       "      <td>NaN</td>\n",
       "      <td>2021-02-15 00:00:46</td>\n",
       "      <td>37.508371</td>\n",
       "      <td>126.514027</td>\n",
       "      <td>운북동</td>\n",
       "      <td>운남동</td>\n",
       "    </tr>\n",
       "    <tr>\n",
       "      <th>3</th>\n",
       "      <td>7901</td>\n",
       "      <td>10258</td>\n",
       "      <td>10196</td>\n",
       "      <td>1</td>\n",
       "      <td>0</td>\n",
       "      <td>0</td>\n",
       "      <td>0.00</td>\n",
       "      <td>0</td>\n",
       "      <td>배차불가</td>\n",
       "      <td>NaN</td>\n",
       "      <td>2021-02-15 00:00:47</td>\n",
       "      <td>NaN</td>\n",
       "      <td>NaN</td>\n",
       "      <td>NaN</td>\n",
       "      <td>2021-02-15 00:00:47</td>\n",
       "      <td>37.508612</td>\n",
       "      <td>126.513747</td>\n",
       "      <td>운북동</td>\n",
       "      <td>운북동</td>\n",
       "    </tr>\n",
       "    <tr>\n",
       "      <th>4</th>\n",
       "      <td>7</td>\n",
       "      <td>10258</td>\n",
       "      <td>12005</td>\n",
       "      <td>1</td>\n",
       "      <td>0</td>\n",
       "      <td>0</td>\n",
       "      <td>0.00</td>\n",
       "      <td>0</td>\n",
       "      <td>배차불가</td>\n",
       "      <td>NaN</td>\n",
       "      <td>2021-02-15 00:00:56</td>\n",
       "      <td>NaN</td>\n",
       "      <td>NaN</td>\n",
       "      <td>NaN</td>\n",
       "      <td>2021-02-15 00:00:56</td>\n",
       "      <td>37.508598</td>\n",
       "      <td>126.513748</td>\n",
       "      <td>운북동</td>\n",
       "      <td>운서동(주거)</td>\n",
       "    </tr>\n",
       "    <tr>\n",
       "      <th>...</th>\n",
       "      <td>...</td>\n",
       "      <td>...</td>\n",
       "      <td>...</td>\n",
       "      <td>...</td>\n",
       "      <td>...</td>\n",
       "      <td>...</td>\n",
       "      <td>...</td>\n",
       "      <td>...</td>\n",
       "      <td>...</td>\n",
       "      <td>...</td>\n",
       "      <td>...</td>\n",
       "      <td>...</td>\n",
       "      <td>...</td>\n",
       "      <td>...</td>\n",
       "      <td>...</td>\n",
       "      <td>...</td>\n",
       "      <td>...</td>\n",
       "      <td>...</td>\n",
       "      <td>...</td>\n",
       "    </tr>\n",
       "    <tr>\n",
       "      <th>3657171</th>\n",
       "      <td>11188</td>\n",
       "      <td>10910</td>\n",
       "      <td>10183</td>\n",
       "      <td>1</td>\n",
       "      <td>0</td>\n",
       "      <td>0</td>\n",
       "      <td>0.00</td>\n",
       "      <td>0</td>\n",
       "      <td>시뮬레이션취소</td>\n",
       "      <td>NaN</td>\n",
       "      <td>2022-07-02 22:57:35</td>\n",
       "      <td>NaN</td>\n",
       "      <td>NaN</td>\n",
       "      <td>NaN</td>\n",
       "      <td>2022-07-02 22:57:44</td>\n",
       "      <td>37.488924</td>\n",
       "      <td>126.559806</td>\n",
       "      <td>중산동</td>\n",
       "      <td>중산동</td>\n",
       "    </tr>\n",
       "    <tr>\n",
       "      <th>3657172</th>\n",
       "      <td>11188</td>\n",
       "      <td>10910</td>\n",
       "      <td>10183</td>\n",
       "      <td>1</td>\n",
       "      <td>0</td>\n",
       "      <td>0</td>\n",
       "      <td>0.00</td>\n",
       "      <td>0</td>\n",
       "      <td>배차불가</td>\n",
       "      <td>NaN</td>\n",
       "      <td>2022-07-02 22:57:55</td>\n",
       "      <td>NaN</td>\n",
       "      <td>NaN</td>\n",
       "      <td>NaN</td>\n",
       "      <td>2022-07-02 22:57:56</td>\n",
       "      <td>37.488924</td>\n",
       "      <td>126.559806</td>\n",
       "      <td>중산동</td>\n",
       "      <td>중산동</td>\n",
       "    </tr>\n",
       "    <tr>\n",
       "      <th>3657173</th>\n",
       "      <td>11188</td>\n",
       "      <td>10910</td>\n",
       "      <td>10183</td>\n",
       "      <td>1</td>\n",
       "      <td>0</td>\n",
       "      <td>0</td>\n",
       "      <td>0.00</td>\n",
       "      <td>0</td>\n",
       "      <td>배차불가</td>\n",
       "      <td>NaN</td>\n",
       "      <td>2022-07-02 22:58:07</td>\n",
       "      <td>NaN</td>\n",
       "      <td>NaN</td>\n",
       "      <td>NaN</td>\n",
       "      <td>2022-07-02 22:58:07</td>\n",
       "      <td>37.488924</td>\n",
       "      <td>126.559806</td>\n",
       "      <td>중산동</td>\n",
       "      <td>중산동</td>\n",
       "    </tr>\n",
       "    <tr>\n",
       "      <th>3657174</th>\n",
       "      <td>11188</td>\n",
       "      <td>10910</td>\n",
       "      <td>10183</td>\n",
       "      <td>1</td>\n",
       "      <td>0</td>\n",
       "      <td>0</td>\n",
       "      <td>2.63</td>\n",
       "      <td>1800</td>\n",
       "      <td>하차완료</td>\n",
       "      <td>NaN</td>\n",
       "      <td>2022-07-02 22:58:17</td>\n",
       "      <td>2022-07-02 23:03:44</td>\n",
       "      <td>2022-07-02 23:15:47</td>\n",
       "      <td>2022-07-02 22:58:24</td>\n",
       "      <td>NaN</td>\n",
       "      <td>37.488924</td>\n",
       "      <td>126.559806</td>\n",
       "      <td>중산동</td>\n",
       "      <td>중산동</td>\n",
       "    </tr>\n",
       "    <tr>\n",
       "      <th>3657175</th>\n",
       "      <td>1418</td>\n",
       "      <td>10046</td>\n",
       "      <td>10275</td>\n",
       "      <td>1</td>\n",
       "      <td>0</td>\n",
       "      <td>0</td>\n",
       "      <td>4.61</td>\n",
       "      <td>1800</td>\n",
       "      <td>하차완료</td>\n",
       "      <td>NaN</td>\n",
       "      <td>2022-07-02 22:59:05</td>\n",
       "      <td>2022-07-02 23:13:50</td>\n",
       "      <td>2022-07-02 23:23:14</td>\n",
       "      <td>2022-07-02 22:59:16</td>\n",
       "      <td>NaN</td>\n",
       "      <td>37.512409</td>\n",
       "      <td>126.524106</td>\n",
       "      <td>운북동</td>\n",
       "      <td>중산동</td>\n",
       "    </tr>\n",
       "  </tbody>\n",
       "</table>\n",
       "<p>3657176 rows × 19 columns</p>\n",
       "</div>"
      ],
      "text/plain": [
       "            ID  board_station  alight_station  adult  teen  child  distance  \\\n",
       "0            1          10258           10093      1     0      0      0.00   \n",
       "1            7          10258           12005      1     0      0      0.00   \n",
       "2            1          10258           10093      1     0      0      0.00   \n",
       "3         7901          10258           10196      1     0      0      0.00   \n",
       "4            7          10258           12005      1     0      0      0.00   \n",
       "...        ...            ...             ...    ...   ...    ...       ...   \n",
       "3657171  11188          10910           10183      1     0      0      0.00   \n",
       "3657172  11188          10910           10183      1     0      0      0.00   \n",
       "3657173  11188          10910           10183      1     0      0      0.00   \n",
       "3657174  11188          10910           10183      1     0      0      2.63   \n",
       "3657175   1418          10046           10275      1     0      0      4.61   \n",
       "\n",
       "         fare suc_status suc_status_d            call_time  \\\n",
       "0           0       배차불가          NaN  2021-02-15 00:00:24   \n",
       "1           0       배차불가          NaN  2021-02-15 00:00:35   \n",
       "2           0       배차불가          NaN  2021-02-15 00:00:46   \n",
       "3           0       배차불가          NaN  2021-02-15 00:00:47   \n",
       "4           0       배차불가          NaN  2021-02-15 00:00:56   \n",
       "...       ...        ...          ...                  ...   \n",
       "3657171     0    시뮬레이션취소          NaN  2022-07-02 22:57:35   \n",
       "3657172     0       배차불가          NaN  2022-07-02 22:57:55   \n",
       "3657173     0       배차불가          NaN  2022-07-02 22:58:07   \n",
       "3657174  1800       하차완료          NaN  2022-07-02 22:58:17   \n",
       "3657175  1800       하차완료          NaN  2022-07-02 22:59:05   \n",
       "\n",
       "                  board_time          alight_time             suc_time  \\\n",
       "0                        NaN                  NaN                  NaN   \n",
       "1                        NaN                  NaN                  NaN   \n",
       "2                        NaN                  NaN                  NaN   \n",
       "3                        NaN                  NaN                  NaN   \n",
       "4                        NaN                  NaN                  NaN   \n",
       "...                      ...                  ...                  ...   \n",
       "3657171                  NaN                  NaN                  NaN   \n",
       "3657172                  NaN                  NaN                  NaN   \n",
       "3657173                  NaN                  NaN                  NaN   \n",
       "3657174  2022-07-02 23:03:44  2022-07-02 23:15:47  2022-07-02 22:58:24   \n",
       "3657175  2022-07-02 23:13:50  2022-07-02 23:23:14  2022-07-02 22:59:16   \n",
       "\n",
       "                 cancel_time          x           y board_adm alight_adm  \n",
       "0        2021-02-15 00:00:25  37.508302  126.513957       운북동        운남동  \n",
       "1        2021-02-15 00:00:35  37.508586  126.513748       운북동    운서동(주거)  \n",
       "2        2021-02-15 00:00:46  37.508371  126.514027       운북동        운남동  \n",
       "3        2021-02-15 00:00:47  37.508612  126.513747       운북동        운북동  \n",
       "4        2021-02-15 00:00:56  37.508598  126.513748       운북동    운서동(주거)  \n",
       "...                      ...        ...         ...       ...        ...  \n",
       "3657171  2022-07-02 22:57:44  37.488924  126.559806       중산동        중산동  \n",
       "3657172  2022-07-02 22:57:56  37.488924  126.559806       중산동        중산동  \n",
       "3657173  2022-07-02 22:58:07  37.488924  126.559806       중산동        중산동  \n",
       "3657174                  NaN  37.488924  126.559806       중산동        중산동  \n",
       "3657175                  NaN  37.512409  126.524106       운북동        중산동  \n",
       "\n",
       "[3657176 rows x 19 columns]"
      ]
     },
     "execution_count": 16,
     "metadata": {},
     "output_type": "execute_result"
    }
   ],
   "source": [
    "order"
   ]
  },
  {
   "cell_type": "code",
   "execution_count": null,
   "metadata": {},
   "outputs": [],
   "source": []
  }
 ],
 "metadata": {
  "kernelspec": {
   "display_name": "Python 3",
   "language": "python",
   "name": "python3"
  },
  "language_info": {
   "codemirror_mode": {
    "name": "ipython",
    "version": 3
   },
   "file_extension": ".py",
   "mimetype": "text/x-python",
   "name": "python",
   "nbconvert_exporter": "python",
   "pygments_lexer": "ipython3",
   "version": "3.9.13"
  },
  "orig_nbformat": 4
 },
 "nbformat": 4,
 "nbformat_minor": 2
}
